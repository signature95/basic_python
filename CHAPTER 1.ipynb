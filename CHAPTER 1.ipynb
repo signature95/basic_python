{
 "cells": [
  {
   "cell_type": "markdown",
   "id": "40080d7f",
   "metadata": {},
   "source": [
    "This is an H1\n",
    "===="
   ]
  },
  {
   "cell_type": "markdown",
   "id": "2d50aaa8",
   "metadata": {},
   "source": [
    "This is an H2\n",
    "------------\n",
    "----\n"
   ]
  },
  {
   "cell_type": "markdown",
   "id": "cdb17953",
   "metadata": {},
   "source": [
    "# This is a H1\n",
    "## This is a H2\n",
    "### This is a H3\n",
    "#### This is a H4\n",
    "##### This is a H5\n",
    "###### This is a H6"
   ]
  },
  {
   "cell_type": "markdown",
   "id": "f6b28aeb",
   "metadata": {},
   "source": [
    "> This is a first blockqute.\n",
    ">\t> This is a second blockqute.\n",
    ">\t>\t> This is a third blockqute."
   ]
  },
  {
   "cell_type": "markdown",
   "id": "57172f19",
   "metadata": {},
   "source": [
    "1. 첫번째\n",
    "2. 두번째\n",
    "3. 세번째"
   ]
  },
  {
   "cell_type": "markdown",
   "id": "744a7e2f",
   "metadata": {},
   "source": [
    "* 빨강\n",
    "  * 녹색\n",
    "    * 파랑\n",
    "\n",
    "+ 빨강\n",
    "  + 녹색\n",
    "    + 파랑\n",
    "\n",
    "- 빨강\n",
    "  - 녹색\n",
    "    - 파랑\n",
    "        "
   ]
  },
  {
   "cell_type": "markdown",
   "id": "32b1ae6f",
   "metadata": {},
   "source": [
    "1. 첫번째\n",
    "3. 두번째\n",
    "2. 세번째"
   ]
  },
  {
   "cell_type": "markdown",
   "id": "affd56f4",
   "metadata": {},
   "source": []
  }
 ],
 "metadata": {
  "kernelspec": {
   "display_name": "Python 3",
   "language": "python",
   "name": "python3"
  },
  "language_info": {
   "codemirror_mode": {
    "name": "ipython",
    "version": 3
   },
   "file_extension": ".py",
   "mimetype": "text/x-python",
   "name": "python",
   "nbconvert_exporter": "python",
   "pygments_lexer": "ipython3",
   "version": "3.8.8"
  }
 },
 "nbformat": 4,
 "nbformat_minor": 5
}

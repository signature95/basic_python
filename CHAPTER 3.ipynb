{
 "cells": [
  {
   "cell_type": "markdown",
   "id": "4d1eea47",
   "metadata": {},
   "source": [
    "# 1. print() 함수를 사용한 다양한 출력(1)"
   ]
  },
  {
   "cell_type": "code",
   "execution_count": 13,
   "id": "3027e645",
   "metadata": {},
   "outputs": [
    {
     "name": "stdout",
     "output_type": "stream",
     "text": [
      "123\n"
     ]
    }
   ],
   "source": [
    "print(\"%d\" % 123)"
   ]
  },
  {
   "cell_type": "code",
   "execution_count": 14,
   "id": "5cd488d1",
   "metadata": {},
   "outputs": [
    {
     "name": "stdout",
     "output_type": "stream",
     "text": [
      "  123\n"
     ]
    }
   ],
   "source": [
    "print(\"%5d\" % 123)"
   ]
  },
  {
   "cell_type": "code",
   "execution_count": 15,
   "id": "f340dd8a",
   "metadata": {},
   "outputs": [
    {
     "name": "stdout",
     "output_type": "stream",
     "text": [
      "00123\n"
     ]
    }
   ],
   "source": [
    "print(\"%05d\" % 123)"
   ]
  },
  {
   "cell_type": "code",
   "execution_count": 16,
   "id": "b77ab0fb",
   "metadata": {},
   "outputs": [
    {
     "name": "stdout",
     "output_type": "stream",
     "text": [
      "123.450000\n"
     ]
    }
   ],
   "source": [
    "print(\"%f\" % 123.45)"
   ]
  },
  {
   "cell_type": "code",
   "execution_count": 17,
   "id": "51a0cf42",
   "metadata": {},
   "outputs": [
    {
     "name": "stdout",
     "output_type": "stream",
     "text": [
      "  123.5\n"
     ]
    }
   ],
   "source": [
    "print(\"%7.1f\" % 123.45)"
   ]
  },
  {
   "cell_type": "code",
   "execution_count": 4,
   "id": "be9f9eda",
   "metadata": {},
   "outputs": [
    {
     "name": "stdout",
     "output_type": "stream",
     "text": [
      "123.450\n"
     ]
    }
   ],
   "source": [
    "print(\"%7.3f\" % 123.45)"
   ]
  },
  {
   "cell_type": "code",
   "execution_count": 19,
   "id": "64d17232",
   "metadata": {},
   "outputs": [
    {
     "name": "stdout",
     "output_type": "stream",
     "text": [
      "Python\n"
     ]
    }
   ],
   "source": [
    "print(\"%s\" % \"Python\")"
   ]
  },
  {
   "cell_type": "code",
   "execution_count": 20,
   "id": "9d12b891",
   "metadata": {
    "scrolled": true
   },
   "outputs": [
    {
     "name": "stdout",
     "output_type": "stream",
     "text": [
      "    Python\n"
     ]
    }
   ],
   "source": [
    "print(\"%10s\" % \"Python\")"
   ]
  },
  {
   "cell_type": "markdown",
   "id": "7074fcc4",
   "metadata": {},
   "source": [
    "# 2. print() 함수를 사용한 다양한 출력(2)"
   ]
  },
  {
   "cell_type": "code",
   "execution_count": 15,
   "id": "1322cd25",
   "metadata": {
    "scrolled": true
   },
   "outputs": [
    {
     "name": "stdout",
     "output_type": "stream",
     "text": [
      "\n",
      "줄 바꿈\n",
      "연습 \n",
      "\t탭 키\t연습\n",
      "글자가 \"강조\"되는 효과1\n",
      "글자가 '강조'되는 효과2\n",
      "\\\\\\역슬래시 세 개 출력\n",
      "\\n \\t \\\" \\\\를 그대로 출력\n",
      "'d\\t'\n"
     ]
    }
   ],
   "source": [
    "print(\"\\n줄 바꿈\\n연습 \")\n",
    "print(\"\\t탭 키\\t연습\")\n",
    "print(\"글자가 \\\"강조\\\"되는 효과1\")\n",
    "print(\"글자가 \\'강조\\'되는 효과2\")\n",
    "print(\"\\\\\\\\\\\\역슬래시 세 개 출력\")\n",
    "print(r\"\\n \\t \\\" \\\\를 그대로 출력\")\n"
   ]
  },
  {
   "cell_type": "code",
   "execution_count": 6,
   "id": "158d4167",
   "metadata": {},
   "outputs": [
    {
     "name": "stdout",
     "output_type": "stream",
     "text": [
      "'안녕'하세요\n",
      "\"안녕\"하세요\n",
      "\"안녕\"하세요\n"
     ]
    }
   ],
   "source": [
    "print(\"'안녕'하세요\")\n",
    "print('\"안녕\"하세요')\n",
    "print(\"\\\"안녕\\\"하세요\")"
   ]
  },
  {
   "cell_type": "markdown",
   "id": "b9c50fe6",
   "metadata": {},
   "source": [
    "# 3. 다이아몬드 모양 출력하기"
   ]
  },
  {
   "cell_type": "code",
   "execution_count": 3,
   "id": "7ce2983e",
   "metadata": {
    "scrolled": true
   },
   "outputs": [
    {
     "name": "stdout",
     "output_type": "stream",
     "text": [
      "    *    \n",
      "   ***   \n",
      "  *****  \n",
      " ******* \n",
      "*********\n",
      " ******* \n",
      "  *****  \n",
      "   ***   \n",
      "    *    \n"
     ]
    }
   ],
   "source": [
    "print(\"    *    \")\n",
    "print(\"   ***   \")\n",
    "print(\"  *****  \")\n",
    "print(\" ******* \")\n",
    "print(\"*********\")\n",
    "print(\" ******* \")\n",
    "print(\"  *****  \")\n",
    "print(\"   ***   \")\n",
    "print(\"    *    \")\n",
    "\n"
   ]
  },
  {
   "cell_type": "code",
   "execution_count": 3,
   "id": "26e2be47",
   "metadata": {},
   "outputs": [
    {
     "name": "stdout",
     "output_type": "stream",
     "text": [
      "    *\n",
      "   ***\n",
      "  *****\n",
      " *******\n",
      "*********\n",
      " *******\n",
      "  *****\n",
      "   ***\n",
      "    *\n"
     ]
    }
   ],
   "source": [
    "print(\"%5s\" %('*'))\n",
    "print(\"%6s\" %('***'))\n",
    "print(\"%7s\" %('*****'))\n",
    "print(\"%8s\" %('*******'))\n",
    "print(\"%9s\" %('*********'))\n",
    "print(\"%8s\" %('*******'))\n",
    "print(\"%7s\" %('*****'))\n",
    "print(\"%6s\" %('***'))\n",
    "print(\"%5s\" %('*'))"
   ]
  },
  {
   "cell_type": "code",
   "execution_count": 7,
   "id": "8b7c35af",
   "metadata": {},
   "outputs": [
    {
     "name": "stdout",
     "output_type": "stream",
     "text": [
      "*********\n",
      " ******* \n",
      "  *****  \n",
      "   ***   \n",
      "    *    \n",
      "   ***   \n",
      "  *****  \n",
      " ******* \n",
      "*********\n"
     ]
    }
   ],
   "source": [
    "print(\"*********\")\n",
    "print(\" ******* \")\n",
    "print(\"  *****  \")\n",
    "print(\"   ***   \")\n",
    "print(\"    *    \")\n",
    "print(\"   ***   \")\n",
    "print(\"  *****  \")\n",
    "print(\" ******* \")\n",
    "print(\"*********\")"
   ]
  },
  {
   "cell_type": "code",
   "execution_count": 8,
   "id": "346d8b81",
   "metadata": {},
   "outputs": [
    {
     "name": "stdout",
     "output_type": "stream",
     "text": [
      "*********\n",
      " *******\n",
      "  *****\n",
      "   ***\n",
      "    *\n",
      "   ***\n",
      "  *****\n",
      " *******\n",
      "*********\n"
     ]
    }
   ],
   "source": [
    "print(\"%s\" %('*********'))\n",
    "print(\"%8s\" %('*******'))\n",
    "print(\"%7s\" %('*****'))\n",
    "print(\"%6s\" %('***'))\n",
    "print(\"%5s\" %('*'))\n",
    "print(\"%6s\" %('***'))\n",
    "print(\"%7s\" %('*****'))\n",
    "print(\"%8s\" %('*******'))\n",
    "print(\"%9s\" %('*********'))"
   ]
  },
  {
   "cell_type": "code",
   "execution_count": 10,
   "id": "b1022409",
   "metadata": {},
   "outputs": [
    {
     "name": "stdout",
     "output_type": "stream",
     "text": [
      "1000\n",
      "1000\n"
     ]
    }
   ],
   "source": [
    "a = 100\n",
    "b = 10\n",
    "c = a * b\n",
    "print(c)\n",
    "b = 20\n",
    "print(c)"
   ]
  },
  {
   "cell_type": "code",
   "execution_count": 22,
   "id": "10e36653",
   "metadata": {},
   "outputs": [
    {
     "name": "stdout",
     "output_type": "stream",
     "text": [
      "<class 'bool'>\n"
     ]
    }
   ],
   "source": [
    "a = 10\n",
    "b = 'hi'\n",
    "c = 3.14\n",
    "d = True #1\n",
    "e = False #0\n",
    "print(type(d))"
   ]
  },
  {
   "cell_type": "code",
   "execution_count": 41,
   "id": "bb69d921",
   "metadata": {},
   "outputs": [],
   "source": [
    "a = 10"
   ]
  },
  {
   "cell_type": "code",
   "execution_count": 45,
   "id": "07a0db96",
   "metadata": {},
   "outputs": [
    {
     "data": {
      "text/plain": [
       "'0o11'"
      ]
     },
     "execution_count": 45,
     "metadata": {},
     "output_type": "execute_result"
    }
   ],
   "source": [
    "oct(9)"
   ]
  },
  {
   "cell_type": "markdown",
   "id": "a1b5f883",
   "metadata": {},
   "source": [
    "# 4. 진수 변환"
   ]
  },
  {
   "cell_type": "code",
   "execution_count": 48,
   "id": "74ecc0d5",
   "metadata": {},
   "outputs": [
    {
     "name": "stdout",
     "output_type": "stream",
     "text": [
      "출력 진수 결정(16/10/8/2) : 8\n",
      "값 입력 : 15\n",
      "8진수 ==>  0o17\n"
     ]
    }
   ],
   "source": [
    "sel = int(input(\"출력 진수 결정(16/10/8/2) : \"))\n",
    "num = int(input(\"값 입력 : \"))\n",
    "\n",
    "if sel == 16 :\n",
    "    print(\"16진수 ==> \", hex(num))\n",
    "if sel == 10 :\n",
    "    print(\"10진수 ==> \", num)\n",
    "if sel == 8 :\n",
    "    print(\"8진수 ==> \", oct(num))\n",
    "if sel == 2 :\n",
    "    print(\"2진수 ==> \", bin(num))\n",
    "    \n",
    "\n"
   ]
  },
  {
   "cell_type": "code",
   "execution_count": 46,
   "id": "3a9d5325",
   "metadata": {},
   "outputs": [
    {
     "data": {
      "text/plain": [
       "'0xf'"
      ]
     },
     "execution_count": 46,
     "metadata": {},
     "output_type": "execute_result"
    }
   ],
   "source": [
    "hex(15)"
   ]
  },
  {
   "cell_type": "code",
   "execution_count": 52,
   "id": "ba1bbb5d",
   "metadata": {},
   "outputs": [
    {
     "name": "stdout",
     "output_type": "stream",
     "text": [
      "10\n",
      "<class 'str'>\n",
      "<class 'int'>\n"
     ]
    }
   ],
   "source": [
    "a = input()\n",
    "b = int(a)\n",
    "print(type(a))\n",
    "print(type(b))"
   ]
  },
  {
   "cell_type": "code",
   "execution_count": 55,
   "id": "9ccdc9c8",
   "metadata": {},
   "outputs": [
    {
     "name": "stdout",
     "output_type": "stream",
     "text": [
      "<class 'float'>\n",
      "<class 'str'>\n"
     ]
    }
   ],
   "source": [
    "a = 3.2\n",
    "print(type(a))\n",
    "b = str(a)\n",
    "print(type(b))"
   ]
  },
  {
   "cell_type": "code",
   "execution_count": 57,
   "id": "0fa7c452",
   "metadata": {},
   "outputs": [
    {
     "name": "stdout",
     "output_type": "stream",
     "text": [
      "H\n",
      "e\n"
     ]
    }
   ],
   "source": [
    "b = 'Hello'\n",
    "print(b[0])\n",
    "print(b[1])"
   ]
  },
  {
   "cell_type": "code",
   "execution_count": 61,
   "id": "753ea4c4",
   "metadata": {},
   "outputs": [
    {
     "name": "stdout",
     "output_type": "stream",
     "text": [
      "1.22e-07\n"
     ]
    }
   ],
   "source": [
    "a = 1.22e-7\n",
    "print(a)"
   ]
  },
  {
   "cell_type": "markdown",
   "id": "716f4cb9",
   "metadata": {},
   "source": [
    "# 5. 함수 선언 및 실행"
   ]
  },
  {
   "cell_type": "code",
   "execution_count": 8,
   "id": "b358654b",
   "metadata": {},
   "outputs": [
    {
     "name": "stdout",
     "output_type": "stream",
     "text": [
      "메인 함수 부분이 실행됩니다.\n",
      "함수를 호출함.\n",
      "전역 변수 값: 100\n"
     ]
    }
   ],
   "source": [
    "## 함수 선언 부분 ##\n",
    "def myFunc() :\n",
    "    print('함수를 호출함.')\n",
    "    \n",
    "## 전역 변수 선언 부분 ##\n",
    "gVar = 100\n",
    "\n",
    "## 메인 코드 부분 ##\n",
    "if __name__ == '__main__' :\n",
    "    print('메인 함수 부분이 실행됩니다.')\n",
    "    myFunc()\n",
    "    print('전역 변수 값:', gVar)\n",
    "\n",
    "    \n",
    "\n"
   ]
  }
 ],
 "metadata": {
  "kernelspec": {
   "display_name": "Python 3",
   "language": "python",
   "name": "python3"
  },
  "language_info": {
   "codemirror_mode": {
    "name": "ipython",
    "version": 3
   },
   "file_extension": ".py",
   "mimetype": "text/x-python",
   "name": "python",
   "nbconvert_exporter": "python",
   "pygments_lexer": "ipython3",
   "version": "3.9.2+"
  }
 },
 "nbformat": 4,
 "nbformat_minor": 5
}

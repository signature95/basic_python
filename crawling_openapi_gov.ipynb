{
 "cells": [
  {
   "cell_type": "markdown",
   "metadata": {},
   "source": [
    "<div class=\"alert alert-block\" style=\"border: 1px solid #455A64;background-color:#ECEFF1;\">\n",
    "본 자료 및 영상 컨텐츠는 저작권법 제25조 2항에 의해 보호를 받습니다. 본 컨텐츠 및 컨텐츠 일부 문구등을 외부에 공개, 게시하는 것을 금지합니다.\n",
    "</div>"
   ]
  },
  {
   "cell_type": "markdown",
   "metadata": {},
   "source": [
    "## 다양한 Open API 사용하기\n",
    "\n",
    "### 정부3.0 공공 데이터 포털 API 사용하기\n",
    "\n",
    "* 공공 데이터 포털 가입하기\n",
    "  - https://www.data.go.kr\n",
    "  - 회원가입 -> 로그인 -> '한국환경공단_대기오염정보' 으로 검색 후, 해당 Open API 페이지로 이동\n",
    "     > 공공 데이터 포털은 공인된 기관임에도 아쉽게도, 메뉴와 Open API 가 링크 등이 수시로 바뀌고 있습니다. \n",
    "  - 해당 API 에서 활용신청을 통해 인증키를 발급받은 후, 샘플코드 또는 페이지에 링크되어 있는 문서 또는 가이드를 기반으로 테스트 진행\n",
    "  \n",
    "   <img src=\"https://www.fun-coding.org/00_Images/governapi.png\" />  \n",
    "    "
   ]
  },
  {
   "cell_type": "markdown",
   "metadata": {},
   "source": [
    "- JSON 이외에 XML 포멧으로 데이터를 다루는 경우도 많음\n",
    "  - XML 관련 내용은 '다양한 데이터 읽기 - XML 파일' 참조"
   ]
  },
  {
   "cell_type": "code",
   "execution_count": null,
   "metadata": {},
   "outputs": [],
   "source": [
    "from urllib2 import Request, urlopen\n",
    "from urllib import urlencode, quote_plus\n",
    "\n",
    "url = 'http://apis.data.go.kr/B552584/ArpltnInforInqireSvc/getMinuDustFrcstDspth'\n",
    "queryParams = '?' + urlencode({ quote_plus('ServiceKey') : '서비스키', quote_plus('serviceKey') : '-', quote_plus('returnType') : 'xml', quote_plus('numOfRows') : '100', quote_plus('pageNo') : '1', quote_plus('searchDate') : '2020-11-14', quote_plus('InformCode') : 'PM10' })\n",
    "\n",
    "request = Request(url + queryParams)\n",
    "request.get_method = lambda: 'GET'\n",
    "response_body = urlopen(request).read()\n",
    "print response_body"
   ]
  },
  {
   "cell_type": "code",
   "execution_count": null,
   "metadata": {},
   "outputs": [],
   "source": []
  },
  {
   "cell_type": "code",
   "execution_count": 19,
   "metadata": {
    "scrolled": true
   },
   "outputs": [
    {
     "name": "stdout",
     "output_type": "stream",
     "text": [
      "{'response': {'body': {'items': [{'coValue': '.4',\n",
      "                                  'msrstnName': '부산신항',\n",
      "                                  'msurDt': '2021-01-01',\n",
      "                                  'no2Value': '.0285',\n",
      "                                  'o3Value': '.017',\n",
      "                                  'pm10Value': '21',\n",
      "                                  'pm25Value': '18',\n",
      "                                  'so2Value': '.0043'},\n",
      "                                 {'coValue': '.4',\n",
      "                                  'msrstnName': '반송로',\n",
      "                                  'msurDt': '2021-01-01',\n",
      "                                  'no2Value': '.0205',\n",
      "                                  'o3Value': '.016',\n",
      "                                  'pm10Value': '18',\n",
      "                                  'pm25Value': '12',\n",
      "                                  'so2Value': '.0029'},\n",
      "                                 {'coValue': '.4',\n",
      "                                  'msrstnName': '남해읍',\n",
      "                                  'msurDt': '2021-01-01',\n",
      "                                  'no2Value': '.0099',\n",
      "                                  'o3Value': '.032',\n",
      "                                  'pm10Value': '18',\n",
      "                                  'pm25Value': '11',\n",
      "                                  'so2Value': '.0035'},\n",
      "                                 {'coValue': '.3',\n",
      "                                  'msrstnName': '내일동',\n",
      "                                  'msurDt': '2021-01-01',\n",
      "                                  'no2Value': '.0196',\n",
      "                                  'o3Value': '.018',\n",
      "                                  'pm10Value': '24',\n",
      "                                  'pm25Value': '18',\n",
      "                                  'so2Value': '.003'},\n",
      "                                 {'coValue': None,\n",
      "                                  'msrstnName': '아주동',\n",
      "                                  'msurDt': '2021-01-01',\n",
      "                                  'no2Value': None,\n",
      "                                  'o3Value': None,\n",
      "                                  'pm10Value': None,\n",
      "                                  'pm25Value': None,\n",
      "                                  'so2Value': None},\n",
      "                                 {'coValue': '.4',\n",
      "                                  'msrstnName': '장유동',\n",
      "                                  'msurDt': '2021-01-01',\n",
      "                                  'no2Value': '.0205',\n",
      "                                  'o3Value': '.021',\n",
      "                                  'pm10Value': '20',\n",
      "                                  'pm25Value': '13',\n",
      "                                  'so2Value': '.0028'},\n",
      "                                 {'coValue': '.4',\n",
      "                                  'msrstnName': '송천동',\n",
      "                                  'msurDt': '2021-01-01',\n",
      "                                  'no2Value': '.0176',\n",
      "                                  'o3Value': '.014',\n",
      "                                  'pm10Value': '25',\n",
      "                                  'pm25Value': '15',\n",
      "                                  'so2Value': '.0034'},\n",
      "                                 {'coValue': '.4',\n",
      "                                  'msrstnName': '삼천동',\n",
      "                                  'msurDt': '2021-01-01',\n",
      "                                  'no2Value': '.0211',\n",
      "                                  'o3Value': '.019',\n",
      "                                  'pm10Value': '30',\n",
      "                                  'pm25Value': '18',\n",
      "                                  'so2Value': '.0026'},\n",
      "                                 {'coValue': '.4',\n",
      "                                  'msrstnName': '광양읍',\n",
      "                                  'msurDt': '2021-01-01',\n",
      "                                  'no2Value': '.0114',\n",
      "                                  'o3Value': '.027',\n",
      "                                  'pm10Value': '17',\n",
      "                                  'pm25Value': '11',\n",
      "                                  'so2Value': '.002'},\n",
      "                                 {'coValue': '.5',\n",
      "                                  'msrstnName': '신흥',\n",
      "                                  'msurDt': '2021-01-01',\n",
      "                                  'no2Value': '.0236',\n",
      "                                  'o3Value': '.02',\n",
      "                                  'pm10Value': '34',\n",
      "                                  'pm25Value': '24',\n",
      "                                  'so2Value': '.005'}],\n",
      "                       'numOfRows': 10,\n",
      "                       'pageNo': 1,\n",
      "                       'totalCount': 560},\n",
      "              'header': {'resultCode': '00', 'resultMsg': 'NORMAL_CODE'}}}\n",
      "2021-01-01 .017\n",
      "2021-01-01 .016\n",
      "2021-01-01 .032\n",
      "2021-01-01 .018\n",
      "2021-01-01 None\n",
      "2021-01-01 .021\n",
      "2021-01-01 .014\n",
      "2021-01-01 .019\n",
      "2021-01-01 .027\n",
      "2021-01-01 .02\n"
     ]
    }
   ],
   "source": [
    "import requests\n",
    "import pprint\n",
    "service_key = 'O5eovZuTW2eKNdJTy8eOC7AhHyrVf8uQyMn9NFsJ5fn3%2Fr%2F588AHboEIvuKHONDFD10nm5GQBaT2RN7a8i8Q7Q%3D%3D'\n",
    "url = 'http://apis.data.go.kr/B552584/ArpltnStatsSvc/getMsrstnAcctoRDyrg'\n",
    "start_date = '20201001'\n",
    "end_date = '20210101'\n",
    "open_api = url+'?serviceKey='+service_key+'&inqBginDt='+start_date+'&inqEndDt='+end_date+'&returnType=json'\n",
    "\n",
    "res = requests.get(open_api)\n",
    "pprint.pprint(res.json())\n",
    "data = res.json()\n",
    "\n",
    "for item in data['response']['body']['items']:\n",
    "    print(item['msurDt'], item['o3Value'])"
   ]
  },
  {
   "cell_type": "code",
   "execution_count": 26,
   "metadata": {},
   "outputs": [
    {
     "name": "stdout",
     "output_type": "stream",
     "text": [
      "부산신항 .4\n",
      "반송로 .4\n",
      "남해읍 .4\n",
      "내일동 .3\n",
      "아주동 \n",
      "장유동 .4\n",
      "송천동 .4\n",
      "삼천동 .4\n",
      "광양읍 .4\n",
      "신흥 .5\n"
     ]
    }
   ],
   "source": [
    "import requests\n",
    "import pprint\n",
    "from bs4 import BeautifulSoup\n",
    "\n",
    "service_key = 'O5eovZuTW2eKNdJTy8eOC7AhHyrVf8uQyMn9NFsJ5fn3%2Fr%2F588AHboEIvuKHONDFD10nm5GQBaT2RN7a8i8Q7Q%3D%3D'\n",
    "url = 'http://apis.data.go.kr/B552584/ArpltnStatsSvc/getMsrstnAcctoRDyrg'\n",
    "start_date = '20201001'\n",
    "end_date = '20210101'\n",
    "open_api = url+'?serviceKey='+service_key+'&inqBginDt='+start_date+'&inqEndDt='+end_date\n",
    "\n",
    "res = requests.get(open_api)\n",
    "soup = BeautifulSoup(res.content, 'html.parser')\n",
    "data = soup.select('item')\n",
    "for item in data:\n",
    "#     print(item)\n",
    "    city_name = item.select_one('msrstnname')\n",
    "    covalue = item.select_one('covalue')\n",
    "    print(city_name.get_text(), covalue.get_text())"
   ]
  },
  {
   "cell_type": "markdown",
   "metadata": {},
   "source": [
    "### 공공데이터포털 Open API 예제\n",
    "- https://www.data.go.kr/data/15000581/openapi.do"
   ]
  },
  {
   "cell_type": "markdown",
   "metadata": {},
   "source": [
    "## 다양한 데이터 읽기 - XML"
   ]
  },
  {
   "cell_type": "markdown",
   "metadata": {},
   "source": [
    "* XML(Extensible Markup Language)\n",
    "  - 특정 목적에 따라 데이터를 태그로 감싸서 마크업하는 범용적인 포멧\n",
    "  - 마크업 언어는 태그 등을 이용하여 데이터의 구조를 기술하는 언어의 한 가지\n",
    "  - 가장 친숙한 마크업 언어가 HTML\n",
    "  - XML은 HTML과 마찬가지로 데이터를 계층 구조로 표현\n",
    "  - XML 기본 구조\n",
    "  <pre>\n",
    "  <태그 속성=\"속성값\">내용</태그>\n",
    "  </pre>"
   ]
  },
  {
   "cell_type": "markdown",
   "metadata": {},
   "source": [
    "    - 태그와 속성은 특정 목적에 따라 임의로 이름을 정해서 사용"
   ]
  },
  {
   "cell_type": "raw",
   "metadata": {},
   "source": [
    "  <product id=\"M001\" price=\"300000\">32인치 LCD 모니터</product>"
   ]
  },
  {
   "cell_type": "markdown",
   "metadata": {},
   "source": [
    "    - 다른 요소와 그룹으로 묶을 수도 있음"
   ]
  },
  {
   "cell_type": "raw",
   "metadata": {},
   "source": [
    "  <products type=\"전자제품?>\n",
    "      <product id=\"M001\" price=\"300000\">32인치 LCD 모니터</product>\n",
    "      <product id=\"M002\" price=\"210000\">24인치 LCD 모니터</product>\n",
    "  </products>"
   ]
  },
  {
   "cell_type": "code",
   "execution_count": 12,
   "metadata": {},
   "outputs": [
    {
     "name": "stdout",
     "output_type": "stream",
     "text": [
      "O3 2021-08-16\n",
      "PM25 2021-08-16\n",
      "PM10 2021-08-16\n",
      "PM25 2021-08-16\n",
      "PM25 2021-08-16\n",
      "O3 2021-08-16\n",
      "PM10 2021-08-16\n",
      "PM10 2021-08-16\n",
      "PM25 2021-08-16\n",
      "PM25 2021-08-16\n",
      "O3 2021-08-16\n",
      "PM10 2021-08-16\n",
      "PM10 2021-08-16\n",
      "PM10 2021-08-16\n",
      "PM25 2021-08-16\n",
      "PM25 2021-08-16\n",
      "PM10 2021-08-16\n",
      "O3 2021-08-15\n",
      "PM25 2021-08-15\n",
      "PM10 2021-08-15\n",
      "PM25 2021-08-15\n",
      "PM25 2021-08-15\n",
      "O3 2021-08-15\n",
      "PM10 2021-08-15\n",
      "PM10 2021-08-15\n",
      "PM25 2021-08-15\n",
      "PM25 2021-08-15\n",
      "O3 2021-08-15\n",
      "PM10 2021-08-15\n",
      "PM10 2021-08-15\n",
      "PM10 2021-08-15\n",
      "PM25 2021-08-15\n",
      "PM25 2021-08-15\n",
      "PM25 2021-08-15\n",
      "O3 2021-08-15\n",
      "PM10 2021-08-15\n",
      "PM10 2021-08-15\n",
      "PM10 2021-08-15\n",
      "PM25 2021-08-15\n",
      "PM25 2021-08-15\n",
      "PM10 2021-08-15\n",
      "PM10 2021-08-14\n",
      "PM10 2021-08-14\n",
      "PM25 2021-08-14\n",
      "PM25 2021-08-14\n",
      "O3 2021-08-14\n",
      "PM10 2021-08-14\n",
      "PM10 2021-08-14\n",
      "PM10 2021-08-14\n",
      "PM25 2021-08-14\n",
      "PM25 2021-08-14\n",
      "PM25 2021-08-14\n",
      "O3 2021-08-14\n",
      "PM10 2021-08-14\n",
      "PM10 2021-08-14\n",
      "PM25 2021-08-14\n",
      "PM25 2021-08-14\n",
      "O3 2021-08-14\n",
      "PM10 2021-08-14\n",
      "PM10 2021-08-14\n",
      "PM25 2021-08-14\n",
      "PM25 2021-08-14\n",
      "O3 2021-08-14\n",
      "PM10 2021-08-14\n",
      "PM25 2021-08-14\n",
      "O3 2021-08-13\n",
      "PM25 2021-08-13\n",
      "PM10 2021-08-13\n",
      "PM10 2021-08-13\n",
      "PM25 2021-08-13\n",
      "PM25 2021-08-13\n",
      "PM25 2021-08-13\n",
      "O3 2021-08-13\n",
      "PM10 2021-08-13\n",
      "PM10 2021-08-13\n",
      "PM10 2021-08-13\n",
      "PM25 2021-08-13\n",
      "PM25 2021-08-13\n",
      "PM25 2021-08-13\n",
      "O3 2021-08-13\n",
      "PM10 2021-08-13\n",
      "PM10 2021-08-13\n",
      "PM25 2021-08-13\n",
      "PM25 2021-08-13\n",
      "O3 2021-08-13\n",
      "PM10 2021-08-13\n",
      "PM10 2021-08-13\n",
      "PM25 2021-08-13\n",
      "PM10 2021-08-13\n",
      "O3 2021-08-12\n",
      "PM25 2021-08-12\n",
      "O3 2021-08-12\n",
      "PM10 2021-08-12\n",
      "PM10 2021-08-12\n",
      "PM10 2021-08-12\n",
      "PM25 2021-08-12\n",
      "PM25 2021-08-12\n",
      "PM25 2021-08-12\n",
      "O3 2021-08-12\n",
      "PM10 2021-08-12\n"
     ]
    }
   ],
   "source": [
    "import requests\n",
    "from bs4 import BeautifulSoup\n",
    "\n",
    "service_key = 'O5eovZuTW2eKNdJTy8eOC7AhHyrVf8uQyMn9NFsJ5fn3%2Fr%2F588AHboEIvuKHONDFD10nm5GQBaT2RN7a8i8Q7Q%3D%3D'\n",
    "\n",
    "params = '&numOfRows=100'\n",
    "open_api = 'http://apis.data.go.kr/B552584/ArpltnInforInqireSvc/getMinuDustFrcstDspth?serviceKey=' + service_key + params\n",
    "res = requests.get(open_api)\n",
    "soup = BeautifulSoup(res.content, 'html.parser')\n",
    "\n",
    "data = soup.find_all('item')\n",
    "for item in data:\n",
    "#     print(item)\n",
    "    stationname = item.find('informcode')\n",
    "    pm10grade = item.find('datatime')\n",
    "    print (stationname.get_text(), pm10grade.get_text())"
   ]
  },
  {
   "cell_type": "code",
   "execution_count": null,
   "metadata": {},
   "outputs": [],
   "source": []
  },
  {
   "cell_type": "code",
   "execution_count": null,
   "metadata": {},
   "outputs": [],
   "source": [
    "\n",
    "\n",
    "\n"
   ]
  },
  {
   "cell_type": "code",
   "execution_count": null,
   "metadata": {},
   "outputs": [],
   "source": []
  },
  {
   "cell_type": "code",
   "execution_count": null,
   "metadata": {},
   "outputs": [],
   "source": []
  }
 ],
 "metadata": {
  "kernelspec": {
   "display_name": "Python 3",
   "language": "python",
   "name": "python3"
  },
  "language_info": {
   "codemirror_mode": {
    "name": "ipython",
    "version": 3
   },
   "file_extension": ".py",
   "mimetype": "text/x-python",
   "name": "python",
   "nbconvert_exporter": "python",
   "pygments_lexer": "ipython3",
   "version": "3.8.8"
  },
  "nbTranslate": {
   "displayLangs": [
    "*"
   ],
   "hotkey": "alt-t",
   "langInMainMenu": true,
   "sourceLang": "en",
   "targetLang": "fr",
   "useGoogleTranslate": true
  }
 },
 "nbformat": 4,
 "nbformat_minor": 2
}

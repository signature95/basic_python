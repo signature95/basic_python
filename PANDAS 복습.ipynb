{
 "cells": [
  {
   "cell_type": "code",
   "execution_count": 1,
   "id": "c0508ad7",
   "metadata": {},
   "outputs": [
    {
     "data": {
      "text/plain": [
       "이름\n",
       "철수    10\n",
       "영희     5\n",
       "민수     2\n",
       "칠성     2\n",
       "펩시     7\n",
       "dtype: int64"
      ]
     },
     "execution_count": 1,
     "metadata": {},
     "output_type": "execute_result"
    }
   ],
   "source": [
    "import pandas as pd\n",
    "data1 = pd.Series([10,5,2,2,7], index = ['철수', '영희', '민수','칠성','펩시'])\n",
    "data1.index.name = '이름'\n",
    "data1"
   ]
  },
  {
   "cell_type": "markdown",
   "id": "80271a7e",
   "metadata": {},
   "source": [
    "# 1. index를 이용해서 철수의 값만 뽑기"
   ]
  },
  {
   "cell_type": "code",
   "execution_count": 3,
   "id": "b52f99be",
   "metadata": {},
   "outputs": [
    {
     "data": {
      "text/plain": [
       "10"
      ]
     },
     "execution_count": 3,
     "metadata": {},
     "output_type": "execute_result"
    }
   ],
   "source": [
    "data1['철수']"
   ]
  },
  {
   "cell_type": "code",
   "execution_count": 2,
   "id": "a62ee4d1",
   "metadata": {},
   "outputs": [
    {
     "data": {
      "text/plain": [
       "10"
      ]
     },
     "execution_count": 2,
     "metadata": {},
     "output_type": "execute_result"
    }
   ],
   "source": [
    "data1.loc['철수']"
   ]
  },
  {
   "cell_type": "markdown",
   "id": "910d9d32",
   "metadata": {},
   "source": [
    "# 2. iloc을 이용해서 철수의 값만 뽑기"
   ]
  },
  {
   "cell_type": "code",
   "execution_count": 4,
   "id": "a5efe2c1",
   "metadata": {},
   "outputs": [
    {
     "data": {
      "text/plain": [
       "10"
      ]
     },
     "execution_count": 4,
     "metadata": {},
     "output_type": "execute_result"
    }
   ],
   "source": [
    "data1.iloc[0]"
   ]
  },
  {
   "cell_type": "markdown",
   "id": "f6bba161",
   "metadata": {},
   "source": [
    "# 3. index를 이용해서 민수, 펩시의 값 뽑기"
   ]
  },
  {
   "cell_type": "code",
   "execution_count": 5,
   "id": "12b6fe1e",
   "metadata": {},
   "outputs": [
    {
     "data": {
      "text/plain": [
       "이름\n",
       "민수    2\n",
       "펩시    7\n",
       "dtype: int64"
      ]
     },
     "execution_count": 5,
     "metadata": {},
     "output_type": "execute_result"
    }
   ],
   "source": [
    "a = ['민수', '펩시']\n",
    "data1[a]"
   ]
  },
  {
   "cell_type": "code",
   "execution_count": 6,
   "id": "16859381",
   "metadata": {},
   "outputs": [
    {
     "data": {
      "text/plain": [
       "이름\n",
       "민수    2\n",
       "펩시    7\n",
       "dtype: int64"
      ]
     },
     "execution_count": 6,
     "metadata": {},
     "output_type": "execute_result"
    }
   ],
   "source": [
    "data1.loc[a]"
   ]
  },
  {
   "cell_type": "markdown",
   "id": "59fdaeb1",
   "metadata": {},
   "source": [
    "# 4. iloc을 이용해서 민수, 펩시의 값 뽑기"
   ]
  },
  {
   "cell_type": "code",
   "execution_count": 7,
   "id": "8fcb0b6c",
   "metadata": {},
   "outputs": [
    {
     "data": {
      "text/plain": [
       "이름\n",
       "민수    2\n",
       "펩시    7\n",
       "dtype: int64"
      ]
     },
     "execution_count": 7,
     "metadata": {},
     "output_type": "execute_result"
    }
   ],
   "source": [
    "a = [2, 4]\n",
    "data1.iloc[a]"
   ]
  },
  {
   "cell_type": "markdown",
   "id": "fd4d7de6",
   "metadata": {},
   "source": [
    "# 5. index만 뽑아보기"
   ]
  },
  {
   "cell_type": "code",
   "execution_count": 8,
   "id": "19ee7346",
   "metadata": {},
   "outputs": [
    {
     "data": {
      "text/plain": [
       "Index(['철수', '영희', '민수', '칠성', '펩시'], dtype='object', name='이름')"
      ]
     },
     "execution_count": 8,
     "metadata": {},
     "output_type": "execute_result"
    }
   ],
   "source": [
    "data1.index"
   ]
  },
  {
   "cell_type": "markdown",
   "id": "f7970504",
   "metadata": {},
   "source": [
    "# 6. value만 뽑아보기"
   ]
  },
  {
   "cell_type": "code",
   "execution_count": 9,
   "id": "a6f1750d",
   "metadata": {},
   "outputs": [
    {
     "data": {
      "text/plain": [
       "array([10,  5,  2,  2,  7])"
      ]
     },
     "execution_count": 9,
     "metadata": {},
     "output_type": "execute_result"
    }
   ],
   "source": [
    "data1.values"
   ]
  },
  {
   "cell_type": "markdown",
   "id": "a8f067d5",
   "metadata": {},
   "source": [
    "# 7. value로 정렬하기"
   ]
  },
  {
   "cell_type": "code",
   "execution_count": 11,
   "id": "abd9a958",
   "metadata": {},
   "outputs": [
    {
     "data": {
      "text/plain": [
       "[2, 2, 5, 7, 10]"
      ]
     },
     "execution_count": 11,
     "metadata": {},
     "output_type": "execute_result"
    }
   ],
   "source": [
    "sorted(data1)"
   ]
  },
  {
   "cell_type": "code",
   "execution_count": 12,
   "id": "bafc89ca",
   "metadata": {},
   "outputs": [
    {
     "data": {
      "text/plain": [
       "[2, 2, 5, 7, 10]"
      ]
     },
     "execution_count": 12,
     "metadata": {},
     "output_type": "execute_result"
    }
   ],
   "source": [
    "sorted(data1.values)"
   ]
  },
  {
   "cell_type": "markdown",
   "id": "7ef212d9",
   "metadata": {},
   "source": [
    "# 8. index로 정렬하기"
   ]
  },
  {
   "cell_type": "code",
   "execution_count": 13,
   "id": "df563c3a",
   "metadata": {},
   "outputs": [
    {
     "data": {
      "text/plain": [
       "['민수', '영희', '철수', '칠성', '펩시']"
      ]
     },
     "execution_count": 13,
     "metadata": {},
     "output_type": "execute_result"
    }
   ],
   "source": [
    "sorted(data1.index)"
   ]
  },
  {
   "cell_type": "markdown",
   "id": "b2cd4749",
   "metadata": {},
   "source": [
    "# 9. index로 정렬한대로 재정렬하기"
   ]
  },
  {
   "cell_type": "code",
   "execution_count": 14,
   "id": "15d91e26",
   "metadata": {},
   "outputs": [
    {
     "data": {
      "text/plain": [
       "이름\n",
       "민수     2\n",
       "영희     5\n",
       "철수    10\n",
       "칠성     2\n",
       "펩시     7\n",
       "dtype: int64"
      ]
     },
     "execution_count": 14,
     "metadata": {},
     "output_type": "execute_result"
    }
   ],
   "source": [
    "data1.reindex(sorted(data1.index))"
   ]
  },
  {
   "cell_type": "markdown",
   "id": "a1f23518",
   "metadata": {},
   "source": [
    "# 10. index반대로 정렬하기"
   ]
  },
  {
   "cell_type": "code",
   "execution_count": 15,
   "id": "f7f099ab",
   "metadata": {},
   "outputs": [
    {
     "data": {
      "text/plain": [
       "이름\n",
       "칠성     2\n",
       "펩시     7\n",
       "민수     2\n",
       "영희     5\n",
       "철수    10\n",
       "dtype: int64"
      ]
     },
     "execution_count": 15,
     "metadata": {},
     "output_type": "execute_result"
    }
   ],
   "source": [
    "new_index = ['칠성','펩시','민수','영희','철수']\n",
    "data1.reindex(new_index)"
   ]
  },
  {
   "cell_type": "markdown",
   "id": "8074bab9",
   "metadata": {},
   "source": [
    "# 11. 데이터 두개 더하기"
   ]
  },
  {
   "cell_type": "code",
   "execution_count": 16,
   "id": "9c8f8021",
   "metadata": {
    "scrolled": true
   },
   "outputs": [
    {
     "data": {
      "text/plain": [
       "영희    1\n",
       "민수    3\n",
       "철수    1\n",
       "펩시    5\n",
       "코카    2\n",
       "dtype: int64"
      ]
     },
     "execution_count": 16,
     "metadata": {},
     "output_type": "execute_result"
    }
   ],
   "source": [
    "data2 = pd.Series([1,3,1,5,2], index = ['영희', '민수', '철수','펩시','코카'])\n",
    "data2"
   ]
  },
  {
   "cell_type": "code",
   "execution_count": 17,
   "id": "e67492e8",
   "metadata": {},
   "outputs": [
    {
     "data": {
      "text/plain": [
       "민수     5.0\n",
       "영희     6.0\n",
       "철수    11.0\n",
       "칠성     NaN\n",
       "코카     NaN\n",
       "펩시    12.0\n",
       "dtype: float64"
      ]
     },
     "execution_count": 17,
     "metadata": {},
     "output_type": "execute_result"
    }
   ],
   "source": [
    "data1 + data2"
   ]
  },
  {
   "cell_type": "markdown",
   "id": "fc7abd16",
   "metadata": {},
   "source": [
    "# 12. 유일한 값만 뽑기"
   ]
  },
  {
   "cell_type": "code",
   "execution_count": 19,
   "id": "4c9b4cce",
   "metadata": {},
   "outputs": [
    {
     "data": {
      "text/plain": [
       "array([10,  5,  2,  7])"
      ]
     },
     "execution_count": 19,
     "metadata": {},
     "output_type": "execute_result"
    }
   ],
   "source": [
    "data1.unique()"
   ]
  },
  {
   "cell_type": "markdown",
   "id": "c4d3c885",
   "metadata": {},
   "source": [
    "# 13. 사전 데이터로 Series 만들기\n",
    "+ 금메달 - 10\n",
    "+ 은메달 - 3\n",
    "+ 동메달 - 12"
   ]
  },
  {
   "cell_type": "code",
   "execution_count": 21,
   "id": "cbd1bbe5",
   "metadata": {},
   "outputs": [
    {
     "data": {
      "text/plain": [
       "금메달    10\n",
       "은메달     3\n",
       "동메달    12\n",
       "dtype: int64"
      ]
     },
     "execution_count": 21,
     "metadata": {},
     "output_type": "execute_result"
    }
   ],
   "source": [
    "medal = {'금메달':10, '은메달':3, '동메달':12}\n",
    "data3 = pd.Series(medal)\n",
    "data3"
   ]
  },
  {
   "cell_type": "markdown",
   "id": "ad0fca74",
   "metadata": {},
   "source": [
    "# 14. 사전 데이터로 DataFrame 만들기\n",
    "+ 'age' - [23, 41, 62, 9]\n",
    "+ 'name' - ['벤', '광수', '재석', '종국']\n",
    "+ 'height' - [152, 190, 178, 185]"
   ]
  },
  {
   "cell_type": "code",
   "execution_count": 23,
   "id": "74ffc471",
   "metadata": {},
   "outputs": [
    {
     "data": {
      "text/html": [
       "<div>\n",
       "<style scoped>\n",
       "    .dataframe tbody tr th:only-of-type {\n",
       "        vertical-align: middle;\n",
       "    }\n",
       "\n",
       "    .dataframe tbody tr th {\n",
       "        vertical-align: top;\n",
       "    }\n",
       "\n",
       "    .dataframe thead th {\n",
       "        text-align: right;\n",
       "    }\n",
       "</style>\n",
       "<table border=\"1\" class=\"dataframe\">\n",
       "  <thead>\n",
       "    <tr style=\"text-align: right;\">\n",
       "      <th></th>\n",
       "      <th>name</th>\n",
       "      <th>age</th>\n",
       "      <th>height</th>\n",
       "    </tr>\n",
       "  </thead>\n",
       "  <tbody>\n",
       "    <tr>\n",
       "      <th>0</th>\n",
       "      <td>벤</td>\n",
       "      <td>23</td>\n",
       "      <td>152</td>\n",
       "    </tr>\n",
       "    <tr>\n",
       "      <th>1</th>\n",
       "      <td>광수</td>\n",
       "      <td>41</td>\n",
       "      <td>190</td>\n",
       "    </tr>\n",
       "    <tr>\n",
       "      <th>2</th>\n",
       "      <td>재석</td>\n",
       "      <td>62</td>\n",
       "      <td>178</td>\n",
       "    </tr>\n",
       "    <tr>\n",
       "      <th>3</th>\n",
       "      <td>종국</td>\n",
       "      <td>9</td>\n",
       "      <td>185</td>\n",
       "    </tr>\n",
       "  </tbody>\n",
       "</table>\n",
       "</div>"
      ],
      "text/plain": [
       "  name  age  height\n",
       "0    벤   23     152\n",
       "1   광수   41     190\n",
       "2   재석   62     178\n",
       "3   종국    9     185"
      ]
     },
     "execution_count": 23,
     "metadata": {},
     "output_type": "execute_result"
    }
   ],
   "source": [
    "runningMan = {'age' : [23,41,62,9],\n",
    "              'name' : ['벤','광수','재석','종국'],\n",
    "              'height' : [152,190,178,185]}\n",
    "data4 = pd.DataFrame(runningMan, columns=['name','age','height'])\n",
    "data4"
   ]
  },
  {
   "cell_type": "markdown",
   "id": "3bff5cde",
   "metadata": {},
   "source": [
    "# 15. age 컬럼만 출력해보기"
   ]
  },
  {
   "cell_type": "code",
   "execution_count": 24,
   "id": "49724a1c",
   "metadata": {},
   "outputs": [
    {
     "data": {
      "text/plain": [
       "0    23\n",
       "1    41\n",
       "2    62\n",
       "3     9\n",
       "Name: age, dtype: int64"
      ]
     },
     "execution_count": 24,
     "metadata": {},
     "output_type": "execute_result"
    }
   ],
   "source": [
    "data4.age"
   ]
  },
  {
   "cell_type": "markdown",
   "id": "cdb2c671",
   "metadata": {},
   "source": [
    "# 16. iloc이용해서 2,3 번째 index에 해당하는 데이터만 뽑기"
   ]
  },
  {
   "cell_type": "code",
   "execution_count": 25,
   "id": "6968f769",
   "metadata": {
    "scrolled": true
   },
   "outputs": [
    {
     "data": {
      "text/html": [
       "<div>\n",
       "<style scoped>\n",
       "    .dataframe tbody tr th:only-of-type {\n",
       "        vertical-align: middle;\n",
       "    }\n",
       "\n",
       "    .dataframe tbody tr th {\n",
       "        vertical-align: top;\n",
       "    }\n",
       "\n",
       "    .dataframe thead th {\n",
       "        text-align: right;\n",
       "    }\n",
       "</style>\n",
       "<table border=\"1\" class=\"dataframe\">\n",
       "  <thead>\n",
       "    <tr style=\"text-align: right;\">\n",
       "      <th></th>\n",
       "      <th>name</th>\n",
       "      <th>age</th>\n",
       "      <th>height</th>\n",
       "    </tr>\n",
       "  </thead>\n",
       "  <tbody>\n",
       "    <tr>\n",
       "      <th>1</th>\n",
       "      <td>광수</td>\n",
       "      <td>41</td>\n",
       "      <td>190</td>\n",
       "    </tr>\n",
       "    <tr>\n",
       "      <th>2</th>\n",
       "      <td>재석</td>\n",
       "      <td>62</td>\n",
       "      <td>178</td>\n",
       "    </tr>\n",
       "  </tbody>\n",
       "</table>\n",
       "</div>"
      ],
      "text/plain": [
       "  name  age  height\n",
       "1   광수   41     190\n",
       "2   재석   62     178"
      ]
     },
     "execution_count": 25,
     "metadata": {},
     "output_type": "execute_result"
    }
   ],
   "source": [
    "data4.iloc[[1,2]]"
   ]
  },
  {
   "cell_type": "code",
   "execution_count": 26,
   "id": "fe4d0cf7",
   "metadata": {},
   "outputs": [
    {
     "data": {
      "text/html": [
       "<div>\n",
       "<style scoped>\n",
       "    .dataframe tbody tr th:only-of-type {\n",
       "        vertical-align: middle;\n",
       "    }\n",
       "\n",
       "    .dataframe tbody tr th {\n",
       "        vertical-align: top;\n",
       "    }\n",
       "\n",
       "    .dataframe thead th {\n",
       "        text-align: right;\n",
       "    }\n",
       "</style>\n",
       "<table border=\"1\" class=\"dataframe\">\n",
       "  <thead>\n",
       "    <tr style=\"text-align: right;\">\n",
       "      <th></th>\n",
       "      <th>name</th>\n",
       "      <th>age</th>\n",
       "      <th>height</th>\n",
       "    </tr>\n",
       "  </thead>\n",
       "  <tbody>\n",
       "    <tr>\n",
       "      <th>1</th>\n",
       "      <td>광수</td>\n",
       "      <td>41</td>\n",
       "      <td>190</td>\n",
       "    </tr>\n",
       "    <tr>\n",
       "      <th>2</th>\n",
       "      <td>재석</td>\n",
       "      <td>62</td>\n",
       "      <td>178</td>\n",
       "    </tr>\n",
       "  </tbody>\n",
       "</table>\n",
       "</div>"
      ],
      "text/plain": [
       "  name  age  height\n",
       "1   광수   41     190\n",
       "2   재석   62     178"
      ]
     },
     "execution_count": 26,
     "metadata": {},
     "output_type": "execute_result"
    }
   ],
   "source": [
    "data4.iloc[1:3]"
   ]
  },
  {
   "cell_type": "markdown",
   "id": "b2af1758",
   "metadata": {},
   "source": [
    "# 17. iloc 이용해서 2,3번째 column에 해당하는 데이터만 뽑기"
   ]
  },
  {
   "cell_type": "code",
   "execution_count": null,
   "id": "1514783c",
   "metadata": {},
   "outputs": [],
   "source": [
    "data4.iloc[:,[1,2]]"
   ]
  },
  {
   "cell_type": "code",
   "execution_count": 28,
   "id": "3be5ed74",
   "metadata": {},
   "outputs": [
    {
     "data": {
      "text/html": [
       "<div>\n",
       "<style scoped>\n",
       "    .dataframe tbody tr th:only-of-type {\n",
       "        vertical-align: middle;\n",
       "    }\n",
       "\n",
       "    .dataframe tbody tr th {\n",
       "        vertical-align: top;\n",
       "    }\n",
       "\n",
       "    .dataframe thead th {\n",
       "        text-align: right;\n",
       "    }\n",
       "</style>\n",
       "<table border=\"1\" class=\"dataframe\">\n",
       "  <thead>\n",
       "    <tr style=\"text-align: right;\">\n",
       "      <th></th>\n",
       "      <th>age</th>\n",
       "      <th>height</th>\n",
       "    </tr>\n",
       "  </thead>\n",
       "  <tbody>\n",
       "    <tr>\n",
       "      <th>0</th>\n",
       "      <td>23</td>\n",
       "      <td>152</td>\n",
       "    </tr>\n",
       "    <tr>\n",
       "      <th>1</th>\n",
       "      <td>41</td>\n",
       "      <td>190</td>\n",
       "    </tr>\n",
       "    <tr>\n",
       "      <th>2</th>\n",
       "      <td>62</td>\n",
       "      <td>178</td>\n",
       "    </tr>\n",
       "    <tr>\n",
       "      <th>3</th>\n",
       "      <td>9</td>\n",
       "      <td>185</td>\n",
       "    </tr>\n",
       "  </tbody>\n",
       "</table>\n",
       "</div>"
      ],
      "text/plain": [
       "   age  height\n",
       "0   23     152\n",
       "1   41     190\n",
       "2   62     178\n",
       "3    9     185"
      ]
     },
     "execution_count": 28,
     "metadata": {},
     "output_type": "execute_result"
    }
   ],
   "source": [
    "data4.iloc[:,1:3]"
   ]
  },
  {
   "cell_type": "markdown",
   "id": "866cf52c",
   "metadata": {},
   "source": [
    "# 18. loc 이용해서 2,3 번째 index에 해당하는 데이터만 뽑기"
   ]
  },
  {
   "cell_type": "code",
   "execution_count": 29,
   "id": "0d898cec",
   "metadata": {},
   "outputs": [
    {
     "data": {
      "text/html": [
       "<div>\n",
       "<style scoped>\n",
       "    .dataframe tbody tr th:only-of-type {\n",
       "        vertical-align: middle;\n",
       "    }\n",
       "\n",
       "    .dataframe tbody tr th {\n",
       "        vertical-align: top;\n",
       "    }\n",
       "\n",
       "    .dataframe thead th {\n",
       "        text-align: right;\n",
       "    }\n",
       "</style>\n",
       "<table border=\"1\" class=\"dataframe\">\n",
       "  <thead>\n",
       "    <tr style=\"text-align: right;\">\n",
       "      <th></th>\n",
       "      <th>name</th>\n",
       "      <th>age</th>\n",
       "      <th>height</th>\n",
       "    </tr>\n",
       "  </thead>\n",
       "  <tbody>\n",
       "    <tr>\n",
       "      <th>1</th>\n",
       "      <td>광수</td>\n",
       "      <td>41</td>\n",
       "      <td>190</td>\n",
       "    </tr>\n",
       "    <tr>\n",
       "      <th>2</th>\n",
       "      <td>재석</td>\n",
       "      <td>62</td>\n",
       "      <td>178</td>\n",
       "    </tr>\n",
       "  </tbody>\n",
       "</table>\n",
       "</div>"
      ],
      "text/plain": [
       "  name  age  height\n",
       "1   광수   41     190\n",
       "2   재석   62     178"
      ]
     },
     "execution_count": 29,
     "metadata": {},
     "output_type": "execute_result"
    }
   ],
   "source": [
    "data4.loc[[1,2]]"
   ]
  },
  {
   "cell_type": "markdown",
   "id": "d8ac98ba",
   "metadata": {},
   "source": [
    "# 19. loc 이용해서 2,3번째 column에 해당하는 데이터만 뽑기"
   ]
  },
  {
   "cell_type": "code",
   "execution_count": 31,
   "id": "0b2c02ff",
   "metadata": {},
   "outputs": [
    {
     "data": {
      "text/html": [
       "<div>\n",
       "<style scoped>\n",
       "    .dataframe tbody tr th:only-of-type {\n",
       "        vertical-align: middle;\n",
       "    }\n",
       "\n",
       "    .dataframe tbody tr th {\n",
       "        vertical-align: top;\n",
       "    }\n",
       "\n",
       "    .dataframe thead th {\n",
       "        text-align: right;\n",
       "    }\n",
       "</style>\n",
       "<table border=\"1\" class=\"dataframe\">\n",
       "  <thead>\n",
       "    <tr style=\"text-align: right;\">\n",
       "      <th></th>\n",
       "      <th>age</th>\n",
       "      <th>height</th>\n",
       "    </tr>\n",
       "  </thead>\n",
       "  <tbody>\n",
       "    <tr>\n",
       "      <th>0</th>\n",
       "      <td>23</td>\n",
       "      <td>152</td>\n",
       "    </tr>\n",
       "    <tr>\n",
       "      <th>1</th>\n",
       "      <td>41</td>\n",
       "      <td>190</td>\n",
       "    </tr>\n",
       "    <tr>\n",
       "      <th>2</th>\n",
       "      <td>62</td>\n",
       "      <td>178</td>\n",
       "    </tr>\n",
       "    <tr>\n",
       "      <th>3</th>\n",
       "      <td>9</td>\n",
       "      <td>185</td>\n",
       "    </tr>\n",
       "  </tbody>\n",
       "</table>\n",
       "</div>"
      ],
      "text/plain": [
       "   age  height\n",
       "0   23     152\n",
       "1   41     190\n",
       "2   62     178\n",
       "3    9     185"
      ]
     },
     "execution_count": 31,
     "metadata": {},
     "output_type": "execute_result"
    }
   ],
   "source": [
    "data4.loc[:,['age','height']]"
   ]
  },
  {
   "cell_type": "code",
   "execution_count": 30,
   "id": "153cc707",
   "metadata": {},
   "outputs": [
    {
     "data": {
      "text/html": [
       "<div>\n",
       "<style scoped>\n",
       "    .dataframe tbody tr th:only-of-type {\n",
       "        vertical-align: middle;\n",
       "    }\n",
       "\n",
       "    .dataframe tbody tr th {\n",
       "        vertical-align: top;\n",
       "    }\n",
       "\n",
       "    .dataframe thead th {\n",
       "        text-align: right;\n",
       "    }\n",
       "</style>\n",
       "<table border=\"1\" class=\"dataframe\">\n",
       "  <thead>\n",
       "    <tr style=\"text-align: right;\">\n",
       "      <th></th>\n",
       "      <th>age</th>\n",
       "      <th>height</th>\n",
       "    </tr>\n",
       "  </thead>\n",
       "  <tbody>\n",
       "    <tr>\n",
       "      <th>0</th>\n",
       "      <td>23</td>\n",
       "      <td>152</td>\n",
       "    </tr>\n",
       "    <tr>\n",
       "      <th>1</th>\n",
       "      <td>41</td>\n",
       "      <td>190</td>\n",
       "    </tr>\n",
       "    <tr>\n",
       "      <th>2</th>\n",
       "      <td>62</td>\n",
       "      <td>178</td>\n",
       "    </tr>\n",
       "    <tr>\n",
       "      <th>3</th>\n",
       "      <td>9</td>\n",
       "      <td>185</td>\n",
       "    </tr>\n",
       "  </tbody>\n",
       "</table>\n",
       "</div>"
      ],
      "text/plain": [
       "   age  height\n",
       "0   23     152\n",
       "1   41     190\n",
       "2   62     178\n",
       "3    9     185"
      ]
     },
     "execution_count": 30,
     "metadata": {},
     "output_type": "execute_result"
    }
   ],
   "source": [
    "data4.loc[:,'age':'height']"
   ]
  },
  {
   "cell_type": "markdown",
   "id": "ac3c1468",
   "metadata": {},
   "source": [
    "# 20. 위에서부터 데이터 3행만 뽑기"
   ]
  },
  {
   "cell_type": "code",
   "execution_count": 32,
   "id": "119e8a28",
   "metadata": {},
   "outputs": [
    {
     "data": {
      "text/html": [
       "<div>\n",
       "<style scoped>\n",
       "    .dataframe tbody tr th:only-of-type {\n",
       "        vertical-align: middle;\n",
       "    }\n",
       "\n",
       "    .dataframe tbody tr th {\n",
       "        vertical-align: top;\n",
       "    }\n",
       "\n",
       "    .dataframe thead th {\n",
       "        text-align: right;\n",
       "    }\n",
       "</style>\n",
       "<table border=\"1\" class=\"dataframe\">\n",
       "  <thead>\n",
       "    <tr style=\"text-align: right;\">\n",
       "      <th></th>\n",
       "      <th>name</th>\n",
       "      <th>age</th>\n",
       "      <th>height</th>\n",
       "    </tr>\n",
       "  </thead>\n",
       "  <tbody>\n",
       "    <tr>\n",
       "      <th>0</th>\n",
       "      <td>벤</td>\n",
       "      <td>23</td>\n",
       "      <td>152</td>\n",
       "    </tr>\n",
       "    <tr>\n",
       "      <th>1</th>\n",
       "      <td>광수</td>\n",
       "      <td>41</td>\n",
       "      <td>190</td>\n",
       "    </tr>\n",
       "    <tr>\n",
       "      <th>2</th>\n",
       "      <td>재석</td>\n",
       "      <td>62</td>\n",
       "      <td>178</td>\n",
       "    </tr>\n",
       "  </tbody>\n",
       "</table>\n",
       "</div>"
      ],
      "text/plain": [
       "  name  age  height\n",
       "0    벤   23     152\n",
       "1   광수   41     190\n",
       "2   재석   62     178"
      ]
     },
     "execution_count": 32,
     "metadata": {},
     "output_type": "execute_result"
    }
   ],
   "source": [
    "data4.head(3)"
   ]
  },
  {
   "cell_type": "markdown",
   "id": "87bf8d90",
   "metadata": {},
   "source": [
    "# 21. 밑에서부터 데이터 2행만 뽑기"
   ]
  },
  {
   "cell_type": "code",
   "execution_count": 33,
   "id": "8061053f",
   "metadata": {},
   "outputs": [
    {
     "data": {
      "text/html": [
       "<div>\n",
       "<style scoped>\n",
       "    .dataframe tbody tr th:only-of-type {\n",
       "        vertical-align: middle;\n",
       "    }\n",
       "\n",
       "    .dataframe tbody tr th {\n",
       "        vertical-align: top;\n",
       "    }\n",
       "\n",
       "    .dataframe thead th {\n",
       "        text-align: right;\n",
       "    }\n",
       "</style>\n",
       "<table border=\"1\" class=\"dataframe\">\n",
       "  <thead>\n",
       "    <tr style=\"text-align: right;\">\n",
       "      <th></th>\n",
       "      <th>name</th>\n",
       "      <th>age</th>\n",
       "      <th>height</th>\n",
       "    </tr>\n",
       "  </thead>\n",
       "  <tbody>\n",
       "    <tr>\n",
       "      <th>2</th>\n",
       "      <td>재석</td>\n",
       "      <td>62</td>\n",
       "      <td>178</td>\n",
       "    </tr>\n",
       "    <tr>\n",
       "      <th>3</th>\n",
       "      <td>종국</td>\n",
       "      <td>9</td>\n",
       "      <td>185</td>\n",
       "    </tr>\n",
       "  </tbody>\n",
       "</table>\n",
       "</div>"
      ],
      "text/plain": [
       "  name  age  height\n",
       "2   재석   62     178\n",
       "3   종국    9     185"
      ]
     },
     "execution_count": 33,
     "metadata": {},
     "output_type": "execute_result"
    }
   ],
   "source": [
    "data4.tail(2)"
   ]
  },
  {
   "cell_type": "markdown",
   "id": "dc635588",
   "metadata": {},
   "source": [
    "# 22. bool이용해서 2,3 행만 뽑기"
   ]
  },
  {
   "cell_type": "code",
   "execution_count": 35,
   "id": "07416f3d",
   "metadata": {},
   "outputs": [
    {
     "data": {
      "text/html": [
       "<div>\n",
       "<style scoped>\n",
       "    .dataframe tbody tr th:only-of-type {\n",
       "        vertical-align: middle;\n",
       "    }\n",
       "\n",
       "    .dataframe tbody tr th {\n",
       "        vertical-align: top;\n",
       "    }\n",
       "\n",
       "    .dataframe thead th {\n",
       "        text-align: right;\n",
       "    }\n",
       "</style>\n",
       "<table border=\"1\" class=\"dataframe\">\n",
       "  <thead>\n",
       "    <tr style=\"text-align: right;\">\n",
       "      <th></th>\n",
       "      <th>name</th>\n",
       "      <th>age</th>\n",
       "      <th>height</th>\n",
       "    </tr>\n",
       "  </thead>\n",
       "  <tbody>\n",
       "    <tr>\n",
       "      <th>1</th>\n",
       "      <td>광수</td>\n",
       "      <td>41</td>\n",
       "      <td>190</td>\n",
       "    </tr>\n",
       "    <tr>\n",
       "      <th>2</th>\n",
       "      <td>재석</td>\n",
       "      <td>62</td>\n",
       "      <td>178</td>\n",
       "    </tr>\n",
       "  </tbody>\n",
       "</table>\n",
       "</div>"
      ],
      "text/plain": [
       "  name  age  height\n",
       "1   광수   41     190\n",
       "2   재석   62     178"
      ]
     },
     "execution_count": 35,
     "metadata": {},
     "output_type": "execute_result"
    }
   ],
   "source": [
    "bool_list = [False, True, True, False]\n",
    "data4[bool_list]"
   ]
  },
  {
   "cell_type": "markdown",
   "id": "350aef1e",
   "metadata": {},
   "source": [
    "# 23. bool이용해서 2번째 column의 1,4 행만 뽑기"
   ]
  },
  {
   "cell_type": "code",
   "execution_count": 37,
   "id": "cebb2c93",
   "metadata": {},
   "outputs": [
    {
     "data": {
      "text/plain": [
       "0    23\n",
       "3     9\n",
       "Name: age, dtype: int64"
      ]
     },
     "execution_count": 37,
     "metadata": {},
     "output_type": "execute_result"
    }
   ],
   "source": [
    "bool_list = [True, False, False, True]\n",
    "data4.age[bool_list]"
   ]
  },
  {
   "cell_type": "markdown",
   "id": "ecba92e5",
   "metadata": {},
   "source": [
    "# 24. 나이, 키 평균 구하기"
   ]
  },
  {
   "cell_type": "code",
   "execution_count": 38,
   "id": "aad4a14b",
   "metadata": {},
   "outputs": [
    {
     "data": {
      "text/plain": [
       "age        33.75\n",
       "height    176.25\n",
       "dtype: float64"
      ]
     },
     "execution_count": 38,
     "metadata": {},
     "output_type": "execute_result"
    }
   ],
   "source": [
    "data4.mean(axis=0) #sum, max, min"
   ]
  },
  {
   "cell_type": "markdown",
   "id": "4460872d",
   "metadata": {},
   "source": [
    "# 25. 데이터형 float로 바꿔보기"
   ]
  },
  {
   "cell_type": "markdown",
   "id": "a193efd8",
   "metadata": {},
   "source": [
    "# 26. 키의 데이터형만 float로 바꿔보기"
   ]
  },
  {
   "cell_type": "code",
   "execution_count": 44,
   "id": "7220cada",
   "metadata": {},
   "outputs": [
    {
     "data": {
      "text/plain": [
       "0    152.0\n",
       "1    190.0\n",
       "2    178.0\n",
       "3    185.0\n",
       "Name: height, dtype: float64"
      ]
     },
     "execution_count": 44,
     "metadata": {},
     "output_type": "execute_result"
    }
   ],
   "source": [
    "data4.height.astype('float')"
   ]
  },
  {
   "cell_type": "code",
   "execution_count": null,
   "id": "4d236237",
   "metadata": {},
   "outputs": [],
   "source": []
  }
 ],
 "metadata": {
  "kernelspec": {
   "display_name": "Python 3",
   "language": "python",
   "name": "python3"
  },
  "language_info": {
   "codemirror_mode": {
    "name": "ipython",
    "version": 3
   },
   "file_extension": ".py",
   "mimetype": "text/x-python",
   "name": "python",
   "nbconvert_exporter": "python",
   "pygments_lexer": "ipython3",
   "version": "3.8.8"
  }
 },
 "nbformat": 4,
 "nbformat_minor": 5
}

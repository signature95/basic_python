{
 "cells": [
  {
   "cell_type": "markdown",
   "metadata": {},
   "source": [
    "# 1. 계산기 프로그램의 기본 기능 구현"
   ]
  },
  {
   "cell_type": "code",
   "execution_count": 27,
   "metadata": {},
   "outputs": [
    {
     "name": "stdout",
     "output_type": "stream",
     "text": [
      "100 + 50 = 150\n",
      "100 - 50 = 50\n",
      "100 * 50 = 5000\n",
      "100 / 50 = 2.0\n"
     ]
    }
   ],
   "source": [
    "a = 100\n",
    "b = 50\n",
    "result = a + b\n",
    "print(a, \"+\", b, \"=\", result)\n",
    "result = a - b\n",
    "print(a, \"-\", b, \"=\", result)\n",
    "result = a * b\n",
    "print(a, \"*\", b, \"=\", result)\n",
    "result = a / b\n",
    "print(a, \"/\", b, \"=\", result) "
   ]
  },
  {
   "cell_type": "markdown",
   "metadata": {},
   "source": [
    "# 2. 계산기 프로그램 확장"
   ]
  },
  {
   "cell_type": "code",
   "execution_count": 7,
   "metadata": {},
   "outputs": [
    {
     "name": "stdout",
     "output_type": "stream",
     "text": [
      "a의 값을 적어주세요 : 10\n",
      "b의 값을 적어주세요 : 20\n",
      "10 + 20 = 1020\n"
     ]
    },
    {
     "ename": "TypeError",
     "evalue": "unsupported operand type(s) for -: 'str' and 'str'",
     "output_type": "error",
     "traceback": [
      "\u001b[0;31m---------------------------------------------------------------------------\u001b[0m",
      "\u001b[0;31mTypeError\u001b[0m                                 Traceback (most recent call last)",
      "\u001b[0;32m<ipython-input-7-c4d9ee25f4c4>\u001b[0m in \u001b[0;36m<module>\u001b[0;34m\u001b[0m\n\u001b[1;32m      3\u001b[0m \u001b[0mresult\u001b[0m \u001b[0;34m=\u001b[0m \u001b[0ma\u001b[0m \u001b[0;34m+\u001b[0m \u001b[0mb\u001b[0m\u001b[0;34m\u001b[0m\u001b[0;34m\u001b[0m\u001b[0m\n\u001b[1;32m      4\u001b[0m \u001b[0mprint\u001b[0m\u001b[0;34m(\u001b[0m\u001b[0ma\u001b[0m\u001b[0;34m,\u001b[0m \u001b[0;34m\"+\"\u001b[0m\u001b[0;34m,\u001b[0m \u001b[0mb\u001b[0m\u001b[0;34m,\u001b[0m \u001b[0;34m\"=\"\u001b[0m\u001b[0;34m,\u001b[0m \u001b[0mresult\u001b[0m\u001b[0;34m)\u001b[0m\u001b[0;34m\u001b[0m\u001b[0;34m\u001b[0m\u001b[0m\n\u001b[0;32m----> 5\u001b[0;31m \u001b[0mresult\u001b[0m \u001b[0;34m=\u001b[0m \u001b[0ma\u001b[0m \u001b[0;34m-\u001b[0m \u001b[0mb\u001b[0m\u001b[0;34m\u001b[0m\u001b[0;34m\u001b[0m\u001b[0m\n\u001b[0m\u001b[1;32m      6\u001b[0m \u001b[0mprint\u001b[0m\u001b[0;34m(\u001b[0m\u001b[0ma\u001b[0m\u001b[0;34m,\u001b[0m \u001b[0;34m\"-\"\u001b[0m \u001b[0;34m,\u001b[0m \u001b[0mb\u001b[0m\u001b[0;34m,\u001b[0m \u001b[0;34m\"=\"\u001b[0m\u001b[0;34m,\u001b[0m \u001b[0mresult\u001b[0m\u001b[0;34m)\u001b[0m\u001b[0;34m\u001b[0m\u001b[0;34m\u001b[0m\u001b[0m\n\u001b[1;32m      7\u001b[0m \u001b[0mresult\u001b[0m \u001b[0;34m=\u001b[0m \u001b[0ma\u001b[0m \u001b[0;34m*\u001b[0m \u001b[0mb\u001b[0m\u001b[0;34m\u001b[0m\u001b[0;34m\u001b[0m\u001b[0m\n",
      "\u001b[0;31mTypeError\u001b[0m: unsupported operand type(s) for -: 'str' and 'str'"
     ]
    }
   ],
   "source": [
    "a = int(input(\"a의 값을 적어주세요 : \"))\n",
    "b = input(\"b의 값을 적어주세요 : \")\n",
    "\n",
    "result = a + b\n",
    "print(a, \"+\", b, \"=\", result)\n",
    "result = a - b\n",
    "print(a, \"-\" , b, \"=\", result)\n",
    "result = a * b\n",
    "print(a, \"*\", b, \"=\", result)\n",
    "result = a / b\n",
    "print(a, \"/\", b, \"=\", result)"
   ]
  },
  {
   "cell_type": "markdown",
   "metadata": {},
   "source": [
    "# 3. 계산기 프로그램 문제점 수정 "
   ]
  },
  {
   "cell_type": "code",
   "execution_count": null,
   "metadata": {},
   "outputs": [],
   "source": [
    "a = int(input()) \n",
    "b = int(input())\n",
    "result = a + b\n",
    "print(a, \"+\", b, \"=\", result)\n",
    "result = a - b\n",
    "print(a, \"-\" , b, \"=\", result)\n",
    "result = a * b\n",
    "print(a, \"*\", b, \"=\", result)\n",
    "result = a / b\n",
    "print(a, \"/\", b, \"=\", result)"
   ]
  },
  {
   "cell_type": "markdown",
   "metadata": {},
   "source": [
    "# 4. 계산기 프로그램 최종 버전"
   ]
  },
  {
   "cell_type": "code",
   "execution_count": 5,
   "metadata": {},
   "outputs": [
    {
     "name": "stdout",
     "output_type": "stream",
     "text": [
      "첫 번째 숫자를 입력하세요 : 10\n",
      "두 번째 숫자를 입력하세요 : 3\n",
      "10 + 3 = 13\n",
      "10 - 3 = 7\n",
      "10 * 3 = 30\n",
      "10 / 3 = 3.3333333333333335\n",
      "10 // 3 = 3\n",
      "10 % 3 = 1\n",
      "10 ** 3 = 1000\n"
     ]
    }
   ],
   "source": [
    "a = int(input(\"첫 번째 숫자를 입력하세요 : \"))\n",
    "b = int(input(\"두 번째 숫자를 입력하세요 : \"))\n",
    "result = a + b\n",
    "print(a, \"+\", b, \"=\", result)\n",
    "result = a - b\n",
    "print(a, \"-\", b, \"=\", result)\n",
    "result = a * b\n",
    "print(a, \"*\", b, \"=\", result)\n",
    "result = a / b\n",
    "print(a, \"/\", b, \"=\", result)\n",
    "result = a // b\n",
    "print(a, \"//\", b, \"=\", result)\n",
    "result = a % b\n",
    "print(a, \"%\", b, \"=\", result)\n",
    "result = a ** b\n",
    "print(a, \"**\", b, \"=\", result)"
   ]
  },
  {
   "cell_type": "markdown",
   "metadata": {},
   "source": [
    "# 5. 터틀그래픽\n",
    "1. turtle.shape('turtle') - “arrow”, “turtle”, “circle”, “square”, “triangle”, “classic”\n",
    "2. turtle.right() - 오른쪽으로 방향을 틀 각도\n",
    "3. turtle.left() - 왼쪽으로 방향을 틀 각도\n",
    "4. turtle.forward() - 앞으로 이동할 거리\n",
    "5. turtle.done() - 코드 종료\n"
   ]
  },
  {
   "cell_type": "code",
   "execution_count": 8,
   "metadata": {},
   "outputs": [],
   "source": [
    "import turtle\n",
    "\n",
    "turtle.shape('turtle')\n",
    "\n",
    "turtle.forward(200)\n",
    "turtle.right(90)\n",
    "turtle.forward(200)\n",
    "turtle.right(90)\n",
    "turtle.forward(200)\n",
    "turtle.right(90)\n",
    "turtle.forward(200)\n",
    "\n",
    "turtle.done()"
   ]
  },
  {
   "cell_type": "code",
   "execution_count": 1,
   "metadata": {},
   "outputs": [],
   "source": [
    "import turtle\n",
    "\n",
    "turtle.shape('triangle')\n",
    "\n",
    "turtle.forward(100)\n",
    "turtle.right(120)\n",
    "turtle.forward(100)\n",
    "turtle.right(120)\n",
    "turtle.forward(100)"
   ]
  },
  {
   "cell_type": "markdown",
   "metadata": {},
   "source": [
    "# 정삼각형 거북이"
   ]
  },
  {
   "cell_type": "code",
   "execution_count": 1,
   "metadata": {},
   "outputs": [],
   "source": [
    "import turtle\n",
    "\n",
    "\n",
    "A = turtle.Turtle()\n",
    "B = turtle.Turtle()\n",
    "\n",
    "A.shape('turtle')\n",
    "B.shape('triangle')\n",
    "\n",
    "A.forward(100)\n",
    "B.left(90)\n",
    "B.forward(100)\n",
    "\n",
    "turtle.done()"
   ]
  },
  {
   "cell_type": "markdown",
   "metadata": {},
   "source": [
    "# 6. 터틀그래픽 코드작성해보기\n",
    "1. A = turtle.Turtle()"
   ]
  },
  {
   "cell_type": "code",
   "execution_count": 22,
   "metadata": {},
   "outputs": [],
   "source": [
    "import turtle\n",
    "\n",
    "## 함수 선언 부분 ## \n",
    "\n",
    "## 변수 선언 부분 ## \n",
    "myT = None\n",
    "youtT = None\n",
    "\n",
    "## 메인 코드 부분 ## \n",
    "myT = turtle.Turtle()\n",
    "yourT = turtle.Turtle()\n",
    "myT.shape('turtle')\n",
    "yourT.shape('square')\n",
    "\n",
    "for i in range(0, 4) :\n",
    "    myT.forward(200)\n",
    "    myT.right(90)\n",
    "for i in range(0, 4) :\n",
    "    yourT.forward(140)\n",
    "    yourT.right(90)\n",
    "    \n",
    "turtle.done()"
   ]
  },
  {
   "cell_type": "markdown",
   "metadata": {},
   "source": [
    "# 7. 터틀그래픽 완성\n",
    "1. turtle.pencolor((r,g,b)) - 줄을 잇는 펜의 색상을 r(빨강), g(초록), b(파랑)에 따라 변경\n",
    "2. turtle.pendown() - 펜을 종이에 갖다댐\n",
    "3. turtle.penup() - 펜을 종이에서 뗌\n",
    "4. turtle.goto(x,y) - x,y의 좌표로 펜을 이동\n",
    "5. turtle.pensize() - 펜의 굵기 설정\n",
    "6. turtle.onscreenclick() - 마우스의 어느 버튼을 누르느냐에 따라 다른 행동\n",
    "7. turtle.shapesize() - 거북이 크기 변경\n",
    "8. turtle.title() - 제목\n",
    "9. random.random() - 0~1 사이의 랜덤한 숫자를 부여\n",
    "10. random.randrange(a,b) - a,b 사이의 랜덤한 정수 부여"
   ]
  },
  {
   "cell_type": "code",
   "execution_count": 1,
   "metadata": {},
   "outputs": [],
   "source": [
    "import turtle\n",
    "import random\n",
    "\n",
    "## 함수 선언 부분 ##\n",
    "def  screenLeftClick(x, y):\n",
    "    global r, g, b\n",
    "    turtle.pencolor((r, g, b))\n",
    "    turtle.pendown()\n",
    "    turtle.goto(x, y)\n",
    "\n",
    "def  screenRightClick(x, y):\n",
    "    turtle.penup()\n",
    "    turtle.goto(x, y)\n",
    "\n",
    "def  screenMidClick(x, y):\n",
    "    global r, g, b\n",
    "    tSize = random.randrange(1, 10)\n",
    "    turtle.shapesize(tSize)\n",
    "    r = random.random()\n",
    "    g = random.random()\n",
    "    b = random.random()\n",
    "    \n",
    "## 변수 선언 부분 ##\n",
    "pSize = 10\n",
    "r, g, b = 0.0, 0.0, 0.0\n",
    "\n",
    "## 메인 코드 부분 ##\n",
    "turtle.title('거북이로 그림 그리기')\n",
    "turtle.shape('turtle')\n",
    "turtle.pensize(pSize)\n",
    "\n",
    "turtle.onscreenclick(screenLeftClick, 1)\n",
    "turtle.onscreenclick(screenMidClick, 2)\n",
    "turtle.onscreenclick(screenRightClick, 3)\n",
    "\n",
    "turtle.done()"
   ]
  },
  {
   "cell_type": "code",
   "execution_count": null,
   "metadata": {},
   "outputs": [],
   "source": []
  }
 ],
 "metadata": {
  "kernelspec": {
   "display_name": "Python 3",
   "language": "python",
   "name": "python3"
  },
  "language_info": {
   "codemirror_mode": {
    "name": "ipython",
    "version": 3
   },
   "file_extension": ".py",
   "mimetype": "text/x-python",
   "name": "python",
   "nbconvert_exporter": "python",
   "pygments_lexer": "ipython3",
   "version": "3.8.8"
  }
 },
 "nbformat": 4,
 "nbformat_minor": 4
}

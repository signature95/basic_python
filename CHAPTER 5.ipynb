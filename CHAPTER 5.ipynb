{
 "cells": [
  {
   "cell_type": "markdown",
   "id": "c94e9ba8",
   "metadata": {},
   "source": [
    "# 1. 100보다 작은지 판별하기 - 틀린 예제"
   ]
  },
  {
   "cell_type": "code",
   "execution_count": 3,
   "id": "222a1cde",
   "metadata": {},
   "outputs": [
    {
     "name": "stdout",
     "output_type": "stream",
     "text": [
      "100보다 크면 이게 안보이겠죠\n"
     ]
    }
   ],
   "source": [
    "a = 101\n",
    "if a<100:\n",
    "    print(\"100보다 작아요\")\n",
    "\n",
    "    \n",
    "print(\"100보다 크면 이게 안보이겠죠\")"
   ]
  },
  {
   "cell_type": "markdown",
   "id": "f70632cf",
   "metadata": {},
   "source": [
    "# 2. 100보다 작은지 판별하기 - 정답"
   ]
  },
  {
   "cell_type": "code",
   "execution_count": 5,
   "id": "a958279d",
   "metadata": {},
   "outputs": [
    {
     "name": "stdout",
     "output_type": "stream",
     "text": [
      "100보다 작아요\n",
      "100보다 크면 이게 안보이겠죠\n"
     ]
    }
   ],
   "source": [
    "a = 87\n",
    "if a<100:\n",
    "    print(\"100보다 작아요\")\n",
    "\n",
    "    \n",
    "    print(\"100보다 크면 이게 안보이겠죠\")"
   ]
  },
  {
   "cell_type": "code",
   "execution_count": 19,
   "id": "f5bf68a7",
   "metadata": {},
   "outputs": [
    {
     "name": "stdout",
     "output_type": "stream",
     "text": [
      "Where are you from?usa\n",
      "Hello\n"
     ]
    }
   ],
   "source": [
    "country = input(\"Where are you from?\")\n",
    "\n",
    "if country == 'korea':\n",
    "    print(\"아 한국 사람이시구나~\")\n",
    "else:\n",
    "    print(\"Hello\")"
   ]
  },
  {
   "cell_type": "code",
   "execution_count": 12,
   "id": "e0ec354f",
   "metadata": {},
   "outputs": [
    {
     "name": "stdout",
     "output_type": "stream",
     "text": [
      "Yes\n"
     ]
    }
   ],
   "source": [
    "a = \"\"\n",
    "if a:\n",
    "    print(\"Yes\")"
   ]
  },
  {
   "cell_type": "code",
   "execution_count": 13,
   "id": "26865dc6",
   "metadata": {},
   "outputs": [
    {
     "name": "stdout",
     "output_type": "stream",
     "text": [
      "OK\n"
     ]
    }
   ],
   "source": [
    "a = 1\n",
    "b = 2\n",
    "c = 3\n",
    "if (a == 1 or b == 2) and c==3:\n",
    "    print('OK')"
   ]
  },
  {
   "cell_type": "markdown",
   "id": "806dce57",
   "metadata": {},
   "source": [
    "# 3. if, else를 사용하여 100보다 큰지 작은지 판별"
   ]
  },
  {
   "cell_type": "code",
   "execution_count": 14,
   "id": "caa55509",
   "metadata": {},
   "outputs": [
    {
     "name": "stdout",
     "output_type": "stream",
     "text": [
      "100보다 작아요\n"
     ]
    }
   ],
   "source": [
    "a = 99\n",
    "\n",
    "if a>100:\n",
    "    print(\"100보다 커요\")\n",
    "if a<=100:\n",
    "    print(\"100보다 작아요\")\n",
    "\n",
    "    "
   ]
  },
  {
   "cell_type": "code",
   "execution_count": 15,
   "id": "49668765",
   "metadata": {},
   "outputs": [
    {
     "name": "stdout",
     "output_type": "stream",
     "text": [
      "100보다 작아요\n"
     ]
    }
   ],
   "source": [
    "a = 99\n",
    "\n",
    "if a>100:\n",
    "    print(\"100보다 커요\")\n",
    "else:\n",
    "    print(\"100보다 작아요\")"
   ]
  },
  {
   "cell_type": "markdown",
   "id": "5d00c43c",
   "metadata": {},
   "source": [
    "# 4. if, else를 사용하여 100보다 큰지 작은지 판별 - 추가"
   ]
  },
  {
   "cell_type": "code",
   "execution_count": 18,
   "id": "ae14985d",
   "metadata": {},
   "outputs": [
    {
     "name": "stdout",
     "output_type": "stream",
     "text": [
      "숫자를 입력해주세요 : 123\n",
      "100보다 커요\n"
     ]
    }
   ],
   "source": [
    "a = int(input(\"숫자를 입력해주세요 : \"))\n",
    "\n",
    "\n",
    "if a>100:\n",
    "    print(\"100보다 커요\")\n",
    "else:\n",
    "    print(\"100보다 작아요\")"
   ]
  },
  {
   "cell_type": "markdown",
   "id": "db9547c0",
   "metadata": {},
   "source": [
    "# 5. 홀짝 판별기"
   ]
  },
  {
   "cell_type": "code",
   "execution_count": 20,
   "id": "1cb90b0d",
   "metadata": {},
   "outputs": [
    {
     "name": "stdout",
     "output_type": "stream",
     "text": [
      "숫자를 입력해주세요43\n",
      "홀수입니다\n"
     ]
    }
   ],
   "source": [
    "num = int(input(\"숫자를 입력해주세요\"))\n",
    "\n",
    "if num % 2 == 0:\n",
    "    print(\"짝수입니다\")\n",
    "else:\n",
    "    print(\"홀수입니다\")"
   ]
  },
  {
   "cell_type": "markdown",
   "id": "64b23b4a",
   "metadata": {},
   "source": [
    "# 6. 술집에서 미성년자 구별하기"
   ]
  },
  {
   "cell_type": "code",
   "execution_count": 22,
   "id": "a7a0f777",
   "metadata": {},
   "outputs": [
    {
     "name": "stdout",
     "output_type": "stream",
     "text": [
      "나이를 알려주세요 : 12\n",
      "가라\n"
     ]
    }
   ],
   "source": [
    "age = int(input(\"나이를 알려주세요 : \"))\n",
    "\n",
    "if age < 19:\n",
    "    print(\"가라\")\n",
    "else:\n",
    "    print(\"어서오세요\")\n",
    "    print(\"이쪽으로 오세요\")\n",
    "\n",
    "print(\"f\")\n",
    "if a>2:\n",
    "    if b<1:\n",
    "        hhj\n",
    "        ghvvg\n",
    "    else:\n",
    "        hgvhg\n",
    "        vhj\n",
    "else:\n",
    "    vgjhvjgh"
   ]
  },
  {
   "cell_type": "markdown",
   "id": "de042af7",
   "metadata": {},
   "source": [
    "# 7. 50, 100을 기준으로 판별"
   ]
  },
  {
   "cell_type": "code",
   "execution_count": 23,
   "id": "b5a6b79d",
   "metadata": {},
   "outputs": [
    {
     "name": "stdout",
     "output_type": "stream",
     "text": [
      "숫자를 입력해주세요 : 54\n",
      "50과 100사이 입니다.\n"
     ]
    }
   ],
   "source": [
    "num = int(input(\"숫자를 입력해주세요 : \"))\n",
    "\n",
    "if num>50:\n",
    "    if num>100:\n",
    "        print(\"100보다 큽니다.\")\n",
    "    else:\n",
    "        print(\"50과 100사이 입니다.\")\n",
    "else:\n",
    "    print(\"50보다 작습니다.\")\n",
    "\n",
    "\n"
   ]
  },
  {
   "cell_type": "markdown",
   "id": "5cc3d79a",
   "metadata": {},
   "source": [
    "# 8. 점수에 따라 등급(A,B,C,D,F) 매기기"
   ]
  },
  {
   "cell_type": "code",
   "execution_count": 26,
   "id": "d7ba5c7a",
   "metadata": {},
   "outputs": [
    {
     "name": "stdout",
     "output_type": "stream",
     "text": [
      "성적을 입력해주세요! : 57\n",
      "이번학기 성적은 F입니다!\n"
     ]
    }
   ],
   "source": [
    "score = int(input(\"성적을 입력해주세요! : \"))\n",
    "\n",
    "if score>100 or score<0:\n",
    "    print(\"잘못된 점수입니다.\")\n",
    "else:\n",
    "    if score > 90:\n",
    "        print(\"이번학기 성적은 A입니다!\")\n",
    "    else:\n",
    "        if score>80:\n",
    "            print(\"이번학기 성적은 B입니다!\")\n",
    "        else:\n",
    "            if score>70:\n",
    "                print(\"이번학기 성적은 C입니다!\")\n",
    "            else:\n",
    "                if score>60:\n",
    "                    print(\"이번학기 성적은 D입니다!\")\n",
    "                else:\n",
    "                    print(\"이번학기 성적은 F입니다!\")\n"
   ]
  },
  {
   "cell_type": "markdown",
   "id": "9aefc64f",
   "metadata": {},
   "source": [
    "# 9. elif를 사용하여 점수에 따라 등급매기기"
   ]
  },
  {
   "cell_type": "code",
   "execution_count": 27,
   "id": "87b5893f",
   "metadata": {},
   "outputs": [
    {
     "name": "stdout",
     "output_type": "stream",
     "text": [
      "성적을 입력하세요! : 65\n",
      "이번학기 성적은 D입니다.\n"
     ]
    }
   ],
   "source": [
    "score = int(input(\"성적을 입력하세요! : \"))\n",
    "\n",
    "if score > 90:\n",
    "    print(\"이번학기 성적은 A입니다.\")\n",
    "elif score>80:\n",
    "    print(\"이번학기 성적은 B입니다.\")\n",
    "elif score>70:\n",
    "    print(\"이번학기 성적은 C입니다.\")\n",
    "elif score>60:\n",
    "    print(\"이번학기 성적은 D입니다.\")\n",
    "else:\n",
    "    print(\"이번학기 성적은 F입니다.\")\n",
    "\n"
   ]
  },
  {
   "cell_type": "markdown",
   "id": "eb8b6c12",
   "metadata": {},
   "source": [
    "# 10. 술집에서 나이(19,25)에 따라 다른 대우하기 - elif"
   ]
  },
  {
   "cell_type": "code",
   "execution_count": 30,
   "id": "75b7ce72",
   "metadata": {},
   "outputs": [
    {
     "name": "stdout",
     "output_type": "stream",
     "text": [
      "나이를 알려주세요 : 14\n",
      "애들은 가라!\n"
     ]
    }
   ],
   "source": [
    "age = int(input(\"나이를 알려주세요 : \"))\n",
    "\n",
    "if age>25:\n",
    "    print(\"어서오십시오\")\n",
    "elif age>19:\n",
    "    print(\"대학생들이니?\")\n",
    "else:\n",
    "    print(\"애들은 가라!\")\n",
    "\n",
    "\n",
    "\n"
   ]
  },
  {
   "cell_type": "code",
   "execution_count": null,
   "id": "65d18f7f",
   "metadata": {},
   "outputs": [],
   "source": [
    "res = '합격' if score>60 else '불합격'"
   ]
  },
  {
   "cell_type": "markdown",
   "id": "bbf74d29",
   "metadata": {},
   "source": [
    "# 11. 계산기 프로그램\n",
    "1. 숫자 하나 입력받기\n",
    "2. 연산자 입력받기\n",
    "3. 두번째 숫자 입력받기\n",
    "4. 숫자와 연산자를 통해 결과 값 출력하기"
   ]
  },
  {
   "cell_type": "code",
   "execution_count": 32,
   "id": "3b474bd0",
   "metadata": {},
   "outputs": [
    {
     "name": "stdout",
     "output_type": "stream",
     "text": [
      "첫번째 숫자를 입력해 주세요 : 3\n",
      "어떤 연산을 하실건가요? : =\n",
      "두번째 숫자를 입력해 주세요 : 5\n",
      "잘못된 연산자입니다.\n"
     ]
    }
   ],
   "source": [
    "num1 = int(input(\"첫번째 숫자를 입력해 주세요 : \"))\n",
    "cor = input(\"어떤 연산을 하실건가요? : \")\n",
    "num2 = int(input(\"두번째 숫자를 입력해 주세요 : \"))\n",
    "\n",
    "if cor == '+':\n",
    "    print(num1+num2)\n",
    "elif cor == '-':\n",
    "    print(num1-num2)\n",
    "elif cor == '*':\n",
    "    print(num1*num2)\n",
    "elif cor == '/':\n",
    "    print(num1/num2)\n",
    "else:\n",
    "    print('잘못된 연산자입니다.')\n",
    "\n",
    "\n"
   ]
  },
  {
   "cell_type": "markdown",
   "id": "32df3cc3",
   "metadata": {},
   "source": [
    "# 12. 등급과 판매가격을 입력받아 등급에 따라 다른 판매가 매기기"
   ]
  },
  {
   "cell_type": "code",
   "execution_count": 34,
   "id": "4da1dae9",
   "metadata": {},
   "outputs": [
    {
     "name": "stdout",
     "output_type": "stream",
     "text": [
      "결제하실 상품의 가격이 어떻게 되는가요? : 35344\n",
      "고객님의 등급이 어떻게 되시는가요? : h\n",
      "잘못된 등급입니다.\n"
     ]
    }
   ],
   "source": [
    "price = int(input(\"결제하실 상품의 가격이 어떻게 되는가요? : \"))\n",
    "grade = input(\"고객님의 등급이 어떻게 되시는가요? : \")\n",
    "\n",
    "if grade == 'A':\n",
    "    print(\"판매가격은 %d입니다.\" %(price*0.7))\n",
    "elif grade == 'B':\n",
    "    print(\"판매가격은 %d입니다.\" %(price*0.85))\n",
    "elif grade == 'C':\n",
    "    print(\"판매가격은 %d입니다.\" %(price*0.92))\n",
    "elif grade == 'Z':\n",
    "    print(\"판매가격은 %d입니다.\" %(price+5000))\n",
    "else:\n",
    "    print(\"잘못된 등급입니다.\")\n",
    "\n",
    "\n"
   ]
  },
  {
   "cell_type": "markdown",
   "id": "70e6d9f1",
   "metadata": {},
   "source": [
    "# 13. 고급 수식 계산기\n",
    "----\n",
    "1. 입력 값에 따라 '수식을 계산'을 진행할지 혹은 '두 수의 덧셈'을 진행할 지 선택\n",
    "2. eval()함수 사용\n",
    "    1. eval()은 문자열을 입력 값으로 받아 수식을 실행시켜주는 함수임"
   ]
  },
  {
   "cell_type": "code",
   "execution_count": 35,
   "id": "4c54702b",
   "metadata": {},
   "outputs": [
    {
     "data": {
      "text/plain": [
       "3"
      ]
     },
     "execution_count": 35,
     "metadata": {},
     "output_type": "execute_result"
    }
   ],
   "source": [
    "eval('1+2')"
   ]
  },
  {
   "cell_type": "code",
   "execution_count": 40,
   "id": "a8b14324",
   "metadata": {},
   "outputs": [
    {
     "name": "stdout",
     "output_type": "stream",
     "text": [
      "무엇을 할지 정해주세요\n",
      "1.수식을 계산\n",
      "2.두 수의 덧셈\n",
      "4\n",
      "잘못된 입력입니다!\n"
     ]
    }
   ],
   "source": [
    "what = int(input(\"무엇을 할지 정해주세요\\n1.수식을 계산\\n2.두 수의 덧셈\\n\"))\n",
    "\n",
    "if what == 1:\n",
    "    s = input(\"수식을 입력해주세요! : \")\n",
    "    print(eval(s))\n",
    "elif what ==2:\n",
    "    num1 = int(input(\"첫번째 수를 입력해 주세요 : \"))\n",
    "    num2 = int(input(\"두번째 수를 입력해 주세요 : \"))\n",
    "    print(num1+num2)\n",
    "else:\n",
    "    print(\"잘못된 입력입니다!\")"
   ]
  },
  {
   "cell_type": "code",
   "execution_count": null,
   "id": "304c2897",
   "metadata": {},
   "outputs": [],
   "source": []
  }
 ],
 "metadata": {
  "kernelspec": {
   "display_name": "Python 3",
   "language": "python",
   "name": "python3"
  },
  "language_info": {
   "codemirror_mode": {
    "name": "ipython",
    "version": 3
   },
   "file_extension": ".py",
   "mimetype": "text/x-python",
   "name": "python",
   "nbconvert_exporter": "python",
   "pygments_lexer": "ipython3",
   "version": "3.8.8"
  }
 },
 "nbformat": 4,
 "nbformat_minor": 5
}

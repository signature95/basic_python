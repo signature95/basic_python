{
 "cells": [
  {
   "cell_type": "markdown",
   "id": "d56d5c62",
   "metadata": {},
   "source": [
    "# 1. 텍스트 파일 3줄 읽기"
   ]
  },
  {
   "cell_type": "code",
   "execution_count": 3,
   "id": "13ea963c",
   "metadata": {},
   "outputs": [
    {
     "name": "stdout",
     "output_type": "stream",
     "text": [
      "안녕하세요\n",
      "\n",
      "텍스트파일입니다.\n",
      "마지막 문장이네요\n"
     ]
    }
   ],
   "source": [
    "inFp = None    # 입력 파일\n",
    "inStr = \"\"        # 읽어온 문자열\n",
    "\n",
    "inFp = open(\"data1.txt\", \"r\")\n",
    "\n",
    "inStr = inFp.readline()\n",
    "print(inStr, end = \"\")\n",
    "\n",
    "inStr = inFp.readline()\n",
    "print(inStr, end = \"\")\n",
    "\n",
    "inStr = inFp.readline()\n",
    "print(inStr, end = \"\")\n",
    "\n",
    "inFp.close()\n",
    "\n"
   ]
  },
  {
   "cell_type": "code",
   "execution_count": 4,
   "id": "825f613f",
   "metadata": {},
   "outputs": [
    {
     "name": "stdout",
     "output_type": "stream",
     "text": [
      "안녕하세요\n",
      "텍스트파일입니다.\n",
      "마지막 문장이네요\n"
     ]
    }
   ],
   "source": [
    "inFp = open(\"data1.txt\", \"r\")\n",
    "\n",
    "\n",
    "for i in range(3):\n",
    "    \n",
    "    inStr = inFp.readline()\n",
    "    print(inStr, end = \"\")\n",
    "\n",
    "inFp.close()"
   ]
  },
  {
   "cell_type": "markdown",
   "id": "3d645697",
   "metadata": {},
   "source": [
    "# 2. 텍스트 파일 모든 줄 읽기"
   ]
  },
  {
   "cell_type": "code",
   "execution_count": 5,
   "id": "fe100601",
   "metadata": {},
   "outputs": [
    {
     "name": "stdout",
     "output_type": "stream",
     "text": [
      "안녕하세요\n",
      "텍스트파일입니다.\n",
      "마지막 문장이네요\n",
      "4번째문장입니다."
     ]
    }
   ],
   "source": [
    "inFp = None\t# 입력 파일\n",
    "inStr = \"\"  # 읽어온 문자열\n",
    "\n",
    "inFp = open(\"data1.txt\", \"r\")\n",
    "\n",
    "while True :\n",
    "    inStr = inFp.readline()\n",
    "    if inStr == \"\" :\n",
    "        break;\n",
    "    print(inStr, end = \"\")\n",
    "\n",
    "inFp.close()\n",
    "\n"
   ]
  },
  {
   "cell_type": "markdown",
   "id": "e3153abd",
   "metadata": {},
   "source": [
    "# 3. 텍스트 파일 한번에 다 읽기"
   ]
  },
  {
   "cell_type": "code",
   "execution_count": 6,
   "id": "7c3dab57",
   "metadata": {},
   "outputs": [
    {
     "name": "stdout",
     "output_type": "stream",
     "text": [
      "['안녕하세요\\n', '텍스트파일입니다.\\n', '마지막 문장이네요\\n', '4번째문장입니다.']\n"
     ]
    }
   ],
   "source": [
    "inFp = None \n",
    "inList = \"\"    \n",
    "\n",
    "inFp = open(\"data1.txt\", \"r\")\n",
    "\n",
    "inList = inFp.readlines()\n",
    "print(inList)\n",
    "\n",
    "inFp.close()\n",
    "\n"
   ]
  },
  {
   "cell_type": "code",
   "execution_count": 8,
   "id": "648aa6fd",
   "metadata": {},
   "outputs": [
    {
     "name": "stdout",
     "output_type": "stream",
     "text": [
      "안녕하세요\n",
      "텍스트파일입니다.\n",
      "마지막 문장이네요\n",
      "4번째문장입니다."
     ]
    }
   ],
   "source": [
    "inFp = open(\"data1.txt\", \"r\")\n",
    "inList = inFp.readlines()\n",
    "# for i in range(len(inList)):\n",
    "#     print(inList[i], end =\"\")\n",
    "for line in inList:\n",
    "    print(line, end=\"\")\n",
    "inFp.close()\n"
   ]
  },
  {
   "cell_type": "markdown",
   "id": "4f8845a7",
   "metadata": {},
   "source": [
    "# 4. close() 사용하지 않고 파일 열기 "
   ]
  },
  {
   "cell_type": "code",
   "execution_count": 9,
   "id": "a5520500",
   "metadata": {},
   "outputs": [
    {
     "name": "stdout",
     "output_type": "stream",
     "text": [
      "['안녕하세요\\n', '텍스트파일입니다.\\n', '마지막 문장이네요\\n', '4번째문장입니다.']\n"
     ]
    }
   ],
   "source": [
    "with open(\"data1.txt\",\"r\") as inFp:\n",
    "    inList=inFp.readlines()\n",
    "    print(inList)"
   ]
  },
  {
   "cell_type": "markdown",
   "id": "db147d68",
   "metadata": {},
   "source": [
    "# 5. readlines() 사용 후 파일의 내용 한 행씩 출력"
   ]
  },
  {
   "cell_type": "code",
   "execution_count": 9,
   "id": "09d6092e",
   "metadata": {},
   "outputs": [
    {
     "name": "stdout",
     "output_type": "stream",
     "text": [
      "Hello\n",
      "Nice to\n",
      "Meet you"
     ]
    }
   ],
   "source": [
    "inFp = None \n",
    "inList, inStr = [], \"\"\n",
    "\n",
    "inFp = open(\"data1.txt\", \"r\")\n",
    "\n",
    "inList = inFp.readlines()\n",
    "for inStr in inList :\n",
    "    print(inStr, end=\"\")\n",
    "\n",
    "inFp.close()\n",
    "\n"
   ]
  },
  {
   "cell_type": "markdown",
   "id": "4e5be0af",
   "metadata": {},
   "source": [
    "# 6. 파일명 입력받아 내용 출력하기"
   ]
  },
  {
   "cell_type": "code",
   "execution_count": 13,
   "id": "26ebbf62",
   "metadata": {},
   "outputs": [
    {
     "name": "stdout",
     "output_type": "stream",
     "text": [
      "파일명을 입력하세요 : data2\n"
     ]
    },
    {
     "ename": "FileNotFoundError",
     "evalue": "[Errno 2] No such file or directory: 'data2.txt'",
     "output_type": "error",
     "traceback": [
      "\u001b[0;31m---------------------------------------------------------------------------\u001b[0m",
      "\u001b[0;31mFileNotFoundError\u001b[0m                         Traceback (most recent call last)",
      "\u001b[0;32m<ipython-input-13-16c144bc89cc>\u001b[0m in \u001b[0;36m<module>\u001b[0;34m\u001b[0m\n\u001b[1;32m      3\u001b[0m \u001b[0;34m\u001b[0m\u001b[0m\n\u001b[1;32m      4\u001b[0m \u001b[0mfName\u001b[0m \u001b[0;34m=\u001b[0m \u001b[0minput\u001b[0m\u001b[0;34m(\u001b[0m\u001b[0;34m\"파일명을 입력하세요 : \"\u001b[0m\u001b[0;34m)\u001b[0m\u001b[0;34m\u001b[0m\u001b[0;34m\u001b[0m\u001b[0m\n\u001b[0;32m----> 5\u001b[0;31m \u001b[0minFp\u001b[0m \u001b[0;34m=\u001b[0m \u001b[0mopen\u001b[0m\u001b[0;34m(\u001b[0m\u001b[0mfName\u001b[0m\u001b[0;34m+\u001b[0m\u001b[0;34m'.txt'\u001b[0m\u001b[0;34m,\u001b[0m \u001b[0;34m\"r\"\u001b[0m\u001b[0;34m)\u001b[0m\u001b[0;34m\u001b[0m\u001b[0;34m\u001b[0m\u001b[0m\n\u001b[0m\u001b[1;32m      6\u001b[0m \u001b[0;34m\u001b[0m\u001b[0m\n\u001b[1;32m      7\u001b[0m \u001b[0minList\u001b[0m \u001b[0;34m=\u001b[0m \u001b[0minFp\u001b[0m\u001b[0;34m.\u001b[0m\u001b[0mreadlines\u001b[0m\u001b[0;34m(\u001b[0m\u001b[0;34m)\u001b[0m\u001b[0;34m\u001b[0m\u001b[0;34m\u001b[0m\u001b[0m\n",
      "\u001b[0;31mFileNotFoundError\u001b[0m: [Errno 2] No such file or directory: 'data2.txt'"
     ]
    }
   ],
   "source": [
    "inFp = None \n",
    "fName, inList, inStr = \"\", [ ], \"\"   \n",
    "\n",
    "fName = input(\"파일명을 입력하세요 : \")\n",
    "inFp = open(fName+'.txt', \"r\")\n",
    "\n",
    "inList = inFp.readlines()\n",
    "for inStr in inList :\n",
    "    print(inStr, end = \"\")\n",
    "\n",
    "inFp.close()\n",
    "\n"
   ]
  },
  {
   "cell_type": "markdown",
   "id": "e0bfb205",
   "metadata": {},
   "source": [
    "# 7. 파일이 존재하지 않을 때 오류 발생시키지 않기"
   ]
  },
  {
   "cell_type": "code",
   "execution_count": 16,
   "id": "f8ab4734",
   "metadata": {},
   "outputs": [
    {
     "name": "stdout",
     "output_type": "stream",
     "text": [
      "파일명을 입력하세요 : daghf\n",
      "daghf 파일이 없습니다\n"
     ]
    }
   ],
   "source": [
    "import os\n",
    "\n",
    "inFp = None \n",
    "fName, inList, inStr = \"\", [ ], \"\"   \n",
    "\n",
    "fName = input(\"파일명을 입력하세요 : \")\n",
    "\n",
    "if os.path.exists(fName) :\n",
    "    inFp = open(fName, \"r\")\n",
    "    \n",
    "    inList = inFp.readlines()\n",
    "    for inStr in inList :\n",
    "        print(inStr, end = \"\")\n",
    "        \n",
    "    inFp.close()\n",
    "else :\n",
    "    print(\"%s 파일이 없습니다\" %fName)\n",
    "\n"
   ]
  },
  {
   "cell_type": "markdown",
   "id": "584e7c7c",
   "metadata": {},
   "source": [
    "# 8. 한 줄씩 파일 쓰기"
   ]
  },
  {
   "cell_type": "code",
   "execution_count": 18,
   "id": "49822fb9",
   "metadata": {},
   "outputs": [
    {
     "name": "stdout",
     "output_type": "stream",
     "text": [
      "내용 입력 : 123\n",
      "내용 입력 : 12\n",
      "내용 입력 : 1\n",
      "내용 입력 : \n",
      "--- 파일에 정상적으로 써졌음 ---\n"
     ]
    }
   ],
   "source": [
    "outFp = None \n",
    "outStr = \"\"\n",
    "\n",
    "outFp = open(\"data2.txt\", \"w\")\n",
    "\n",
    "while True:\n",
    "    outStr = input(\"내용 입력 : \")\n",
    "    if outStr != \"\" :\n",
    "        outFp.write(outStr + \"\\n\")\n",
    "    else :\n",
    "        break\n",
    "\n",
    "outFp.close()\n",
    "print(\"--- 파일에 정상적으로 써졌음 ---\")"
   ]
  },
  {
   "cell_type": "markdown",
   "id": "1f6a87f4",
   "metadata": {},
   "source": [
    "# 9. 텍스트 파일 복사하기"
   ]
  },
  {
   "cell_type": "code",
   "execution_count": 19,
   "id": "862a0a70",
   "metadata": {},
   "outputs": [
    {
     "name": "stdout",
     "output_type": "stream",
     "text": [
      "--- 파일이 정상적으로 복사되었음 ---\n"
     ]
    }
   ],
   "source": [
    "inFp, outFp = None, None \n",
    "inStr = \"\"\n",
    "\n",
    "inFp = open(\"data1.txt\", \"r\")\n",
    "outFp = open(\"data3.txt\", \"w\")\n",
    "\n",
    "inList = inFp.readlines()\n",
    "for inStr in inList :\n",
    "    outFp.writelines(inStr)\n",
    "\n",
    "inFp.close()\n",
    "outFp.close()\n",
    "print(\"--- 파일이 정상적으로 복사되었음 ---\")\n",
    "\n"
   ]
  },
  {
   "cell_type": "markdown",
   "id": "51282015",
   "metadata": {},
   "source": [
    "## Shutil을 사용하여 파일 복사"
   ]
  },
  {
   "cell_type": "code",
   "execution_count": 20,
   "id": "31bf9754",
   "metadata": {},
   "outputs": [
    {
     "data": {
      "text/plain": [
       "'byshutil.txt'"
      ]
     },
     "execution_count": 20,
     "metadata": {},
     "output_type": "execute_result"
    }
   ],
   "source": [
    "import shutil\n",
    "shutil.copy('data1.txt','byshutil.txt')"
   ]
  },
  {
   "cell_type": "markdown",
   "id": "8de92440",
   "metadata": {},
   "source": [
    "## Shutil을 사용하여 폴더 복사"
   ]
  },
  {
   "cell_type": "code",
   "execution_count": 21,
   "id": "7deaf44c",
   "metadata": {},
   "outputs": [
    {
     "data": {
      "text/plain": [
       "'/Users/jaewoo/Documents/New'"
      ]
     },
     "execution_count": 21,
     "metadata": {},
     "output_type": "execute_result"
    }
   ],
   "source": [
    "import shutil\n",
    "shutil.copytree('/Users/jaewoo/Documents/파이썬 강의/문제해결프로그래밍/CHAP 11/source', '/Users/jaewoo/Documents/New')"
   ]
  },
  {
   "cell_type": "markdown",
   "id": "8a1ceead",
   "metadata": {},
   "source": [
    "## 디렉토리 생성 및 삭제"
   ]
  },
  {
   "cell_type": "code",
   "execution_count": 23,
   "id": "dbe70474",
   "metadata": {},
   "outputs": [
    {
     "ename": "FileNotFoundError",
     "evalue": "[Errno 2] No such file or directory: 'newdir/newdir2'",
     "output_type": "error",
     "traceback": [
      "\u001b[0;31m---------------------------------------------------------------------------\u001b[0m",
      "\u001b[0;31mFileNotFoundError\u001b[0m                         Traceback (most recent call last)",
      "\u001b[0;32m<ipython-input-23-eb872eec047d>\u001b[0m in \u001b[0;36m<module>\u001b[0;34m\u001b[0m\n\u001b[1;32m      3\u001b[0m \u001b[0;34m\u001b[0m\u001b[0m\n\u001b[1;32m      4\u001b[0m \u001b[0;31m# os.mkdir('newdir')\u001b[0m\u001b[0;34m\u001b[0m\u001b[0;34m\u001b[0m\u001b[0;34m\u001b[0m\u001b[0m\n\u001b[0;32m----> 5\u001b[0;31m \u001b[0mos\u001b[0m\u001b[0;34m.\u001b[0m\u001b[0mmkdir\u001b[0m\u001b[0;34m(\u001b[0m\u001b[0;34m'newdir/newdir2'\u001b[0m\u001b[0;34m)\u001b[0m\u001b[0;34m\u001b[0m\u001b[0;34m\u001b[0m\u001b[0m\n\u001b[0m\u001b[1;32m      6\u001b[0m \u001b[0;31m# shutil.rmtree('newdir')\u001b[0m\u001b[0;34m\u001b[0m\u001b[0;34m\u001b[0m\u001b[0;34m\u001b[0m\u001b[0m\n",
      "\u001b[0;31mFileNotFoundError\u001b[0m: [Errno 2] No such file or directory: 'newdir/newdir2'"
     ]
    }
   ],
   "source": [
    "import os\n",
    "import shutil\n",
    "\n",
    "os.mkdir('newdir')\n",
    "os.mkdir('newdir/newdir2')\n",
    "# shutil.rmtree('newdir')"
   ]
  },
  {
   "cell_type": "markdown",
   "id": "fd76461d",
   "metadata": {},
   "source": [
    "## 파일 또는 폴더가 존재하는지 확인"
   ]
  },
  {
   "cell_type": "code",
   "execution_count": 29,
   "id": "e1922cbe",
   "metadata": {},
   "outputs": [
    {
     "data": {
      "text/plain": [
       "False"
      ]
     },
     "execution_count": 29,
     "metadata": {},
     "output_type": "execute_result"
    }
   ],
   "source": [
    "import os.path\n",
    "# os.path.exists('source')\n",
    "# os.path.isfile('source/Code11-0.py')\n",
    "os.path.isdir('source/Code11-0.py')"
   ]
  },
  {
   "cell_type": "markdown",
   "id": "d51f954b",
   "metadata": {},
   "source": [
    "## 파일 삭제"
   ]
  },
  {
   "cell_type": "code",
   "execution_count": 34,
   "id": "65b8fb9c",
   "metadata": {},
   "outputs": [],
   "source": [
    "import os\n",
    "os.remove('data3.txt')"
   ]
  },
  {
   "cell_type": "markdown",
   "id": "488f54b2",
   "metadata": {},
   "source": [
    "## 파일 크기 확인(바이트 단위)"
   ]
  },
  {
   "cell_type": "code",
   "execution_count": 35,
   "id": "628c3631",
   "metadata": {},
   "outputs": [
    {
     "data": {
      "text/plain": [
       "91"
      ]
     },
     "execution_count": 35,
     "metadata": {},
     "output_type": "execute_result"
    }
   ],
   "source": [
    "import os.path\n",
    "os.path.getsize('data1.txt')"
   ]
  },
  {
   "cell_type": "markdown",
   "id": "c6ed7263",
   "metadata": {},
   "source": [
    "# 10. 암호화 및 암호 해독 프로그램 만들기\n",
    "+ 아이디어\n",
    " + 암호화를 할 파일은 입력받아 암호화를 진행하여 파일 쓰기\n",
    " + ord()함수와 chr()함수 사용\n",
    " + 아스키코드 번호에 특정 숫자를 더하고 빼기"
   ]
  },
  {
   "cell_type": "code",
   "execution_count": 55,
   "id": "d4da5a66",
   "metadata": {},
   "outputs": [
    {
     "name": "stdout",
     "output_type": "stream",
     "text": [
      " 1. 암호화  2. 암호 해석 중 선택 : 1\n",
      "입력 파일명을 입력하세요 : data1.txt\n",
      "출력 파일명을 입력하세요 : data22.txt\n",
      "Hello\n",
      "\n",
      "Nice to\n",
      "\n",
      "Meet you\n",
      "\n",
      " data1.txt --> data22.txt 변환 완료\n"
     ]
    }
   ],
   "source": [
    "## 변수 선언 부분 ##\n",
    "inFp, outFp = None, None\n",
    "inStr, outStr = \"\", \"\"\n",
    "i = 0\n",
    "secu = 0\n",
    "\n",
    "## 메인 코드 부분 ##\n",
    "secuYN = input(\" 1. 암호화  2. 암호 해석 중 선택 : \")\n",
    "inFname = input(\"입력 파일명을 입력하세요 : \")\n",
    "outFname = input(\"출력 파일명을 입력하세요 : \")\n",
    "\n",
    "if secuYN == \"1\" :\n",
    "    secu = 100\n",
    "elif secuYN == \"2\" :\n",
    "    secu = -100\n",
    "\n",
    "inFp = open(inFname, 'r', encoding = 'utf-8')\n",
    "outFp = open(outFname, 'w', encoding = 'utf-8')\n",
    "\n",
    "while True :\n",
    "    inStr = inFp.readline()\n",
    "    if not inStr :\n",
    "        break\n",
    "\n",
    "    outStr = \"\"\n",
    "    for i in range(0, len(inStr)) :\n",
    "        ch = inStr[i]\n",
    "        chNum = ord(ch)\n",
    "        chNum = chNum + secu\n",
    "        ch2 = chr(chNum)\n",
    "        outStr = outStr + ch2\n",
    "\n",
    "    outFp.write(outStr)\n",
    "\n",
    "outFp.close()\n",
    "inFp.close()\n",
    "print(' %s --> %s 변환 완료' % (inFname, outFname))\n",
    "\n"
   ]
  }
 ],
 "metadata": {
  "kernelspec": {
   "display_name": "Python 3",
   "language": "python",
   "name": "python3"
  },
  "language_info": {
   "codemirror_mode": {
    "name": "ipython",
    "version": 3
   },
   "file_extension": ".py",
   "mimetype": "text/x-python",
   "name": "python",
   "nbconvert_exporter": "python",
   "pygments_lexer": "ipython3",
   "version": "3.9.2+"
  }
 },
 "nbformat": 4,
 "nbformat_minor": 5
}

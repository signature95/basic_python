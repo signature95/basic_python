{
 "cells": [
  {
   "cell_type": "markdown",
   "id": "aa0e92c0",
   "metadata": {},
   "source": [
    "# 1. 리스트의 필요성 - 4개의 변수를 입력받고 합계를 출력하는 프로그램 짜보기"
   ]
  },
  {
   "cell_type": "code",
   "execution_count": 1,
   "id": "1beb9dee",
   "metadata": {},
   "outputs": [
    {
     "name": "stdout",
     "output_type": "stream",
     "text": [
      "첫번째 수를 입력해 주세요 : 1\n",
      "두번째 수를 입력해 주세요 : 2\n",
      "세번째 수를 입력해 주세요 : 3\n",
      "네번째 수를 입력해 주세요 : 4\n",
      "합계는 10\n"
     ]
    }
   ],
   "source": [
    "a = int(input(\"첫번째 수를 입력해 주세요 : \"))\n",
    "b = int(input(\"두번째 수를 입력해 주세요 : \"))\n",
    "c = int(input(\"세번째 수를 입력해 주세요 : \"))\n",
    "d = int(input(\"네번째 수를 입력해 주세요 : \"))\n",
    "\n",
    "result = a+b+c+d\n",
    "\n",
    "print(\"합계는 %2d\" %(result))"
   ]
  },
  {
   "cell_type": "code",
   "execution_count": 3,
   "id": "b74d2b13",
   "metadata": {},
   "outputs": [
    {
     "name": "stdout",
     "output_type": "stream",
     "text": [
      "1 번째 숫자를 입력해 주세요 : 1\n",
      "2 번째 숫자를 입력해 주세요 : 2\n",
      "3 번째 숫자를 입력해 주세요 : 3\n",
      "4 번째 숫자를 입력해 주세요 : 4\n",
      "10\n"
     ]
    }
   ],
   "source": [
    "result = 0\n",
    "for i in range(4):\n",
    "    a = int(input(\"%d 번째 숫자를 입력해 주세요 : \" %(i+1)))\n",
    "    result += a\n",
    "print(result)"
   ]
  },
  {
   "cell_type": "markdown",
   "id": "3f2b573c",
   "metadata": {},
   "source": [
    "# 2. 리스트의 활용 - 4개의 변수를 입력받고 합계를 출력하는 프로그램 짜보기 (리스트 사용)"
   ]
  },
  {
   "cell_type": "code",
   "execution_count": 4,
   "id": "921d392e",
   "metadata": {},
   "outputs": [
    {
     "name": "stdout",
     "output_type": "stream",
     "text": [
      "[3, 0, 0, 0]\n"
     ]
    }
   ],
   "source": [
    "aa = [0,0,0,0]\n",
    "# aa[0]=0\n",
    "# aa[1]=0\n",
    "# aa[2]=0\n",
    "# aa[3]=0\n",
    "\n",
    "aa[0] = 3\n",
    "print(aa)"
   ]
  },
  {
   "cell_type": "code",
   "execution_count": 6,
   "id": "22596b27",
   "metadata": {},
   "outputs": [
    {
     "name": "stdout",
     "output_type": "stream",
     "text": [
      "1 번째 숫자를 입력해주세요 : 1\n",
      "2 번째 숫자를 입력해주세요 : 2\n",
      "3 번째 숫자를 입력해주세요 : 3\n",
      "4 번째 숫자를 입력해주세요 : 4\n",
      "10\n"
     ]
    }
   ],
   "source": [
    "a = [0,0,0,0]\n",
    "for i in range(4):\n",
    "    a[i] = int(input(\"%d 번째 숫자를 입력해주세요 : \" %(i+1)))\n",
    "result = a[0]+a[1]+a[2]+a[3]\n",
    "print(result)"
   ]
  },
  {
   "cell_type": "code",
   "execution_count": 11,
   "id": "c1734ffc",
   "metadata": {},
   "outputs": [
    {
     "name": "stdout",
     "output_type": "stream",
     "text": [
      "[1, 2, 3, 4]\n",
      "[1, 2, 3, 4, 3.14]\n"
     ]
    }
   ],
   "source": [
    "a = [1,2,3,4]\n",
    "print(a)\n",
    "a.append(3.14)\n",
    "print(a)"
   ]
  },
  {
   "cell_type": "markdown",
   "id": "00837360",
   "metadata": {},
   "source": [
    "# 3. for 문을 이용하여 리스트에 항 추가 및 변수 입력해보기"
   ]
  },
  {
   "cell_type": "code",
   "execution_count": 12,
   "id": "f8f7ff93",
   "metadata": {},
   "outputs": [
    {
     "name": "stdout",
     "output_type": "stream",
     "text": [
      "몇개짜리 리스트를 만들까요? : 10\n",
      "[0, 0, 0, 0, 0, 0, 0, 0, 0, 0]\n"
     ]
    }
   ],
   "source": [
    "a = []\n",
    "num = int(input(\"몇개짜리 리스트를 만들까요? : \"))\n",
    "for i in range(num):\n",
    "    a.append(0)\n",
    "print(a)"
   ]
  },
  {
   "cell_type": "code",
   "execution_count": 14,
   "id": "7db8e5b3",
   "metadata": {},
   "outputs": [
    {
     "name": "stdout",
     "output_type": "stream",
     "text": [
      "몇개짜리 리스트를 만들까요? : 3\n",
      "1 번째 숫자를 입력해주세요 : 1\n",
      "2 번째 숫자를 입력해주세요 : 2\n",
      "3 번째 숫자를 입력해주세요 : 7\n",
      "[1, 2, 7]\n"
     ]
    }
   ],
   "source": [
    "a = []\n",
    "num = int(input(\"몇개짜리 리스트를 만들까요? : \"))\n",
    "for i in range(num):\n",
    "    a.append(int(input(\"%d 번째 숫자를 입력해주세요 : \" %(i+1))))\n",
    "print(a)"
   ]
  },
  {
   "cell_type": "markdown",
   "id": "e44ccf41",
   "metadata": {},
   "source": [
    "# 4. 0부터 순서대로 짝수가 채워진 리스트 만들어보기"
   ]
  },
  {
   "cell_type": "code",
   "execution_count": 17,
   "id": "c52ed4de",
   "metadata": {},
   "outputs": [
    {
     "name": "stdout",
     "output_type": "stream",
     "text": [
      "몇개짜리 리스트를 만들까요? : 4\n",
      "[2, 4, 6, 8]\n"
     ]
    }
   ],
   "source": [
    "a = []\n",
    "num = int(input(\"몇개짜리 리스트를 만들까요? : \"))\n",
    "\n",
    "for i in range(num):\n",
    "    a.append((i+1)*2)\n",
    "print(a)"
   ]
  },
  {
   "cell_type": "markdown",
   "id": "f054ea8a",
   "metadata": {},
   "source": [
    "# 5. 4에서 만든 리스트의 역순으로 채워진 리스트 만들어보기"
   ]
  },
  {
   "cell_type": "code",
   "execution_count": 19,
   "id": "95b358c7",
   "metadata": {
    "scrolled": true
   },
   "outputs": [
    {
     "name": "stdout",
     "output_type": "stream",
     "text": [
      "[0, 2, 4, 6, 8, 10, 12, 14, 16, 18, 20, 22, 24, 26, 28, 30, 32, 34, 36, 38, 40, 42, 44, 46, 48, 50, 52, 54, 56, 58, 60, 62, 64, 66, 68, 70, 72, 74, 76, 78, 80, 82, 84, 86, 88, 90, 92, 94, 96, 98, 100, 102, 104, 106, 108, 110, 112, 114, 116, 118, 120, 122, 124, 126, 128, 130, 132, 134, 136, 138, 140, 142, 144, 146, 148, 150, 152, 154, 156, 158, 160, 162, 164, 166, 168, 170, 172, 174, 176, 178, 180, 182, 184, 186, 188, 190, 192, 194, 196, 198]\n",
      "[198, 196, 194, 192, 190, 188, 186, 184, 182, 180, 178, 176, 174, 172, 170, 168, 166, 164, 162, 160, 158, 156, 154, 152, 150, 148, 146, 144, 142, 140, 138, 136, 134, 132, 130, 128, 126, 124, 122, 120, 118, 116, 114, 112, 110, 108, 106, 104, 102, 100, 98, 96, 94, 92, 90, 88, 86, 84, 82, 80, 78, 76, 74, 72, 70, 68, 66, 64, 62, 60, 58, 56, 54, 52, 50, 48, 46, 44, 42, 40, 38, 36, 34, 32, 30, 28, 26, 24, 22, 20, 18, 16, 14, 12, 10, 8, 6, 4, 2, 0]\n"
     ]
    }
   ],
   "source": [
    "a = []\n",
    "for i in range(100):\n",
    "    a.append(2*i)\n",
    "print(a)\n",
    "\n",
    "b = []\n",
    "for i in range(100):\n",
    "    b.append(a[99-i])\n",
    "print(b)\n"
   ]
  },
  {
   "cell_type": "code",
   "execution_count": 20,
   "id": "2a62a95d",
   "metadata": {},
   "outputs": [
    {
     "name": "stdout",
     "output_type": "stream",
     "text": [
      "리스트의 길이를 정해주세요 : 4\n",
      "1번째 수를 입력해주세요 : 1\n",
      "2번째 수를 입력해주세요 : 2\n",
      "3번째 수를 입력해주세요 : 3\n",
      "4번째 수를 입력해주세요 : 4\n",
      "기존 입력 리스트 :  [1, 2, 3, 4]\n",
      "역순 리스트 :  [4, 3, 2, 1]\n"
     ]
    }
   ],
   "source": [
    "a = []\n",
    "b = []\n",
    "num = int(input(\"리스트의 길이를 정해주세요 : \"))\n",
    "for i in range(num):\n",
    "    a.append(int(input(\"%d번째 수를 입력해주세요 : \" %(i+1))))\n",
    "print(\"기존 입력 리스트 : \", a)\n",
    "for i in range(num):\n",
    "    b.append(a[num-i-1])\n",
    "\n",
    "print(\"역순 리스트 : \",b)"
   ]
  },
  {
   "cell_type": "code",
   "execution_count": 49,
   "id": "b423df20",
   "metadata": {},
   "outputs": [
    {
     "data": {
      "text/plain": [
       "[8, 5, 2]"
      ]
     },
     "execution_count": 49,
     "metadata": {},
     "output_type": "execute_result"
    }
   ],
   "source": [
    "a = [1,2,3,4,5,6,7,8]\n",
    "a[::-3]\n"
   ]
  },
  {
   "cell_type": "code",
   "execution_count": 74,
   "id": "0eb9e8b7",
   "metadata": {},
   "outputs": [
    {
     "data": {
      "text/plain": [
       "[1, 3, 1, 3, 1, 3]"
      ]
     },
     "execution_count": 74,
     "metadata": {},
     "output_type": "execute_result"
    }
   ],
   "source": [
    "a =[1,2,3,1,2,3,1,2,3,5]\n",
    "\n",
    "num = a.count(2)\n",
    "for i in range(num):\n",
    "    a.remove(2)\n",
    "a"
   ]
  },
  {
   "cell_type": "markdown",
   "id": "81d085da",
   "metadata": {},
   "source": [
    "# 6. 리스트의 기본\n",
    "1. 음수값으로 접근\n",
    "2. :을 사용하여 범위 지정\n",
    "3. :의 앞, 뒤 숫자 생략\n",
    "4. 리스트끼리 덧셈, 곱셈 연산\n",
    "5. 리스트 항목 건너뛰며 추출\n",
    "6. 리스트 값 변경 - 1개, 2개, 리스트로 변경\n",
    "7. 항목 삭제\n",
    "8. 여러 항목 삭제\n",
    "9. 리스트 자체 삭제"
   ]
  },
  {
   "cell_type": "markdown",
   "id": "24ffaa8c",
   "metadata": {},
   "source": [
    "# 리스트 함수 암기\n",
    "1. 리스트 뒤에 항목추가\n",
    "2. 리스트 맨 뒤의 항목 제거\n",
    "3. 리스트의 항목 정렬\n",
    "4. 리스트 항목 역순으로 정렬\n",
    "5. 지정한 값을 찾아 해당 위치 반환\n",
    "6. 지정된 위에 값을 삽입\n",
    "7. 지정한 값 삭제\n",
    "8. 리스트 뒤에 리스트 추가\n",
    "9. 리스트에서 해당 값의 개수를 세기\n",
    "10. 리스트 내용을 모두 지우기\n",
    "11. 리스트에서 해당 위치 항목 삭제\n",
    "12. 리스트 전체 항목의 개수 세기\n",
    "13. 리스트 내용을 새로운 리스트에 복사\n",
    "14. 항목을 정렬하여 새로운 리스트에 대입"
   ]
  },
  {
   "cell_type": "markdown",
   "id": "2a05efac",
   "metadata": {},
   "source": [
    "# 7. 2차원 리스트 만들어보기 (리스트 내부 값이 1씩 증가하도록)"
   ]
  },
  {
   "cell_type": "code",
   "execution_count": 84,
   "id": "58df519d",
   "metadata": {},
   "outputs": [
    {
     "data": {
      "text/plain": [
       "[[1, 2, 3], [4, 5, 6], [7, 8, 9]]"
      ]
     },
     "execution_count": 84,
     "metadata": {},
     "output_type": "execute_result"
    }
   ],
   "source": [
    "a = [[1,2,3]\n",
    "     ,[4,5,6]\n",
    "     ,[7,8,9]]\n",
    "a"
   ]
  },
  {
   "cell_type": "code",
   "execution_count": 92,
   "id": "1879fa52",
   "metadata": {},
   "outputs": [
    {
     "data": {
      "text/plain": [
       "[[1, 2, 3], [4, 5, 6], [7, 8, 9]]"
      ]
     },
     "execution_count": 92,
     "metadata": {},
     "output_type": "execute_result"
    }
   ],
   "source": [
    "a = []\n",
    "for i in range(3):\n",
    "    a.append([])\n",
    "    for j in range(3):\n",
    "        a[i].append(3*i+j+1)\n",
    "a"
   ]
  },
  {
   "cell_type": "code",
   "execution_count": 93,
   "id": "1b67a7d4",
   "metadata": {},
   "outputs": [
    {
     "data": {
      "text/plain": [
       "[[1, 2, 3], [4, 5, 6], [7, 8, 9]]"
      ]
     },
     "execution_count": 93,
     "metadata": {},
     "output_type": "execute_result"
    }
   ],
   "source": [
    "a = [[0,0,0],[0,0,0],[0,0,0]]\n",
    "for i in range(3):\n",
    "    for j in range(3):\n",
    "        a[i][j] = 3*i+j+1\n",
    "a"
   ]
  },
  {
   "cell_type": "code",
   "execution_count": 94,
   "id": "fb2576d5",
   "metadata": {},
   "outputs": [
    {
     "data": {
      "text/plain": [
       "[[1], [1, 2], [1, 2, 3]]"
      ]
     },
     "execution_count": 94,
     "metadata": {},
     "output_type": "execute_result"
    }
   ],
   "source": [
    "a = [[1],[1,2],[1,2,3]]\n",
    "a"
   ]
  },
  {
   "cell_type": "code",
   "execution_count": 96,
   "id": "c1d84752",
   "metadata": {},
   "outputs": [
    {
     "data": {
      "text/plain": [
       "[[1], [1, 2], [1, 2, 3]]"
      ]
     },
     "execution_count": 96,
     "metadata": {},
     "output_type": "execute_result"
    }
   ],
   "source": [
    "a = []\n",
    "for i in range(3):\n",
    "    a.append([])\n",
    "    for j in range(i+1):\n",
    "        a[i].append(j+1)\n",
    "a"
   ]
  },
  {
   "cell_type": "markdown",
   "id": "67cbfbe5",
   "metadata": {},
   "source": [
    "# 8. 랜덤으로 거북이 10마리 이동시키기\n",
    "1. turtle.getshapes() - 변환가능한 모양을 리스트로 반환\n",
    "2. turtle.setup(width = , height = ) - 도화지의 가로 세로 길이 설정 \n",
    "3. turtle.screensize(width, height) - 창의 가로 세로 길이 설정\n",
    "4. random.randrange(a,b) - a,b 사이 임의의 정수 반환\n",
    "5. random.random - 0~1 사이 임의의 실수 반환\n",
    "6. turtle.Turtle - 거북이 생성\n",
    "7. turtle.shape() - 거북이 모양 변경\n",
    "8. turtle.goto(x,y)"
   ]
  },
  {
   "cell_type": "code",
   "execution_count": 1,
   "id": "3303cc25",
   "metadata": {},
   "outputs": [
    {
     "ename": "ModuleNotFoundError",
     "evalue": "No module named '_tkinter'",
     "output_type": "error",
     "traceback": [
      "\u001b[0;31m---------------------------------------------------------------------------\u001b[0m",
      "\u001b[0;31mModuleNotFoundError\u001b[0m                       Traceback (most recent call last)",
      "\u001b[0;32m<ipython-input-1-fa28d187e688>\u001b[0m in \u001b[0;36m<module>\u001b[0;34m\u001b[0m\n\u001b[0;32m----> 1\u001b[0;31m \u001b[0;32mimport\u001b[0m \u001b[0mturtle\u001b[0m\u001b[0;34m\u001b[0m\u001b[0;34m\u001b[0m\u001b[0m\n\u001b[0m\u001b[1;32m      2\u001b[0m \u001b[0;32mimport\u001b[0m \u001b[0mrandom\u001b[0m\u001b[0;34m\u001b[0m\u001b[0;34m\u001b[0m\u001b[0m\n\u001b[1;32m      3\u001b[0m \u001b[0;34m\u001b[0m\u001b[0m\n\u001b[1;32m      4\u001b[0m \u001b[0mswidth\u001b[0m \u001b[0;34m=\u001b[0m \u001b[0;36m300\u001b[0m\u001b[0;34m\u001b[0m\u001b[0;34m\u001b[0m\u001b[0m\n\u001b[1;32m      5\u001b[0m \u001b[0msheight\u001b[0m \u001b[0;34m=\u001b[0m \u001b[0;36m300\u001b[0m\u001b[0;34m\u001b[0m\u001b[0;34m\u001b[0m\u001b[0m\n",
      "\u001b[0;32m/private/var/containers/Bundle/Application/22F07C4D-3B6F-4FA7-9982-D5317E778580/Carnets.app/Library/lib/python3.9/turtle.py\u001b[0m in \u001b[0;36m<module>\u001b[0;34m\u001b[0m\n\u001b[1;32m    105\u001b[0m \u001b[0;31m# print(_ver)\u001b[0m\u001b[0;34m\u001b[0m\u001b[0;34m\u001b[0m\u001b[0;34m\u001b[0m\u001b[0m\n\u001b[1;32m    106\u001b[0m \u001b[0;34m\u001b[0m\u001b[0m\n\u001b[0;32m--> 107\u001b[0;31m \u001b[0;32mimport\u001b[0m \u001b[0mtkinter\u001b[0m \u001b[0;32mas\u001b[0m \u001b[0mTK\u001b[0m\u001b[0;34m\u001b[0m\u001b[0;34m\u001b[0m\u001b[0m\n\u001b[0m\u001b[1;32m    108\u001b[0m \u001b[0;32mimport\u001b[0m \u001b[0mtypes\u001b[0m\u001b[0;34m\u001b[0m\u001b[0;34m\u001b[0m\u001b[0m\n\u001b[1;32m    109\u001b[0m \u001b[0;32mimport\u001b[0m \u001b[0mmath\u001b[0m\u001b[0;34m\u001b[0m\u001b[0;34m\u001b[0m\u001b[0m\n",
      "\u001b[0;32m/private/var/containers/Bundle/Application/22F07C4D-3B6F-4FA7-9982-D5317E778580/Carnets.app/Library/lib/python3.9/tkinter/__init__.py\u001b[0m in \u001b[0;36m<module>\u001b[0;34m\u001b[0m\n\u001b[1;32m     35\u001b[0m \u001b[0;32mimport\u001b[0m \u001b[0mtypes\u001b[0m\u001b[0;34m\u001b[0m\u001b[0;34m\u001b[0m\u001b[0m\n\u001b[1;32m     36\u001b[0m \u001b[0;34m\u001b[0m\u001b[0m\n\u001b[0;32m---> 37\u001b[0;31m \u001b[0;32mimport\u001b[0m \u001b[0m_tkinter\u001b[0m \u001b[0;31m# If this fails your Python may not be configured for Tk\u001b[0m\u001b[0;34m\u001b[0m\u001b[0;34m\u001b[0m\u001b[0m\n\u001b[0m\u001b[1;32m     38\u001b[0m \u001b[0mTclError\u001b[0m \u001b[0;34m=\u001b[0m \u001b[0m_tkinter\u001b[0m\u001b[0;34m.\u001b[0m\u001b[0mTclError\u001b[0m\u001b[0;34m\u001b[0m\u001b[0;34m\u001b[0m\u001b[0m\n\u001b[1;32m     39\u001b[0m \u001b[0;32mfrom\u001b[0m \u001b[0mtkinter\u001b[0m\u001b[0;34m.\u001b[0m\u001b[0mconstants\u001b[0m \u001b[0;32mimport\u001b[0m \u001b[0;34m*\u001b[0m\u001b[0;34m\u001b[0m\u001b[0;34m\u001b[0m\u001b[0m\n",
      "\u001b[0;31mModuleNotFoundError\u001b[0m: No module named '_tkinter'"
     ]
    }
   ],
   "source": [
    "import turtle\n",
    "import random\n",
    "\n",
    "swidth = 300\n",
    "sheight = 300\n",
    "\n",
    "turtle.setup(width=swidth+50, height=sheight+50)\n",
    "turtle.screensize(swidth,sheight)\n",
    "\n",
    "a = turtle.getshapes()\n",
    "# turtle_list = [[r,g,b,x,y,'거북이 모양',psize],[],...[]]\n",
    "turtle_list = []\n",
    "\n",
    "for i in range(10):\n",
    "    # 여기서 리스트 생성\n",
    "    #turtle_list.append([])\n",
    "    r = random.random()\n",
    "    g = random.random()\n",
    "    b = random.random()\n",
    "    x = random.randrange(-(swidth+50)/2,(swidth+50)/2)\n",
    "    y = random.randrange(-(sheight+50)/2,(sheight+50)/2)\n",
    "    ran_num = random.randrange(0,7)\n",
    "    shape = a[ran_num]\n",
    "    psize = random.randrange(5,20)\n",
    "#     turtle_list[i].append(r)\n",
    "#     turtle_list[i].append(g)\n",
    "#     turtle_list[i].append(b)\n",
    "#     turtle_list[i].append(x)\n",
    "#     turtle_list[i].append(y)\n",
    "#     turtle_list[i].append(shape)\n",
    "#     turtle_list[i].append(psize)\n",
    "    turtle_list.append([r,g,b,x,y,shape,psize])\n",
    "\n",
    "for i in range(10):\n",
    "    #생성된 리스트를 이용해서 거북이 이동\n",
    "    myTurtle=turtle.Turtle()\n",
    "    myTurtle.pencolor((turtle_list[i][0],turtle_list[i][1],turtle_list[i][2]))\n",
    "    myTurtle.shape(turtle_list[i][5])\n",
    "    myTurtle.pensize(turtle_list[i][6])\n",
    "    myTurtle.goto(turtle_list[i][3],turtle_list[i][4])\n",
    "    \n",
    "turtle.done()"
   ]
  },
  {
   "cell_type": "code",
   "execution_count": 3,
   "id": "1cba4373",
   "metadata": {},
   "outputs": [
    {
     "data": {
      "text/plain": [
       "tuple"
      ]
     },
     "execution_count": 3,
     "metadata": {},
     "output_type": "execute_result"
    }
   ],
   "source": [
    "a = (1,2,3)\n",
    "b = 1,2,3\n",
    "type(b)"
   ]
  },
  {
   "cell_type": "code",
   "execution_count": 4,
   "id": "cf97198c",
   "metadata": {},
   "outputs": [
    {
     "ename": "TypeError",
     "evalue": "'tuple' object does not support item assignment",
     "output_type": "error",
     "traceback": [
      "\u001b[0;31m---------------------------------------------------------------------------\u001b[0m",
      "\u001b[0;31mTypeError\u001b[0m                                 Traceback (most recent call last)",
      "\u001b[0;32m<ipython-input-4-34288910c638>\u001b[0m in \u001b[0;36m<module>\u001b[0;34m\u001b[0m\n\u001b[1;32m      4\u001b[0m \u001b[0mb\u001b[0m \u001b[0;34m=\u001b[0m \u001b[0;36m10\u001b[0m\u001b[0;34m,\u001b[0m\u001b[0;34m\u001b[0m\u001b[0;34m\u001b[0m\u001b[0m\n\u001b[1;32m      5\u001b[0m \u001b[0mtype\u001b[0m\u001b[0;34m(\u001b[0m\u001b[0mb\u001b[0m\u001b[0;34m)\u001b[0m\u001b[0;34m\u001b[0m\u001b[0;34m\u001b[0m\u001b[0m\n\u001b[0;32m----> 6\u001b[0;31m \u001b[0mb\u001b[0m\u001b[0;34m[\u001b[0m\u001b[0;36m0\u001b[0m\u001b[0;34m]\u001b[0m \u001b[0;34m=\u001b[0m \u001b[0;36m4\u001b[0m\u001b[0;34m\u001b[0m\u001b[0;34m\u001b[0m\u001b[0m\n\u001b[0m",
      "\u001b[0;31mTypeError\u001b[0m: 'tuple' object does not support item assignment"
     ]
    }
   ],
   "source": [
    "a = (10)\n",
    "a = 10\n",
    "b = (10,)\n",
    "b = 10,\n",
    "type(b)\n",
    "b[0] = 4"
   ]
  },
  {
   "cell_type": "code",
   "execution_count": 18,
   "id": "b946fe3c",
   "metadata": {},
   "outputs": [
    {
     "data": {
      "text/plain": [
       "tuple"
      ]
     },
     "execution_count": 18,
     "metadata": {},
     "output_type": "execute_result"
    }
   ],
   "source": [
    "a = [1,2,3]\n",
    "a = tuple(a)\n",
    "type(a)"
   ]
  },
  {
   "cell_type": "code",
   "execution_count": 5,
   "id": "74954fe2",
   "metadata": {},
   "outputs": [
    {
     "data": {
      "text/plain": [
       "[('name', '신재우'), (2, 'b'), (5, 'c'), ('phone', 'iphone')]"
      ]
     },
     "execution_count": 5,
     "metadata": {},
     "output_type": "execute_result"
    }
   ],
   "source": [
    "a = {'name' : '신재우', 2:'b', 5:'c'}\n",
    "a['phone'] = 'iphone'\n",
    "list(a.items())"
   ]
  },
  {
   "cell_type": "markdown",
   "id": "c509005f",
   "metadata": {},
   "source": [
    "# 9. 트와이스 딕셔너리 만들기\n",
    "1. 이름 : 트와이스\n",
    "2. 구성인원 : 9\n",
    "3. 데뷔 : 서바이벌 식스틴\n",
    "4. 대표곡 : SIGNAL"
   ]
  },
  {
   "cell_type": "code",
   "execution_count": 35,
   "id": "2f1468d1",
   "metadata": {},
   "outputs": [
    {
     "name": "stdout",
     "output_type": "stream",
     "text": [
      "    이름 :      트와이스\n",
      "  구성인원 :         9\n",
      "    데뷔 :  서바이벌 식스틴\n",
      "   대표곡 :    SIGNAL\n"
     ]
    }
   ],
   "source": [
    "idol = {'이름':'트와이스','구성인원':9,'데뷔':'서바이벌 식스틴','대표곡':'SIGNAL'}\n",
    "\n",
    "key_list = list(idol.keys())\n",
    "for i in key_list:\n",
    "    print(\"%6s : %9s\" %(i, idol[i]))"
   ]
  },
  {
   "cell_type": "code",
   "execution_count": 34,
   "id": "3f01470e",
   "metadata": {},
   "outputs": [
    {
     "name": "stdout",
     "output_type": "stream",
     "text": [
      "[('이름', '트와이스'), ('구성인원', 9), ('데뷔', '서바이벌 식스틴'), ('대표곡', 'SIGNAL')]\n",
      "이름 : 트와이스\n",
      "구성인원 : 9\n",
      "데뷔 : 서바이벌 식스틴\n",
      "대표곡 : SIGNAL\n"
     ]
    }
   ],
   "source": [
    "idol = {'이름':'트와이스','구성인원':9,'데뷔':'서바이벌 식스틴','대표곡':'SIGNAL'}\n",
    "\n",
    "item_list = list(idol.items())\n",
    "print(item_list)\n",
    "for i in item_list:\n",
    "    print(\"%s : %s\" %(i[0],i[1]))"
   ]
  },
  {
   "cell_type": "markdown",
   "id": "bfc2f6f2",
   "metadata": {},
   "source": [
    "# 10. 음식 궁합 딕셔너리 만들고 음식을 입력받아 궁합 좋은 음식 반환하기\n",
    "1. 떡볶이 - 오뎅\n",
    "2. 짜장면 - 단무지\n",
    "3. 라면 - 김치\n",
    "4. 피자 - 피클\n",
    "5. 맥주 - 땅콩\n",
    "6. 치킨 - 치킨무\n",
    "7. 삼겹살 - 상추  \n",
    "✰이때, 질문에 딕셔너리 키들을 모두 출력 해야댐"
   ]
  },
  {
   "cell_type": "code",
   "execution_count": 37,
   "id": "b27a7c16",
   "metadata": {},
   "outputs": [
    {
     "name": "stdout",
     "output_type": "stream",
     "text": [
      "['떡볶이', '짜장면', '라면', '피자', '맥주', '치킨', '삼겹살']중에서 어떤 음식을 좋아하시나요? : 떡볶이\n",
      "그 음식에는 오뎅이 잘 어울립니다.\n"
     ]
    }
   ],
   "source": [
    "food_dict = {'떡볶이':'오뎅','짜장면':'단무지','라면':'김치',\n",
    "             '피자':'피클','맥주':'땅콩','치킨':'치킨무','삼겹살':'상추'}\n",
    "food_key_list = list(food_dict.keys())\n",
    "print(food_key_list, end='')\n",
    "what_food = input(\"다음 중에서 어떤 음식을 좋아하시나요? : \")\n",
    "print(\"그 음식에는 %s이 잘 어울립니다.\" %food_dict[what_food])"
   ]
  },
  {
   "cell_type": "code",
   "execution_count": 38,
   "id": "900fb7c5",
   "metadata": {},
   "outputs": [
    {
     "name": "stdout",
     "output_type": "stream",
     "text": [
      "어떤 음식을 좋아하시나요? : 족발\n",
      "그 음식에는 뭐가 어울리나요? : 보쌈\n",
      "{'떡볶이': '오뎅', '짜장면': '단무지', '라면': '김치', '피자': '피클', '맥주': '땅콩', '치킨': '치킨무', '삼겹살': '상추', '족발': '보쌈'}\n"
     ]
    }
   ],
   "source": [
    "food_dict = {'떡볶이':'오뎅','짜장면':'단무지','라면':'김치',\n",
    "             '피자':'피클','맥주':'땅콩','치킨':'치킨무','삼겹살':'상추'}\n",
    "\n",
    "what_food = input(\"어떤 음식을 좋아하시나요? : \")\n",
    "if what_food in food_dict:\n",
    "    print(\"그 음식에는 %s이/가 잘 어울립니다.\" %food_dict[what_food])\n",
    "else:\n",
    "    what_pair = input(\"그 음식에는 뭐가 어울리나요? : \")\n",
    "    food_dict[what_food] = what_pair\n",
    "print(food_dict)"
   ]
  },
  {
   "cell_type": "markdown",
   "id": "d0b1120f",
   "metadata": {},
   "source": [
    "# 11. 모든 글자끝에 특수 기호를 넣어서 출력해보기"
   ]
  },
  {
   "cell_type": "code",
   "execution_count": 42,
   "id": "096e3078",
   "metadata": {},
   "outputs": [
    {
     "name": "stdout",
     "output_type": "stream",
     "text": [
      "문장을 입력해주세요 : 안녕하세요\n",
      "안!녕!하!세!요!"
     ]
    }
   ],
   "source": [
    "word_input = input(\"문장을 입력해주세요 : \")\n",
    "\n",
    "for i in word_input:\n",
    "    print(\"%s!\" %i , end='')"
   ]
  },
  {
   "cell_type": "code",
   "execution_count": 43,
   "id": "c2bb772c",
   "metadata": {},
   "outputs": [
    {
     "name": "stdout",
     "output_type": "stream",
     "text": [
      "문장을 입력해 주세요 : hello\n",
      "h@e@l@l@o@"
     ]
    }
   ],
   "source": [
    "word_input = input(\"문장을 입력해 주세요 : \")\n",
    "word_len = len(word_input)\n",
    "\n",
    "for i in range(word_len):\n",
    "    print(\"%s@\" %word_input[i], end='')"
   ]
  },
  {
   "cell_type": "markdown",
   "id": "d6397ee1",
   "metadata": {},
   "source": [
    "# 12. 문자열 반대로 출력해보기"
   ]
  },
  {
   "cell_type": "code",
   "execution_count": 44,
   "id": "f290d224",
   "metadata": {},
   "outputs": [
    {
     "name": "stdout",
     "output_type": "stream",
     "text": [
      "문장을 입력해 주세요 : Helloooooo\n",
      "oooooolleH"
     ]
    }
   ],
   "source": [
    "word_input = input(\"문장을 입력해 주세요 : \")\n",
    "word_len = len(word_input)\n",
    "\n",
    "for i in range(word_len):\n",
    "    print(\"%s\" %word_input[word_len-1-i], end='')"
   ]
  },
  {
   "cell_type": "code",
   "execution_count": 46,
   "id": "0a247bac",
   "metadata": {},
   "outputs": [
    {
     "data": {
      "text/plain": [
       "True"
      ]
     },
     "execution_count": 46,
     "metadata": {},
     "output_type": "execute_result"
    }
   ],
   "source": [
    "'hello' == 'hello'"
   ]
  },
  {
   "cell_type": "markdown",
   "id": "45855f76",
   "metadata": {},
   "source": [
    "# 13. 대문자 소문자 변환해보기\n",
    "1. 모두 대문자\n",
    "2. 모두 소문자\n",
    "3. 원래의 반대\n",
    "4. 모든 단어의 맨 앞 알파벳만 대문자"
   ]
  },
  {
   "cell_type": "markdown",
   "id": "57284dc0",
   "metadata": {},
   "source": [
    "# 14. 문자열 찾기\n",
    "1. 위치 반환\n",
    "2. 개수 반환\n",
    "3. 시작, 끝"
   ]
  },
  {
   "cell_type": "markdown",
   "id": "973744ac",
   "metadata": {},
   "source": [
    "# 15. 문자가 괄호로 감싸 있지 않으면 괄호로 감싸주는 프로그램"
   ]
  },
  {
   "cell_type": "code",
   "execution_count": 47,
   "id": "0493a3f5",
   "metadata": {},
   "outputs": [
    {
     "name": "stdout",
     "output_type": "stream",
     "text": [
      "문장을 입력해 주세요 : hello\n",
      "출력 값 : (hello)\n"
     ]
    }
   ],
   "source": [
    "input_word = input(\"문장을 입력해 주세요 : \")\n",
    "\n",
    "if not input_word.startswith('('):\n",
    "    input_word = '('+input_word\n",
    "if not input_word.endswith(')'):\n",
    "    input_word = input_word + ')'\n",
    "print(\"출력 값 : %s\" %input_word)"
   ]
  },
  {
   "cell_type": "code",
   "execution_count": 49,
   "id": "97e613da",
   "metadata": {
    "scrolled": true
   },
   "outputs": [
    {
     "data": {
      "text/plain": [
       "'hello'"
      ]
     },
     "execution_count": 49,
     "metadata": {},
     "output_type": "execute_result"
    }
   ],
   "source": [
    "a = '!#$hello%^#'\n",
    "a.strip('!@#$%^&*()')\n"
   ]
  },
  {
   "cell_type": "code",
   "execution_count": 52,
   "id": "62e565ce",
   "metadata": {},
   "outputs": [
    {
     "name": "stdout",
     "output_type": "stream",
     "text": [
      "문장을 입력해 주세요 : 안녕 하세 요\n",
      "안녕하세요\n"
     ]
    }
   ],
   "source": [
    "word_input = input(\"문장을 입력해 주세요 : \")\n",
    "word_len = len(word_input)\n",
    "new_word = ''\n",
    "for i in range(word_len):\n",
    "    if not word_input[i] == ' ':\n",
    "        new_word += word_input[i]\n",
    "print(new_word)"
   ]
  },
  {
   "cell_type": "markdown",
   "id": "592c8087",
   "metadata": {},
   "source": [
    "# 16. 문자 양끝 공백 제거하기"
   ]
  },
  {
   "cell_type": "markdown",
   "id": "45284b77",
   "metadata": {},
   "source": [
    "# 17. 문자 양 끝 기호 제거하기"
   ]
  },
  {
   "cell_type": "markdown",
   "id": "b08b00eb",
   "metadata": {},
   "source": [
    "# 18. 휴대폰 전화번호 한글로 변경하기\n",
    "+ ex)010-1122-3344 -> 공일공-일일이이-삼삼사사"
   ]
  },
  {
   "cell_type": "code",
   "execution_count": 62,
   "id": "ce6fc6a3",
   "metadata": {},
   "outputs": [
    {
     "name": "stdout",
     "output_type": "stream",
     "text": [
      "휴대폰 번호를 입력해 주세요010-2319-4102\n",
      "공일공-이삼일구-사일공이\n"
     ]
    }
   ],
   "source": [
    "phone_num = input(\"휴대폰 번호를 입력해 주세요\")\n",
    "\n",
    "phone_num = phone_num.replace('0','공')\n",
    "phone_num = phone_num.replace('1','일')\n",
    "phone_num = phone_num.replace('2','이')\n",
    "phone_num = phone_num.replace('3','삼')\n",
    "phone_num = phone_num.replace('4','사')\n",
    "phone_num = phone_num.replace('5','오')\n",
    "phone_num = phone_num.replace('6','육')\n",
    "phone_num = phone_num.replace('7','칠')\n",
    "phone_num = phone_num.replace('8','팔')\n",
    "phone_num = phone_num.replace('9','구')\n",
    "\n",
    "print(phone_num)"
   ]
  },
  {
   "cell_type": "markdown",
   "id": "76f6daef",
   "metadata": {},
   "source": [
    "# 19. 특정 문자 변경하기\n",
    "+ ex) o -> @"
   ]
  },
  {
   "cell_type": "code",
   "execution_count": 60,
   "id": "004a3a4a",
   "metadata": {},
   "outputs": [
    {
     "name": "stdout",
     "output_type": "stream",
     "text": [
      "문장을 입력해 주세요h e e e e\n"
     ]
    },
    {
     "data": {
      "text/plain": [
       "'heeee'"
      ]
     },
     "execution_count": 60,
     "metadata": {},
     "output_type": "execute_result"
    }
   ],
   "source": [
    "input_word = input(\"문장을 입력해 주세요\")\n",
    "\n",
    "input_word.replace(' ','')\n"
   ]
  },
  {
   "cell_type": "markdown",
   "id": "7bbcaee5",
   "metadata": {},
   "source": [
    "# 20 날짜를 입력받아 10년후 날짜 출력하기\n",
    "+ ex) 2021/04/03 -> 2031년 04월 03일"
   ]
  },
  {
   "cell_type": "code",
   "execution_count": 73,
   "id": "70bba1b1",
   "metadata": {},
   "outputs": [
    {
     "name": "stdout",
     "output_type": "stream",
     "text": [
      "오늘의 날짜를 입력해 주세요 : 2021/04/24\n",
      "['2021', '04', '24']\n",
      "10년 후의 날짜는 2031년 04월 24일 입니다.\n"
     ]
    }
   ],
   "source": [
    "date = input(\"오늘의 날짜를 입력해 주세요 : \")\n",
    "split_date = date.split('/')\n",
    "print(split_date)\n",
    "print(\"10년 후의 날짜는 %s년 %s월 %s일 입니다.\" %(str(int(split_date[0]) + 10), split_date[1], split_date[2]))"
   ]
  },
  {
   "cell_type": "markdown",
   "id": "9715fc15",
   "metadata": {},
   "source": [
    "# 문자열 구성 확인 프로그램"
   ]
  },
  {
   "cell_type": "code",
   "execution_count": 78,
   "id": "47310023",
   "metadata": {},
   "outputs": [
    {
     "name": "stdout",
     "output_type": "stream",
     "text": [
      "단어 입력을 해주세요 :  \n",
      "잘모르겠습니다.\n"
     ]
    }
   ],
   "source": [
    "input_word = input(\"단어 입력을 해주세요 : \")\n",
    "\n",
    "if input_word.isdigit():\n",
    "    print(\"숫자입니다.\")\n",
    "elif input_word.isalpha():\n",
    "    print(\"문자입니다.\")\n",
    "elif input_word.isalnum():\n",
    "    print(\"문자+숫자입니다.\")\n",
    "else:\n",
    "    print(\"잘모르겠습니다.\")"
   ]
  },
  {
   "cell_type": "code",
   "execution_count": 79,
   "id": "7f81c237",
   "metadata": {},
   "outputs": [
    {
     "data": {
      "text/plain": [
       "True"
      ]
     },
     "execution_count": 79,
     "metadata": {},
     "output_type": "execute_result"
    }
   ],
   "source": [
    "'hi'.isalnum()"
   ]
  },
  {
   "cell_type": "markdown",
   "id": "a27b7ceb",
   "metadata": {},
   "source": [
    "# 21. 거북이 글쓰기\n",
    "1. turtle.setup(width= , height= )\n",
    "2. turtle.screensize(width, height)\n",
    "3. turtle.penup()\n",
    "4. asksring('문자열 입력','거북이 쓸 문자열 입력')\n",
    "5. turtle.pencolor(r,g,b)\n",
    "6. random.random() - 0~1 사이 실수 반환\n",
    "7. random.randrange(a,b) a,b사이 숫자 반환\n",
    "8. turtle.write('단어', font=('폰트(맑은고딕)', 텍스트사이즈, 'bold')"
   ]
  },
  {
   "cell_type": "code",
   "execution_count": 1,
   "id": "13601dfe",
   "metadata": {},
   "outputs": [
    {
     "ename": "NameError",
     "evalue": "name 'a' is not defined",
     "output_type": "error",
     "traceback": [
      "\u001b[0;31m---------------------------------------------------------------------------\u001b[0m",
      "\u001b[0;31mNameError\u001b[0m                                 Traceback (most recent call last)",
      "\u001b[0;32m<ipython-input-1-c0b7476968ae>\u001b[0m in \u001b[0;36m<module>\u001b[0;34m\u001b[0m\n\u001b[1;32m      8\u001b[0m \u001b[0;34m\u001b[0m\u001b[0m\n\u001b[1;32m      9\u001b[0m \u001b[0mwhynot\u001b[0m \u001b[0;34m=\u001b[0m \u001b[0maskstring\u001b[0m\u001b[0;34m(\u001b[0m\u001b[0;34m'문자열 입력'\u001b[0m\u001b[0;34m,\u001b[0m \u001b[0;34m'거북이 쓸 문자열을 입력'\u001b[0m\u001b[0;34m)\u001b[0m\u001b[0;34m\u001b[0m\u001b[0;34m\u001b[0m\u001b[0m\n\u001b[0;32m---> 10\u001b[0;31m \u001b[0;32mfor\u001b[0m \u001b[0mch\u001b[0m \u001b[0;32min\u001b[0m \u001b[0ma\u001b[0m\u001b[0;34m:\u001b[0m\u001b[0;34m\u001b[0m\u001b[0;34m\u001b[0m\u001b[0m\n\u001b[0m\u001b[1;32m     11\u001b[0m     \u001b[0mprint\u001b[0m\u001b[0;34m(\u001b[0m\u001b[0mch\u001b[0m\u001b[0;34m)\u001b[0m\u001b[0;34m\u001b[0m\u001b[0;34m\u001b[0m\u001b[0m\n\u001b[1;32m     12\u001b[0m \u001b[0;34m\u001b[0m\u001b[0m\n",
      "\u001b[0;31mNameError\u001b[0m: name 'a' is not defined"
     ]
    }
   ],
   "source": [
    "import turtle\n",
    "import random\n",
    "from tkinter.simpledialog import * \n",
    "\n",
    "## 전역 변수 선언 부분 ##\n",
    "inStr = ''\n",
    "swidth, sheight = 300, 300\n",
    "tX, tY, txtSize = [0] * 3\n",
    "\n",
    "## 메인 코드 부분 ##\n",
    "turtle.setup(width=swidth+50, height=sheight+50)\n",
    "turtle.screensize(swidth,sheight)\n",
    "???\n",
    "\n",
    "\n",
    "inStr = askstring('문자열 입력', '거북이 쓸 문자열을 입력')\n",
    "for ch in inStr:\n",
    "    \n",
    "    \n",
    "    ???\n",
    "    \n",
    "    \n",
    "    \n",
    "turtle.done()"
   ]
  },
  {
   "cell_type": "code",
   "execution_count": 80,
   "id": "540a0e1c",
   "metadata": {},
   "outputs": [
    {
     "name": "stdout",
     "output_type": "stream",
     "text": [
      "1 2 3\n"
     ]
    }
   ],
   "source": [
    "a = [1,2,3]\n",
    "b,c,d = a\n",
    "print(b,c,d)"
   ]
  },
  {
   "cell_type": "code",
   "execution_count": null,
   "id": "5d52dc6e",
   "metadata": {},
   "outputs": [],
   "source": []
  }
 ],
 "metadata": {
  "kernelspec": {
   "display_name": "Python 3",
   "language": "python",
   "name": "python3"
  },
  "language_info": {
   "codemirror_mode": {
    "name": "ipython",
    "version": 3
   },
   "file_extension": ".py",
   "mimetype": "text/x-python",
   "name": "python",
   "nbconvert_exporter": "python",
   "pygments_lexer": "ipython3",
   "version": "3.9.2+"
  }
 },
 "nbformat": 4,
 "nbformat_minor": 5
}

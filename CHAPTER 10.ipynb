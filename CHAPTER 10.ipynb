{
 "cells": [
  {
   "cell_type": "markdown",
   "id": "7b83e3f0",
   "metadata": {},
   "source": [
    "# 1. 기본 윈도우 창의 구성"
   ]
  },
  {
   "cell_type": "code",
   "execution_count": 1,
   "id": "d855fe88",
   "metadata": {},
   "outputs": [],
   "source": [
    "from tkinter import *\n",
    "\n",
    "window = Tk()\n",
    "\n",
    "## 이 부분에서 화면을 구성하고 처리 ## \n",
    "\n",
    "window.mainloop()\n",
    "\n"
   ]
  },
  {
   "cell_type": "markdown",
   "id": "252239df",
   "metadata": {},
   "source": [
    "# 2. 윈도우 창 조절"
   ]
  },
  {
   "cell_type": "code",
   "execution_count": 1,
   "id": "0ad98f4f",
   "metadata": {},
   "outputs": [],
   "source": [
    "from tkinter import *\n",
    "\n",
    "window = Tk()\n",
    "window.title(\"Y\")\n",
    "window.geometry(\"400x400\")\n",
    "window.resizable(width = False, height = False)\n",
    "\n",
    "window.mainloop()\n",
    "\n"
   ]
  },
  {
   "cell_type": "markdown",
   "id": "11bd896e",
   "metadata": {},
   "source": [
    "# 3. 레이블"
   ]
  },
  {
   "cell_type": "code",
   "execution_count": 1,
   "id": "3d9adb9a",
   "metadata": {},
   "outputs": [],
   "source": [
    "from tkinter import *\n",
    "window = Tk()\n",
    "\n",
    "label1 = Label(window, text = \"COOKBOOK~~ Python을\")\n",
    "label2 = Label(window, text = \"열심히\", font = (\"굴림\", 30), fg = \"blue\")\n",
    "label3 = Label(window, text = \"공부 중입니다.\", bg = \"purple\", width = 20,height=10, anchor = SW)\n",
    "\n",
    "label1.pack();\n",
    "label2.pack();\n",
    "label3.pack();\n",
    "window.mainloop()\n",
    "\n",
    "\n",
    "\n"
   ]
  },
  {
   "cell_type": "markdown",
   "id": "99171dfb",
   "metadata": {},
   "source": [
    "# 4. 레이블에 글자 대신 이미지 넣기"
   ]
  },
  {
   "cell_type": "code",
   "execution_count": 3,
   "id": "a718fa43",
   "metadata": {},
   "outputs": [],
   "source": [
    "from tkinter import *\n",
    "window = Tk()\n",
    "\n",
    "photo = PhotoImage(file = \"gif/cat.gif\")\n",
    "label1 = Label(window, image = photo)\n",
    "\n",
    "label1.pack();\n",
    "\n",
    "window.mainloop()\n",
    "\n"
   ]
  },
  {
   "cell_type": "markdown",
   "id": "77023118",
   "metadata": {},
   "source": [
    "# 5. 버튼"
   ]
  },
  {
   "cell_type": "code",
   "execution_count": 2,
   "id": "36670a0d",
   "metadata": {},
   "outputs": [],
   "source": [
    "from tkinter import *\n",
    "window = Tk()\n",
    "\n",
    "button1 = Button(window, text = \"파이썬 종료\", fg = \"red\", command = quit)\n",
    "\n",
    "button1.pack()\n",
    "\n",
    "window.mainloop()"
   ]
  },
  {
   "cell_type": "markdown",
   "id": "949d9cfc",
   "metadata": {},
   "source": [
    "# 6. 이미지 버튼을 누르면 메시지 창이 나오는 코드"
   ]
  },
  {
   "cell_type": "code",
   "execution_count": 1,
   "id": "15238b37",
   "metadata": {},
   "outputs": [],
   "source": [
    "from tkinter import *\n",
    "from tkinter import messagebox\n",
    "\n",
    "## 함수 선언 부분 ##\n",
    "def myFunc() :\n",
    "    messagebox.showinfo(\"강아지 버튼\", \"강아지가 귀엽죠? ^^\")\n",
    "\n",
    "## 메인 코드 부분 ##\n",
    "window = Tk()\n",
    "\n",
    "photo = PhotoImage(file = \"gif/dog2.gif\")\n",
    "button1 = Button(window, image = photo, command = myFunc)\n",
    "\n",
    "button1.pack()\n",
    "\n",
    "window.mainloop()"
   ]
  },
  {
   "cell_type": "markdown",
   "id": "0b5b8275",
   "metadata": {},
   "source": [
    "# 7. 체크버튼을 켜거나 끄면 메세지 창이 열리게 하는 코드"
   ]
  },
  {
   "cell_type": "code",
   "execution_count": 3,
   "id": "79e45e56",
   "metadata": {},
   "outputs": [
    {
     "data": {
      "text/plain": [
       "tkinter.IntVar"
      ]
     },
     "execution_count": 3,
     "metadata": {},
     "output_type": "execute_result"
    }
   ],
   "source": [
    "from tkinter import *\n",
    "from tkinter import messagebox\n",
    "window = Tk()\n",
    "\n",
    "## 함수 선언 부분 ##\n",
    "def  myFunc() :\n",
    "    if chk.get() == 0 :\n",
    "        messagebox.showinfo(\"\", \"체크버튼이 꺼졌어요.\")\n",
    "    else :\n",
    "        messagebox.showinfo(\"\", \"체크버튼이 켜졌어요.\")\n",
    "    \n",
    "## 메인 코드 부분 ##\n",
    "chk = IntVar()\n",
    "\n",
    "cb1 = Checkbutton(window, text = \"클릭하세요\", variable = chk, command = myFunc)\n",
    "\n",
    "cb1.pack()\n",
    "\n",
    "window.mainloop()\n"
   ]
  },
  {
   "cell_type": "markdown",
   "id": "cfdc5ffd",
   "metadata": {},
   "source": [
    "# 8. 라디오 버튼"
   ]
  },
  {
   "cell_type": "code",
   "execution_count": 5,
   "id": "f87223c8",
   "metadata": {},
   "outputs": [],
   "source": [
    "from tkinter import *\n",
    "window = Tk()\n",
    "\n",
    "## 함수 선언 부분 ##\n",
    "def  myFunc() :\n",
    "    if var.get() == 1 :\n",
    "        label1.configure(text = \"파이썬\")\n",
    "    elif var.get() == 2 :\n",
    "        label1.configure(text = \"C++\")\n",
    "    else :\n",
    "        label1.configure(text = \"Java\")\n",
    "    \n",
    "## 메인 코드 부분 ##\n",
    "var = IntVar()\n",
    "rb1 = Radiobutton(window, text = \"파이썬\", variable = var, value = 1, command = myFunc)\n",
    "rb2 = Radiobutton(window, text = \"C++\", variable = var, value = 2, command = myFunc)\n",
    "rb3 = Radiobutton(window, text = \"Java\", variable = var, value = 3, command = myFunc)\n",
    "\n",
    "label1 = Label(window, text=\"선택한 언어 : \", fg=\"red\")\n",
    "\n",
    "rb1.pack()\n",
    "rb2.pack()\n",
    "rb3.pack()\n",
    "label1.pack()\n",
    "\n",
    "window.mainloop()\n",
    "\n"
   ]
  },
  {
   "cell_type": "markdown",
   "id": "7c0588b6",
   "metadata": {},
   "source": [
    "# 9. 수평정렬"
   ]
  },
  {
   "cell_type": "code",
   "execution_count": 9,
   "id": "8a129477",
   "metadata": {},
   "outputs": [],
   "source": [
    "from tkinter import *\n",
    "window = Tk()\n",
    "\n",
    "button1 = Button(window, text = \"버튼1\")\n",
    "button2 = Button(window, text = \"버튼2\")\n",
    "button3 = Button(window, text = \"버튼3\")\n",
    "\n",
    "button1.pack(side = LEFT)\n",
    "button2.pack(side = LEFT)\n",
    "button3.pack(side = LEFT)\n",
    "\n",
    "window.mainloop()\n",
    "\n"
   ]
  },
  {
   "cell_type": "markdown",
   "id": "3f58cea0",
   "metadata": {},
   "source": [
    "# 10. 리스트와 for문을 사용하여 수평정렬"
   ]
  },
  {
   "cell_type": "code",
   "execution_count": 19,
   "id": "18ce6a2d",
   "metadata": {},
   "outputs": [],
   "source": [
    "from tkinter import *\n",
    "window = Tk()\n",
    "\n",
    "btnList = [\"\"] * 3\n",
    "\n",
    "for i in range(0, 3) :\n",
    "    btnList[i] = Button(window, text = \"버튼\" + str(i + 1))\n",
    "\n",
    "for btn in btnList :\n",
    "#     btn.pack(side = RIGHT)\n",
    "#     btn.pack(side = TOP)\n",
    "#     btn.pack(side = BOTTOM)\n",
    "#     btn.pack(side = TOP, fill = X)\n",
    "#     btn.pack(side = TOP, fill = X, padx = 10, pady = 10)\n",
    "#     btn.pack(side = TOP, fill = X, ipadx = 10, ipady = 10)\n",
    "    btn.pack(side = TOP, fill = X, ipadx = 10, ipady = 10, padx = 10, pady = 10)\n",
    "\n",
    "window.mainloop()\n",
    "\n"
   ]
  },
  {
   "cell_type": "markdown",
   "id": "c5a784a2",
   "metadata": {},
   "source": [
    "# 11. 고정 위치에 배치"
   ]
  },
  {
   "cell_type": "code",
   "execution_count": 24,
   "id": "0e4735c3",
   "metadata": {},
   "outputs": [],
   "source": [
    "from tkinter import *\n",
    "\n",
    "## 변수 선언 부분 ##\n",
    "btnList = [\"\"] * 9\n",
    "fnameList = [\"froyo.gif\", \"gingerbread.gif\", \"honeycomb.gif\", \"icecream.gif\", \n",
    "             \"jellybean.gif\", \"kitkat.gif\", \"lollipop.gif\", \"marshmallow.gif\", \"nougat.gif\"]\n",
    "photoList=[None] * 9\n",
    "i, k = 0, 0\n",
    "xPos, yPos = 0, 0\n",
    "num = 0\n",
    "\n",
    "## 메인 코드 부분 ##\n",
    "window = Tk()\n",
    "window.geometry(\"210x210\")\n",
    "\n",
    "for i in range(0, 9) :\n",
    "    photoList[i] = PhotoImage(file = \"gif/\" + fnameList[i])\n",
    "    btnList[i] = Button(window, image = photoList[i])  \n",
    "\n",
    "for i in range(0, 3) :\n",
    "    for k in range(0, 3) :\n",
    "        btnList[num].place(x = xPos, y = yPos)\n",
    "        num += 1\n",
    "        xPos += 70\n",
    "    xPos = 0\n",
    "    yPos += 70\n",
    "\n",
    "window.mainloop()\n",
    "\n"
   ]
  },
  {
   "cell_type": "markdown",
   "id": "85c90dd1",
   "metadata": {},
   "source": [
    "# 12. 앨범 프로그램\n",
    "+ <이전>버튼이나 <다음>버튼을 누르면 사진들을 표시하는 프로그램"
   ]
  },
  {
   "cell_type": "code",
   "execution_count": 1,
   "id": "c3f0b94a",
   "metadata": {},
   "outputs": [],
   "source": [
    "from tkinter import *\n",
    "from time import *\n",
    "\n",
    "## 전역  변수 선언 부분 ## \n",
    "fnameList = [\"jeju1.gif\", \"jeju2.gif\", \"jeju3.gif\", \"jeju4.gif\", \n",
    "             \"jeju5.gif\", \"jeju6.gif\", \"jeju7.gif\", \"jeju8.gif\", \"jeju9.gif\"]\n",
    "num = 0\n",
    "\n",
    "## 함수 선언 부분 ## \n",
    "def clickNext() :\n",
    "    global num\n",
    "    num += 1\n",
    "    if num > 8 :\n",
    "        num = 0\n",
    "    photo = PhotoImage(file = \"gif/\" + fnameList[num])\n",
    "    pLabel.configure(image = photo)\n",
    "    pLabel.image = photo\n",
    "    \n",
    "def clickPrev() :\n",
    "    global num\n",
    "    num -= 1\n",
    "    if num < 0 :\n",
    "        num = 8\n",
    "    photo = PhotoImage(file = \"gif/\" + fnameList[num])\n",
    "    pLabel.configure(image = photo)\n",
    "    pLabel.image=photo\n",
    "    \n",
    "## 메인 코드 부분\n",
    "window = Tk()\n",
    "window.geometry(\"700x500\")\n",
    "window.title(\"사진 앨범 보기\")\n",
    "\n",
    "btnPrev = Button(window, text = \"<< 이전\", command = clickPrev)\n",
    "btnNext = Button(window, text = \"다음 >>\", command = clickNext)\n",
    "\n",
    "photo = PhotoImage(file = \"gif/\" + fnameList[0])\n",
    "pLabel = Label(window, image = photo)  \n",
    "\n",
    "btnPrev.place(x = 250, y = 10)\n",
    "btnNext.place(x = 400, y = 10)\n",
    "pLabel.place(x = 15, y = 50)\n",
    "\n",
    "window.mainloop()\n",
    "\n"
   ]
  },
  {
   "cell_type": "markdown",
   "id": "dc14988f",
   "metadata": {},
   "source": [
    "# 13. 마우스 왼쪽 버튼 클릭 처리"
   ]
  },
  {
   "cell_type": "code",
   "execution_count": 2,
   "id": "5f553131",
   "metadata": {},
   "outputs": [],
   "source": [
    "from tkinter import *\n",
    "from tkinter import messagebox\n",
    "\n",
    "## 함수 선언 부분 ##\n",
    "def clickLeft(event) :\n",
    "    messagebox.showinfo(\"마우스\", \"마우스 왼쪽 버튼이 클릭됨\")\n",
    "\n",
    "## 메인 코드 부분 ##\n",
    "window = Tk()\n",
    "\n",
    "window.bind(\"<Button-1>\", clickLeft)\n",
    "\n",
    "window.mainloop()\n",
    "\n"
   ]
  },
  {
   "cell_type": "markdown",
   "id": "6efcdf03",
   "metadata": {},
   "source": [
    "# 14. 지정된 위젯을 클릭했을 때 다른 함수 호출"
   ]
  },
  {
   "cell_type": "code",
   "execution_count": 3,
   "id": "01ab0903",
   "metadata": {},
   "outputs": [],
   "source": [
    "from tkinter import *\n",
    "from tkinter import messagebox\n",
    "\n",
    "## 함수 선언 부분 ##\n",
    "def clickImage(event) :\n",
    "    messagebox.showinfo(\"마우스\", \"토끼에서 마우스가 클릭됨\")\n",
    "\n",
    "## 메인 코드 부분 ##\n",
    "window = Tk()\n",
    "window.geometry(\"400x400\")\n",
    "\n",
    "photo = PhotoImage(file = \"gif/rabbit.gif\")\n",
    "label1 = Label(window, image = photo)\n",
    "\n",
    "label1.bind(\"<Button>\", clickImage)\n",
    "\n",
    "label1.pack( expand = 1, anchor = CENTER)\n",
    "window.mainloop()\n",
    "\n"
   ]
  },
  {
   "cell_type": "markdown",
   "id": "e8f7443c",
   "metadata": {},
   "source": [
    "# 15. 마우스 위치 출력"
   ]
  },
  {
   "cell_type": "code",
   "execution_count": 4,
   "id": "af4430a0",
   "metadata": {},
   "outputs": [],
   "source": [
    "from tkinter import *\n",
    "\n",
    "## 함수 선언 부분 ##\n",
    "def clickMouse(event) :\n",
    "    txt = \"\"\n",
    "    if event.num == 1 :\n",
    "        txt += \"마우스 왼쪽 버튼이 (\"\n",
    "    elif event.num == 3 :\n",
    "        txt += \"마우스 오른쪽 버튼이 (\"\n",
    "\n",
    "    txt += str(event.y) + \",\" + str(event.x) + \")에서 클릭됨\"\n",
    "    label1.configure(text = txt)\n",
    "\n",
    "\n",
    "## 메인 코드 부분 ##\n",
    "window = Tk()\n",
    "window.geometry(\"400x400\")\n",
    "\n",
    "label1 = Label(window, text = \"이곳이 바뀜\")\n",
    "\n",
    "window.bind(\"<Button>\", clickMouse)\n",
    "\n",
    "label1.pack()\n",
    "window.mainloop()\n",
    "\n"
   ]
  },
  {
   "cell_type": "markdown",
   "id": "31bf837a",
   "metadata": {},
   "source": [
    "# 16. 키보드 이벤트 기본 처리"
   ]
  },
  {
   "cell_type": "code",
   "execution_count": 5,
   "id": "4211c20e",
   "metadata": {},
   "outputs": [],
   "source": [
    "from tkinter import *\n",
    "from tkinter import messagebox\n",
    "\n",
    "## 함수 선언 부분 ##\n",
    "def keyEvent(event) :\n",
    "    messagebox.showinfo(\"키보드 이벤트\", \"눌린 키 : \" + chr(event.keycode))\n",
    "   \n",
    "## 메인 코드 부분 ##\n",
    "window = Tk()\n",
    "\n",
    "window.bind(\"<Key>\", keyEvent)\n",
    "\n",
    "window.mainloop()\n",
    "\n"
   ]
  },
  {
   "cell_type": "markdown",
   "id": "0df1206b",
   "metadata": {},
   "source": [
    "# 17. [파일] 메뉴 아래에 [열기]와 [종료] 하위 메뉴가 있는 코드 "
   ]
  },
  {
   "cell_type": "code",
   "execution_count": 6,
   "id": "b8d9e721",
   "metadata": {},
   "outputs": [],
   "source": [
    "from tkinter import *\n",
    "\n",
    "window = Tk()\n",
    "\n",
    "mainMenu = Menu(window)        # 윈도우 창에 메뉴 사용 가능\n",
    "window.config(menu = mainMenu) # 윈도우 창에 메뉴 등록\n",
    "\n",
    "fileMenu = Menu(mainMenu)      # 메뉴창에 표시할 상위 메뉴의 속성 설정\n",
    "mainMenu.add_cascade(label = \"파일\", menu = fileMenu)\n",
    "\n",
    "\n",
    "\n",
    "\n",
    "fileMenu.add_command(label = \"열기\")\n",
    "fileMenu.add_separator()\n",
    "fileMenu.add_command(label = \"종료\")\n",
    "\n",
    "window.mainloop()\n",
    "\n"
   ]
  },
  {
   "cell_type": "markdown",
   "id": "069259a0",
   "metadata": {},
   "source": [
    "# 18. 메뉴를 선택하면 동작 실행"
   ]
  },
  {
   "cell_type": "code",
   "execution_count": 7,
   "id": "a1e1f766",
   "metadata": {},
   "outputs": [],
   "source": [
    "from tkinter import *\n",
    "from tkinter import messagebox\n",
    "\n",
    "## 함수 선언 부분 ##\n",
    "def func_open() :\n",
    "    messagebox.showinfo(\"메뉴 선택\", \"열기 메뉴를 선택함\")\n",
    "\n",
    "def func_exit() :\n",
    "    window.quit()\n",
    "    window.destroy()\n",
    "    \n",
    "## 메인 코드 부분 ##\n",
    "window = Tk()\n",
    "\n",
    "mainMenu = Menu(window)\n",
    "window.config(menu=mainMenu)\n",
    "\n",
    "fileMenu = Menu(mainMenu)\n",
    "mainMenu.add_cascade(label = \"파일\", menu = fileMenu)\n",
    "fileMenu.add_command(label = \"열기\", command = func_open)\n",
    "\n",
    "fileMenu.add_separator()\n",
    "fileMenu.add_command(label = \"종료\", command = func_exit)\n",
    "\n",
    "window.mainloop()"
   ]
  },
  {
   "cell_type": "markdown",
   "id": "390d7c5b",
   "metadata": {},
   "source": [
    "# 19. 대화상자 생성과 사용"
   ]
  },
  {
   "cell_type": "code",
   "execution_count": 9,
   "id": "22565cfe",
   "metadata": {},
   "outputs": [],
   "source": [
    "from tkinter import *\n",
    "from tkinter.simpledialog import *\n",
    "\n",
    "## 함수 선언 부분 ##\n",
    "window = Tk()\n",
    "window.geometry(\"400x100\")\n",
    "\n",
    "label1 = Label(window, text = \"입력된 값 : \")\n",
    "label1.pack()\n",
    "\n",
    "value = askinteger(\"확대 배수\", \"주사위 숫자(1~6)을  입력하세요\", minvalue = 1, maxvalue = 6)\n",
    "\n",
    "label1.configure(text = str(value))\n",
    "window.mainloop()\n",
    "\n"
   ]
  },
  {
   "cell_type": "markdown",
   "id": "7c2a7d01",
   "metadata": {},
   "source": [
    "# 20. 그림파일을 선택하는 코드"
   ]
  },
  {
   "cell_type": "code",
   "execution_count": 10,
   "id": "6445475a",
   "metadata": {},
   "outputs": [],
   "source": [
    "from tkinter import *\n",
    "from tkinter.filedialog import *\n",
    "\n",
    "## 함수 정의 부분 ##\n",
    "window = Tk()\n",
    "window.geometry(\"400x100\")\n",
    "\n",
    "label1 = Label(window, text = \"선택된 파일 이름 \")\n",
    "label1.pack()\n",
    "\n",
    "filename = askopenfilename(parent = window, filetypes = ((\"GIF 파일\", \"*.gif\"), (\"모든 파일\", \"*.*\")))\n",
    "\n",
    "label1.configure(text=str(filename))\n",
    "\n",
    "window.mainloop()"
   ]
  },
  {
   "cell_type": "markdown",
   "id": "11a7edca",
   "metadata": {},
   "source": [
    "# 21. 그림감상 프로그램"
   ]
  },
  {
   "cell_type": "code",
   "execution_count": 11,
   "id": "acb85a0c",
   "metadata": {},
   "outputs": [],
   "source": [
    "from tkinter import *\n",
    "from tkinter.filedialog import *\n",
    "\n",
    "## 함수 선언 부분 ##\n",
    "def func_open() :\n",
    "    filename = askopenfilename(parent = window, filetypes = ((\"GIF 파일\", \"*.gif\"), (\"모든 파일\", \"*.*\")))\n",
    "    photo = PhotoImage(file = filename)\n",
    "    pLabel.configure(image = photo)\n",
    "    pLabel.image = photo\n",
    "\n",
    "def func_exit() :\n",
    "    window.quit()\n",
    "    window.destroy()\n",
    "\n",
    "## 메인 코드  부분 ##\n",
    "window = Tk()\n",
    "window.geometry(\"400x400\")\n",
    "window.title(\"명화 감상하기\")\n",
    "\n",
    "photo = PhotoImage()\n",
    "pLabel = Label(window, image = photo)\n",
    "pLabel.pack(expand=1, anchor = CENTER)\n",
    "\n",
    "mainMenu = Menu(window)\n",
    "window.config(menu = mainMenu)\n",
    "fileMenu = Menu(mainMenu)\n",
    "mainMenu.add_cascade(label = \"파일\", menu = fileMenu)\n",
    "fileMenu.add_command(label = \"파일 열기\", command = func_open)\n",
    "fileMenu.add_separator()\n",
    "fileMenu.add_command(label = \"프로그램 종료\", command = func_exit)\n",
    "\n",
    "window.mainloop()\n",
    "\n"
   ]
  },
  {
   "cell_type": "code",
   "execution_count": null,
   "id": "a73d6f31",
   "metadata": {},
   "outputs": [],
   "source": []
  }
 ],
 "metadata": {
  "kernelspec": {
   "display_name": "Python 3",
   "language": "python",
   "name": "python3"
  },
  "language_info": {
   "codemirror_mode": {
    "name": "ipython",
    "version": 3
   },
   "file_extension": ".py",
   "mimetype": "text/x-python",
   "name": "python",
   "nbconvert_exporter": "python",
   "pygments_lexer": "ipython3",
   "version": "3.9.2+"
  }
 },
 "nbformat": 4,
 "nbformat_minor": 5
}

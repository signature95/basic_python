{
 "cells": [
  {
   "cell_type": "markdown",
   "id": "802eb960",
   "metadata": {},
   "source": [
    "# 1. 객체지향프로그래밍?"
   ]
  },
  {
   "cell_type": "code",
   "execution_count": null,
   "id": "f0a1559b",
   "metadata": {},
   "outputs": [],
   "source": [
    "def print_string(data):\n",
    "    print(data)\n",
    "\n",
    "print_string(\"코딩은 재미있당\")"
   ]
  },
  {
   "cell_type": "code",
   "execution_count": 1,
   "id": "b444cfac",
   "metadata": {},
   "outputs": [
    {
     "data": {
      "text/plain": [
       "['코딩은', '재미있당']"
      ]
     },
     "execution_count": 1,
     "metadata": {},
     "output_type": "execute_result"
    }
   ],
   "source": [
    "string = \"코딩은 재미있당\" # 문자열 관련 설계도 있음 - 해당 설계도 기반 문자열1 객체가 만들어짐\n",
    "string.split() # 해당 문자열 1 객체가 가지고 있는 메서드(method)"
   ]
  },
  {
   "cell_type": "code",
   "execution_count": null,
   "id": "a84045fc",
   "metadata": {},
   "outputs": [],
   "source": [
    "## 객체지향 프로그래밍 언어 : JAVA, C++\n",
    "## 파이썬 : 객체지향(내부), 객체지향 문법(지원), 게임, UI만들때 많이 쓰이고 이외에는 굳이 쓰이진 않은"
   ]
  },
  {
   "cell_type": "markdown",
   "id": "eab92f5d",
   "metadata": {},
   "source": [
    "# 2. 클래스 구현 - 자동차 색깔, 속도 field, 속도 올리기 내리기 method 포함"
   ]
  },
  {
   "cell_type": "code",
   "execution_count": 11,
   "id": "802d429e",
   "metadata": {
    "scrolled": true
   },
   "outputs": [
    {
     "name": "stdout",
     "output_type": "stream",
     "text": [
      "blue 100\n"
     ]
    }
   ],
   "source": [
    "class Car :\n",
    "    color = ''\n",
    "    speed = 0\n",
    "    def upSpeed(self, value):\n",
    "        self.speed += value\n",
    "    def downSpeed(self, value):\n",
    "        self.speed -= value\n",
    "\n",
    "car1 = Car()\n",
    "car1.color = 'blue'\n",
    "car1.upSpeed(100)\n",
    "print(car1.color, car1.speed)"
   ]
  },
  {
   "cell_type": "markdown",
   "id": "5cfe7631",
   "metadata": {},
   "source": [
    "# 3. 자동차 클래스 이용해서 자동차 객체 3개를 만들어보고 속도를 바꿔가면서 출력해보기"
   ]
  },
  {
   "cell_type": "code",
   "execution_count": 12,
   "id": "890df303",
   "metadata": {},
   "outputs": [
    {
     "name": "stdout",
     "output_type": "stream",
     "text": [
      "첫번째 차 : blue, 100, 두번째 차 : green, 10, 세 번째 차 : red, -100\n"
     ]
    }
   ],
   "source": [
    "class Car:\n",
    "    color = 'red'\n",
    "    speed = 0\n",
    "    def upSpeed(self, value):\n",
    "        self.speed += value\n",
    "    def downSpeed(self, value):\n",
    "        self.speed -= value\n",
    "        \n",
    "car1 = Car()\n",
    "car1.color = 'blue'\n",
    "car1.upSpeed(100)\n",
    "car2 = Car()\n",
    "car2.color = 'green'\n",
    "car2.upSpeed(10)\n",
    "car3 = Car()\n",
    "car3.color = 'red'\n",
    "car3.downSpeed(100)\n",
    "print(\"첫번째 차 : %s, %d, 두번째 차 : %s, %d, 세 번째 차 : %s, %d\" %(car1.color, car1.speed, car2.color, car2.speed, car3.color, car3.speed))"
   ]
  },
  {
   "cell_type": "markdown",
   "id": "65c1cc15",
   "metadata": {},
   "source": [
    "# 4. 자동차 객체를 만들고 색과 속도 입력해보기"
   ]
  },
  {
   "cell_type": "code",
   "execution_count": 15,
   "id": "b43735c4",
   "metadata": {},
   "outputs": [
    {
     "name": "stdout",
     "output_type": "stream",
     "text": [
      "Bomul : red, 100, Sunmul : yellow, 0, Genesis : red, -30\n"
     ]
    }
   ],
   "source": [
    "class Car:\n",
    "    color = 'red'\n",
    "    speed = 0\n",
    "    name = ''\n",
    "    def upSpeed(self, value):\n",
    "        self.speed += value\n",
    "    def downSpeed(self, value):\n",
    "        self.speed -= value\n",
    "    def giveName(self, value):\n",
    "        self.name = value\n",
    "car1 = Car()\n",
    "car2 = Car()\n",
    "car3 = Car()\n",
    "\n",
    "car1.giveName('Bomul')\n",
    "car2.giveName('Sunmul')\n",
    "car3.giveName('Genesis')\n",
    "car1.upSpeed(100)\n",
    "car3.downSpeed(30)\n",
    "car2.color = 'yellow'\n",
    "print(\"%s : %s, %d, %s : %s, %d, %s : %s, %d\" %(car1.name, car1.color, car1.speed, car2.name, car2.color, car2.speed, car3.name, car3.color, car3.speed))"
   ]
  },
  {
   "cell_type": "markdown",
   "id": "43f6a52a",
   "metadata": {},
   "source": [
    "# 5. 가로,세로 field, 넓이 method를 가지는 직사각형 클래스 만들어보기\n",
    "+ 기본 값 : 가로-100, 세로-100"
   ]
  },
  {
   "cell_type": "code",
   "execution_count": 16,
   "id": "4df7f710",
   "metadata": {},
   "outputs": [
    {
     "name": "stdout",
     "output_type": "stream",
     "text": [
      "이 직사각형의 넓이는 15000입니다.\n"
     ]
    }
   ],
   "source": [
    "class Rectangle :\n",
    "    width = 100\n",
    "    height = 100\n",
    "    def area(self):\n",
    "        print(\"이 직사각형의 넓이는 %d입니다.\" %(self.width*self.height))\n",
    "        \n",
    "rec1 = Rectangle()\n",
    "rec1.height = 150\n",
    "rec1.area()"
   ]
  },
  {
   "cell_type": "code",
   "execution_count": 30,
   "id": "80473e6e",
   "metadata": {},
   "outputs": [
    {
     "name": "stdout",
     "output_type": "stream",
     "text": [
      "이 직사각형의 가로 길이는 34, 세로 길이는 13, 넓이는 442입니다.\n"
     ]
    }
   ],
   "source": [
    "class Rectangle:\n",
    "    def __init__(self, x=100, y=100):\n",
    "        self.width = x\n",
    "        self.height = y\n",
    "    \n",
    "    def area(self):\n",
    "        print(\"이 직사각형의 가로 길이는 %d, 세로 길이는 %d, 넓이는 %d입니다.\" %(self.width, self.height, self.width*self.height))\n",
    "rec1 = Rectangle(y=13, x=34)\n",
    "rec1.area()"
   ]
  },
  {
   "cell_type": "markdown",
   "id": "e51565bf",
   "metadata": {},
   "source": [
    "# 6. 생성자를 이용해서 이름과 속도를 field로 넣고 이름과 속도를 출력하는 method만들기"
   ]
  },
  {
   "cell_type": "code",
   "execution_count": 21,
   "id": "a37e88fc",
   "metadata": {},
   "outputs": [
    {
     "name": "stdout",
     "output_type": "stream",
     "text": [
      "red 0\n"
     ]
    }
   ],
   "source": [
    "class Car:\n",
    "    color = 'red'\n",
    "    speed = 0\n",
    "car1 = Car()\n",
    "print(car1.color, car1.speed)"
   ]
  },
  {
   "cell_type": "code",
   "execution_count": 24,
   "id": "771b757f",
   "metadata": {},
   "outputs": [
    {
     "name": "stdout",
     "output_type": "stream",
     "text": [
      "blue 150\n"
     ]
    }
   ],
   "source": [
    "class Car:\n",
    "    def __init__(self, x,y):\n",
    "        self.color = x\n",
    "        self.speed = y\n",
    "car1 = Car('blue', 150)\n",
    "print(car1.color, car1.speed)"
   ]
  },
  {
   "cell_type": "code",
   "execution_count": 20,
   "id": "ce23b1de",
   "metadata": {},
   "outputs": [
    {
     "name": "stdout",
     "output_type": "stream",
     "text": [
      "blue 100\n"
     ]
    }
   ],
   "source": [
    "class Car():\n",
    "    def __init__(self, color, speed):\n",
    "        self.color = color\n",
    "        self.speed = speed\n",
    "    \n",
    "mycar = Car('blue',100)\n",
    "print(mycar.color, mycar.speed)"
   ]
  },
  {
   "cell_type": "markdown",
   "id": "cdb8d678",
   "metadata": {},
   "source": [
    "# 7. 클래스 변수를 사용해서 자동차 총 개수 출력해보기"
   ]
  },
  {
   "cell_type": "code",
   "execution_count": 37,
   "id": "892ebce7",
   "metadata": {},
   "outputs": [
    {
     "data": {
      "text/plain": [
       "'red'"
      ]
     },
     "execution_count": 37,
     "metadata": {},
     "output_type": "execute_result"
    }
   ],
   "source": [
    "class Car:\n",
    "    count = 0\n",
    "    def __init__(self,color,speed):\n",
    "        self.color = color\n",
    "        self.speed = speed\n",
    "        Car.count += 1\n",
    "car1 = Car('blue', 120)\n",
    "car2 = Car('red', 100)\n",
    "car3 = Car('yellow', 90)\n",
    "car2.color"
   ]
  },
  {
   "cell_type": "code",
   "execution_count": 41,
   "id": "cbf9163e",
   "metadata": {},
   "outputs": [
    {
     "name": "stdout",
     "output_type": "stream",
     "text": [
      "이 직사각형의 가로 길이는 95, 세로 길이는 99, 넓이는 9405입니다. 현재까지 만들어진 직사각형의 개수는 1개 입니다.\n",
      "이 직사각형의 가로 길이는 85, 세로 길이는 37, 넓이는 3145입니다. 현재까지 만들어진 직사각형의 개수는 2개 입니다.\n",
      "이 직사각형의 가로 길이는 88, 세로 길이는 64, 넓이는 5632입니다. 현재까지 만들어진 직사각형의 개수는 3개 입니다.\n",
      "이 직사각형의 가로 길이는 86, 세로 길이는 73, 넓이는 6278입니다. 현재까지 만들어진 직사각형의 개수는 4개 입니다.\n",
      "이 직사각형의 가로 길이는 60, 세로 길이는 34, 넓이는 2040입니다. 현재까지 만들어진 직사각형의 개수는 5개 입니다.\n"
     ]
    }
   ],
   "source": [
    "import random\n",
    "\n",
    "class Rectangle:\n",
    "    count = 0\n",
    "    def __init__(self, x=100, y=100):\n",
    "        self.width = x\n",
    "        self.height = y\n",
    "        Rectangle.count += 1\n",
    "    def area(self):\n",
    "        print(\"이 직사각형의 가로 길이는 %d, 세로 길이는 %d, 넓이는 %d입니다. 현재까지 만들어진 직사각형의 개수는 %d개 입니다.\" \n",
    "              %(self.width, self.height, self.width*self.height, self.count))\n",
    "a=[]\n",
    "for i in range(5):\n",
    "    a.append([])\n",
    "    a[i] = Rectangle(random.randrange(60,100), random.randrange(30,100))\n",
    "    a[i].area()"
   ]
  },
  {
   "cell_type": "markdown",
   "id": "79f8b189",
   "metadata": {},
   "source": [
    "# 8. 클래스 상속을 이용해서 세단, 트럭 클래스 만들어보기\n",
    "+ Car() 클래스에는 속도 field만을 만들고 속도를 올리는 method만 추가\n",
    "+ Sedan() 클래스에는 속도가 150이상 안되도록 코드 추가\n",
    "+ Truck() 클래스는 Car 클래스와 동일하게 하기"
   ]
  },
  {
   "cell_type": "code",
   "execution_count": 56,
   "id": "632e6170",
   "metadata": {},
   "outputs": [
    {
     "name": "stdout",
     "output_type": "stream",
     "text": [
      "자동차 속도 : 160, 세단 속도 : 150, 트럭 속도 : 150\n"
     ]
    }
   ],
   "source": [
    "class Car:\n",
    "    def __init__(self, speed = 0):\n",
    "        self.speed = speed\n",
    "    def upSpeed(self, value):\n",
    "        self.speed += value\n",
    "        \n",
    "class Sedan(Car):\n",
    "    def upSpeed(self, value):\n",
    "        self.speed += value\n",
    "        if self.speed>150:\n",
    "            self.speed = 150\n",
    "class Truck(Sedan):\n",
    "    pass\n",
    "\n",
    "car1 = Car()\n",
    "sed1 = Sedan()\n",
    "truck1 = Truck()\n",
    "car1.upSpeed(160)\n",
    "sed1.upSpeed(160)\n",
    "truck1.upSpeed(160)\n",
    "print(\"자동차 속도 : %d, 세단 속도 : %d, 트럭 속도 : %d\" %(car1.speed, sed1.speed, truck1.speed))\n"
   ]
  },
  {
   "cell_type": "code",
   "execution_count": 57,
   "id": "b1777120",
   "metadata": {},
   "outputs": [],
   "source": [
    "class Car:\n",
    "    def __init__(self,color='blue',speed=0):\n",
    "        self.color = color\n",
    "        self.speed = speed\n",
    "    def upSpeed(self, value):\n",
    "        self.speed += value\n",
    "    def downSpeed(self, value):\n",
    "        self.speed -= value\n",
    "\n",
    "class Motorcycle(Car):\n",
    "    def __init__(self, name='Yamaha', speed=0):\n",
    "        self.name = name\n",
    "        self.speed = speed\n",
    "    def speed100(self):\n",
    "        self.speed=100\n",
    "car1 = Car()\n",
    "car1.upSpeed(160)"
   ]
  },
  {
   "cell_type": "markdown",
   "id": "504e79dc",
   "metadata": {},
   "source": [
    "# 9. 거북이로 객체지향 사각형 그리기\n",
    "## 2개의 클래스를 클래스 상속을 통해서 만들기\n",
    "+ Shape\n",
    "    + setPen\n",
    "        + 펜 색상과 두께를 랜덤하게 뽑기\n",
    "+ Rectangle - Shape의 하위 클래스\n",
    "    + drawShape\n"
   ]
  },
  {
   "cell_type": "code",
   "execution_count": null,
   "id": "9bd5cfde",
   "metadata": {},
   "outputs": [],
   "source": [
    "import turtle\n",
    "import random\n",
    "\n",
    "## 클래스 선언 부분 ##\n",
    "class Shape:  # 부모 클래스\n",
    "    def __init__(self):\n",
    "        self.myTurtle = turtle.Turtle('turtle') # 거북이 생성.\n",
    "   \n",
    "    def setPen(self) : # 펜 색상과 두께를 랜덤하게 뽑기\n",
    "        r = random.random()\n",
    "        g = random.random()\n",
    "        b = random.random()\n",
    "        self.myTurtle.pencolor((r, g, b))\n",
    "        pSize = random.randrange(1,10)\n",
    "        self.myTurtle.pensize(pSize)                \n",
    "\n",
    "    def drawShape(self):  # 하위 클래스에서 상속받아서 오버라이딩\n",
    "        pass\n",
    "\n",
    "\n",
    "class Rectangle(Shape): # 자식 클래스\n",
    "    def __init__(self, x, y):\n",
    "        Shape.__init__(self)\n",
    "        self.cx = x\n",
    "        self.cy = y\n",
    "        self.width = random.randrange(20, 100)\n",
    "        self.height = random.randrange(20, 100)\n",
    "    def drawShape(self) :\n",
    "        ???\n",
    "        \n",
    "## 함수 선언 부분 ##\n",
    "def  screenLeftClick(x,y):\n",
    "    rect = Rectangle(x, y)\n",
    "    rect.drawShape()\n",
    "    \n",
    "turtle.title('거북이로 객체지향 사각형  그리기')\n",
    "turtle.onscreenclick(screenLeftClick,1)\n",
    "turtle.done()"
   ]
  },
  {
   "cell_type": "code",
   "execution_count": 62,
   "id": "3bb41cfc",
   "metadata": {},
   "outputs": [],
   "source": [
    "import turtle\n",
    "import random\n",
    "\n",
    "## 클래스 선언 부분 ##\n",
    "class Shape:  # 부모 클래스\n",
    "    myTurtle = None\n",
    "    cx, cy = 0, 0  # 사각형 및 원의 중심점.\n",
    "\n",
    "    def __init__(self):\n",
    "        self.myTurtle = turtle.Turtle('turtle') # 거북이 생성.\n",
    "   \n",
    "    def setPen(self) : # 펜 색상과 두께를 랜덤하게 뽑기\n",
    "        r = random.random()\n",
    "        g = random.random()\n",
    "        b = random.random()\n",
    "        self.myTurtle.pencolor((r, g, b))\n",
    "        pSize = random.randrange(1,10)\n",
    "        self.myTurtle.pensize(pSize)                \n",
    "\n",
    "    def drawShape(self):  # 하위 클래스에서 상속받아서 오버라이딩\n",
    "        pass\n",
    "\n",
    "class Rectangle(Shape): # 자식 클래스\n",
    "    width, height = [0] * 2\n",
    "    def __init__(self, x, y):\n",
    "        Shape.__init__(self)  \n",
    "        self.cx = x\n",
    "        self.cy = y\n",
    "        self.width = random.randrange(20, 100)\n",
    "        self.height = random.randrange(20, 100)\n",
    "        \n",
    "    def drawShape(self) :\n",
    "        sx1, sy1, sx2, sy2 = [0] * 4  # 왼쪽 위 X, Y와 오른쪽 아래 X,Y\n",
    "        \n",
    "        sx1 = self.cx - self.width/2\n",
    "        sy1 = self.cy - self.height /2\n",
    "        sx2 = self.cx + self.width/2\n",
    "        sy2 = self.cy + self.height /2\n",
    "\n",
    "        self.setPen() # 부모 클래스 메서드\n",
    "        self.myTurtle.penup()\n",
    "        self.myTurtle.goto(sx1, sy1)\n",
    "        self.myTurtle.pendown()\n",
    "        self.myTurtle.goto(sx1, sy2)\n",
    "        self.myTurtle.goto(sx2, sy2)\n",
    "        self.myTurtle.goto(sx2, sy1)\n",
    "        self.myTurtle.goto(sx1, sy1)\n",
    "        \n",
    "## 함수 선언 부분 ##\n",
    "def  screenLeftClick(x,y):\n",
    "    rect = Rectangle(x, y)\n",
    "    rect.drawShape()\n",
    "    \n",
    "## 메인 코드 부분 ##\n",
    "turtle.title('거북이로 객체지향 사각형  그리기')\n",
    "turtle.onscreenclick(screenLeftClick,1)\n",
    "turtle.done()\n",
    "\n"
   ]
  },
  {
   "cell_type": "markdown",
   "id": "d9d173bd",
   "metadata": {},
   "source": [
    "# 10. 클래스의 특별한 Method"
   ]
  },
  {
   "cell_type": "code",
   "execution_count": 65,
   "id": "d6567799",
   "metadata": {},
   "outputs": [
    {
     "name": "stdout",
     "output_type": "stream",
     "text": [
      "300 길이의 선이 생성되었습니다.\n",
      "100 길이의 선이 생성되었습니다.\n",
      "100 길이의 선이 제거되었습니다.\n",
      "선의 길이 : 300\n",
      "두 선의 길이 합 :  400\n",
      "모르겠네요.\n",
      "300 길이의 선이 제거되었습니다.\n"
     ]
    }
   ],
   "source": [
    "## 클래스 선언 부분 ##\n",
    "class Line:\n",
    "    length = 0\n",
    "    def __init__(self, length) :\n",
    "        self.length = length\n",
    "        print(self.length, '길이의 선이 생성되었습니다.')\n",
    "\n",
    "    def __del__(self) :\n",
    "        print(self.length, '길이의 선이 제거되었습니다.')\n",
    "\n",
    "    def __repr__(self) :\n",
    "        return '선의 길이 : '+ str(self.length) \n",
    "\n",
    "    def __add__(self, other):\n",
    "        return self.length + other.length\n",
    "\n",
    "    def __lt__(self, other) :\n",
    "        return self.length < other.length\n",
    "\n",
    "    def __eq__(self, other) :\n",
    "        return self.length == other.length\n",
    "\n",
    "## 메인 코드 부분 ##\n",
    "myLine1 = Line(300)\n",
    "myLine2 = Line(100)\n",
    "\n",
    "print(myLine1)\n",
    "\n",
    "print('두 선의 길이 합 : ', myLine1 + myLine2)\n",
    "\n",
    "if myLine1 < myLine2 :\n",
    "    print('선분 2가 더 기네요.')\n",
    "elif myLine1 == myLine2 :\n",
    "    print('두 선분이 같네요.')\n",
    "else :\n",
    "    print('모르겠네요.')\n",
    "\n",
    "del(myLine1)\n"
   ]
  },
  {
   "cell_type": "markdown",
   "id": "82d02677",
   "metadata": {},
   "source": [
    "# 11. 추상 Method"
   ]
  },
  {
   "cell_type": "code",
   "execution_count": 18,
   "id": "a3a14ba5",
   "metadata": {},
   "outputs": [
    {
     "name": "stdout",
     "output_type": "stream",
     "text": [
      "SubClass1에서 method()를 오버라이딩함\n"
     ]
    }
   ],
   "source": [
    "## 클래스 선언 부분 ##\n",
    "class SuperClass :\n",
    "    def  method(self) :\n",
    "        pass  \n",
    "\n",
    "class SubClass1 (SuperClass) :\n",
    "    def method(self) :  # 메소드 오버라이딩\n",
    "        print('SubClass1에서 method()를 오버라이딩함')\n",
    "\n",
    "class SubClass2 (SuperClass) :\n",
    "    pass\n",
    "\n",
    "## 메인 코드 부분\n",
    "sub1 = SubClass1()\n",
    "sub2 = SubClass2()\n",
    "\n",
    "sub1.method()\n",
    "sub2.method()\n",
    "\n"
   ]
  },
  {
   "cell_type": "markdown",
   "id": "f241548f",
   "metadata": {},
   "source": [
    "# 12. 자동차 3대가 경주하는 코드짜보기\n",
    "+ class RacingCar:\n",
    "+ for 문을 이용해서 \"n번째 경주차가 달리고 있습니다\" 3번 출력하기\n",
    "+ rc1 = RacingCar(\"고스트 라이더\")\n",
    "+ rc1.run()\n",
    "    + '고스트 라이더가 달리고 있습니다'\n",
    "    + '고스트 라이더가 달리고 있습니다'\n",
    "    + '고스트 라이더가 달리고 있습니다'\n",
    "\n",
    "\n",
    "\n",
    "\n",
    "\n"
   ]
  },
  {
   "cell_type": "code",
   "execution_count": 71,
   "id": "3d29c2ca",
   "metadata": {},
   "outputs": [
    {
     "name": "stdout",
     "output_type": "stream",
     "text": [
      "@자동차1~~ 달립니다.\n",
      "@자동차1~~ 달립니다.\n",
      "@자동차1~~ 달립니다.\n",
      "#자동차2~~ 달립니다.\n",
      "#자동차2~~ 달립니다.\n",
      "#자동차2~~ 달립니다.\n",
      "$자동차3~~ 달립니다.\n",
      "$자동차3~~ 달립니다.\n",
      "$자동차3~~ 달립니다.\n"
     ]
    }
   ],
   "source": [
    "import time\n",
    "\n",
    "## 클래스 선언 부분 ##\n",
    "class RacingCar :\n",
    "    carName = ''\n",
    "    def  __init__(self, name) :\n",
    "        self.carName = name\n",
    "\n",
    "    def runCar(self) :\n",
    "        for _ in range(0, 3) :\n",
    "            carStr = self.carName + '~~ 달립니다.\\n'\n",
    "            print(carStr, end = '')\n",
    "            time.sleep(2) \n",
    "\n",
    "## 메인 코드 부분 ##\n",
    "car1 = RacingCar('@자동차1')\n",
    "car2 = RacingCar('#자동차2')\n",
    "car3 = RacingCar('$자동차3')\n",
    "\n",
    "car1.runCar()\n",
    "car2.runCar()\n",
    "car3.runCar()\n",
    "\n"
   ]
  },
  {
   "cell_type": "markdown",
   "id": "8eadf3e6",
   "metadata": {},
   "source": [
    "# 13. 멀티스레드를 사용하여 자동차 세대를 동시에 출발시키기"
   ]
  },
  {
   "cell_type": "code",
   "execution_count": 72,
   "id": "59faad99",
   "metadata": {},
   "outputs": [
    {
     "name": "stdout",
     "output_type": "stream",
     "text": [
      "@자동차1~~ 달립니다.\n",
      "#자동차2~~ 달립니다.\n",
      "$자동차3~~ 달립니다.\n",
      "#자동차2~~ 달립니다.\n",
      "@자동차1~~ 달립니다.\n",
      "$자동차3~~ 달립니다.\n",
      "#자동차2~~ 달립니다.\n",
      "@자동차1~~ 달립니다.\n",
      "$자동차3~~ 달립니다.\n"
     ]
    }
   ],
   "source": [
    "import threading\n",
    "import time\n",
    "\n",
    "## 클래스 선언 부분 ##\n",
    "class RacingCar :\n",
    "    carName = ''\n",
    "    def  __init__(self, name) :\n",
    "        self.carName = name\n",
    "\n",
    "    def runCar(self) :\n",
    "        for _ in range(0, 3) :\n",
    "            carStr = self.carName + '~~ 달립니다.\\n'\n",
    "            print(carStr, end = '')\n",
    "            time.sleep(2)   # 0.1초 멈춤\n",
    "\n",
    "## 메인 코드 부분 ##\n",
    "car1 = RacingCar('@자동차1')\n",
    "car2 = RacingCar('#자동차2')\n",
    "car3 = RacingCar('$자동차3')\n",
    "\n",
    "th1 = threading.Thread(target = car1.runCar)\n",
    "th2 = threading.Thread(target = car2.runCar)\n",
    "th3 = threading.Thread(target = car3.runCar)\n",
    "\n",
    "th1.start()\n",
    "th2.start()\n",
    "th3.start()\n",
    "\n"
   ]
  },
  {
   "cell_type": "code",
   "execution_count": null,
   "id": "1242e19e",
   "metadata": {},
   "outputs": [],
   "source": []
  }
 ],
 "metadata": {
  "kernelspec": {
   "display_name": "Python 3",
   "language": "python",
   "name": "python3"
  },
  "language_info": {
   "codemirror_mode": {
    "name": "ipython",
    "version": 3
   },
   "file_extension": ".py",
   "mimetype": "text/x-python",
   "name": "python",
   "nbconvert_exporter": "python",
   "pygments_lexer": "ipython3",
   "version": "3.9.2+"
  }
 },
 "nbformat": 4,
 "nbformat_minor": 5
}

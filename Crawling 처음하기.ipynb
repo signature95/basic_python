{
 "cells": [
  {
   "cell_type": "markdown",
   "id": "63773d20",
   "metadata": {},
   "source": [
    "<div class=\"alert alert-block\" style=\"border: 1px solid #455A64;background-color:#ECEFF1;\">\n",
    "본 자료 및 영상 컨텐츠는 저작권법 제25조 2항에 의해 보호를 받습니다. 본 컨텐츠 및 컨텐츠 일부 문구등을 외부에 공개, 게시하는 것을 금지합니다.\n",
    "</div>"
   ]
  },
  {
   "cell_type": "markdown",
   "id": "8cff9a14",
   "metadata": {},
   "source": [
    "# 크롤링 핵심 코드 패턴으로 이해하기"
   ]
  },
  {
   "cell_type": "code",
   "execution_count": 5,
   "id": "61fcb88c",
   "metadata": {},
   "outputs": [
    {
     "name": "stdout",
     "output_type": "stream",
     "text": [
      "총 앞에서도 시위·천혜 요새로 저항세력 집결..아프간 속 '反 탈레반'\n"
     ]
    }
   ],
   "source": [
    "import requests\n",
    "from bs4 import BeautifulSoup\n",
    "\n",
    "res = requests.get('https://news.v.daum.net/v/20210820090507793')\n",
    "soup = BeautifulSoup(res.content, 'html.parser')\n",
    "data = soup.find('title')\n",
    "print(data.get_text())"
   ]
  },
  {
   "cell_type": "markdown",
   "id": "6c2f859f",
   "metadata": {},
   "source": [
    "# HTML 언어 이해를 기반으로 크롤링해보기"
   ]
  },
  {
   "cell_type": "code",
   "execution_count": 3,
   "id": "a773a81c",
   "metadata": {},
   "outputs": [
    {
     "name": "stdout",
     "output_type": "stream",
     "text": [
      "<p class=\"cssstyle\">웹페이지에서 필요한 데이터를 추출하는 것</p>\n",
      "웹페이지에서 필요한 데이터를 추출하는 것\n",
      "웹페이지에서 필요한 데이터를 추출하는 것\n",
      "[<p class=\"cssstyle\">웹페이지에서 필요한 데이터를 추출하는 것</p>, <p align=\"center\" id=\"body\">파이썬을 중심으로 다양한 웹크롤링 기술 발달</p>]\n"
     ]
    }
   ],
   "source": [
    "from bs4 import BeautifulSoup\n",
    "\n",
    "html = \"\"\"\n",
    "<html>\n",
    "    <head>\n",
    "        <meta charset=\"utf-8\">\n",
    "    </head>\n",
    "    <body>\n",
    "        <h1 id='title'>[1]크롤링이란?</h1>\n",
    "        <p class='cssstyle'>웹페이지에서 필요한 데이터를 추출하는 것</p>\n",
    "        <p id='body' align='center'>파이썬을 중심으로 다양한 웹크롤링 기술 발달</p>\n",
    "        <b>안녕하세요</b>\n",
    "    </body>\n",
    "</html>\n",
    "\"\"\"\n",
    "\n",
    "soup = BeautifulSoup(html, \"html.parser\")\n",
    "#태그로 검색방법\n",
    "data = soup.find('p')\n",
    "print(data)\n",
    "print(data.string)\n",
    "print(data.get_text())\n",
    "all_data = soup.find_all('p')\n",
    "print(all_data)"
   ]
  },
  {
   "cell_type": "markdown",
   "id": "167f4f99",
   "metadata": {},
   "source": [
    "## 태그 정확하게 찾기"
   ]
  },
  {
   "cell_type": "code",
   "execution_count": null,
   "id": "1a61656c",
   "metadata": {},
   "outputs": [],
   "source": [
    "data = soup.find('p', class_='cssstyle')\n",
    "data = soup.find('p', 'cssstyle') #표시 없으면 class\n",
    "data = soup.find('p', attrs = {'align':'center'})\n",
    "data = soup.find('p' id='body') #id로 검색"
   ]
  },
  {
   "cell_type": "code",
   "execution_count": 11,
   "id": "12ae99e2",
   "metadata": {},
   "outputs": [
    {
     "name": "stdout",
     "output_type": "stream",
     "text": [
      "[<p class=\"cssstyle\">웹페이지에서 필요한 데이터를 추출하는 것</p>, <p align=\"center\" id=\"body\">파이썬을 중심으로 다양한 웹크롤링 기술 발달</p>]\n",
      "웹페이지에서 필요한 데이터를 추출하는 것\n",
      "파이썬을 중심으로 다양한 웹크롤링 기술 발달\n"
     ]
    }
   ],
   "source": [
    "from bs4 import BeautifulSoup\n",
    "\n",
    "html = \"\"\"\n",
    "<html>\n",
    "    <head>\n",
    "        <meta charset=\"utf-8\">\n",
    "    </head>\n",
    "    <body>\n",
    "        <h1 id='title'>[1]크롤링이란?</h1>\n",
    "        <p class='cssstyle'>웹페이지에서 필요한 데이터를 추출하는 것</p>\n",
    "        <p id='body' align='center'>파이썬을 중심으로 다양한 웹크롤링 기술 발달</p>\n",
    "        <b>안녕하세요</b>\n",
    "    </body>\n",
    "</html>\n",
    "\"\"\"\n",
    "\n",
    "soup = BeautifulSoup(html, \"html.parser\")\n",
    "#태그로 검색방법\n",
    "datas = soup.find_all('p')\n",
    "print(data)\n",
    "for data in datas:\n",
    "    print(data.get_text())"
   ]
  },
  {
   "cell_type": "markdown",
   "id": "41fb1e73",
   "metadata": {},
   "source": [
    "## find_all 메소드를 이용해서 전체 내용 찾기"
   ]
  },
  {
   "cell_type": "code",
   "execution_count": 12,
   "id": "ba37c6f3",
   "metadata": {},
   "outputs": [
    {
     "name": "stdout",
     "output_type": "stream",
     "text": [
      "<p class=\"cssstyle\">웹페이지에서 필요한 데이터를 추출하는 것</p>\n",
      "웹페이지에서 필요한 데이터를 추출하는 것\n",
      "웹페이지에서 필요한 데이터를 추출하는 것\n",
      "<p align=\"center\" id=\"body\">파이썬을 중심으로 다양한 웹크롤링 기술 발달</p>\n",
      "파이썬을 중심으로 다양한 웹크롤링 기술 발달\n",
      "파이썬을 중심으로 다양한 웹크롤링 기술 발달\n"
     ]
    }
   ],
   "source": [
    "from bs4 import BeautifulSoup\n",
    "\n",
    "html = \"\"\"\n",
    "<html>\n",
    "    <head>\n",
    "        <meta charset=\"utf-8\">\n",
    "    </head>\n",
    "    <body>\n",
    "        <h1 id='title'>[1]크롤링이란?</h1>\n",
    "        <p class='cssstyle'>웹페이지에서 필요한 데이터를 추출하는 것</p>\n",
    "        <p id='body' align='center'>파이썬을 중심으로 다양한 웹크롤링 기술 발달</p>\n",
    "        <b>안녕하세요</b>\n",
    "    </body>\n",
    "</html>\n",
    "\"\"\"\n",
    "\n",
    "soup = BeautifulSoup(html, \"html.parser\")\n",
    "#태그로 검색방법\n",
    "data = soup.find_all('p') \n",
    "for item in data:\n",
    "    print(item)\n",
    "    print(item.string)\n",
    "    print(item.get_text())"
   ]
  },
  {
   "cell_type": "markdown",
   "id": "10cf793a",
   "metadata": {},
   "source": [
    "# 실제 적용 예시"
   ]
  },
  {
   "cell_type": "code",
   "execution_count": 12,
   "id": "e7e4912d",
   "metadata": {},
   "outputs": [
    {
     "name": "stdout",
     "output_type": "stream",
     "text": [
      "잔금대출에도 DTI 규제 적용 검토\n"
     ]
    }
   ],
   "source": [
    "import requests\n",
    "from bs4 import BeautifulSoup\n",
    "res = requests.get('http://v.media.daum.net/v/20170615203441266')\n",
    "soup = BeautifulSoup(res.content,'html.parser')\n",
    "mydata = soup.find('h3', 'tit_view')\n",
    "print(mydata.get_text())\n",
    "\n"
   ]
  },
  {
   "cell_type": "code",
   "execution_count": 15,
   "id": "b459aa11",
   "metadata": {
    "scrolled": true
   },
   "outputs": [
    {
     "data": {
      "text/plain": [
       "'\\n\\n내주 부동산 종합대책 발표\\n집값 상승 노린 투기 분양 차단\\nLTVㆍDTI 규제 다시 강화할 듯\\n저소득 실수요자 피해 우려도\\n\\n\\n\\n금융당국이 급증하는 가계부채 증가세를 막기 위해 아파트 잔금대출에도 소득을 따져 대출한도를 정하는 총부채상환비율(DTI)을 적용하는 방안을 유력하게 검토하고 있다. 지금은 집값을 기준으로 대출한도를 매기는 주택담보인정비율(LTV) 규제만 적용돼 소득이 없어도 집값의 70%를 빌려 잔금을 치르는 게 가능하다. 앞으로 잔금대출에 DTI가 적용되면 소득 없는 사람이 입주 뒤 집값 상승을 노리고 분양시장에 뛰어드는 게 사실상 불가능해진다. \\n금융당국 고위관계자는 15일 “잔금대출에도 DTI를 적용하는 방안을 검토 중”이라며 “다만 아직 최종 결론이 난 건 아니다”고 말했다. 정부는 내주 이 같은 내용을 포함한 부동산 종합 대책을 발표할 예정이다. \\n정부가 잔금대출 DTI 적용 카드를 꺼내는 건, 집단대출을 잡지 않고선 과열된 주택시장을 진정시키기 어렵다는 판단에서다. 실제 정부는 지난해 잔금대출도 대출 초기부터 원리금을 함께 갚도록 하는 여신심사 가이드라인을 도입했지만 이렇다 할 효과를 거두지 못했다. 오히려 정부 대책에도 불구, 집단대출 증가액은 매달 늘어나는 추세인데 지난달엔 2조원으로 올 들어 최고치를 기록했다. \\n아파트 분양 집단대출은 중도금과 잔금대출로 구분된다. 계약금 10%를 내면 입주 전까지 집값의 60%를 중도금 대출로 받을 수 있다. 중도금 대출은 건설사 보증으로 이뤄져 소득심사를 안 거친다. 잔금대출은 건설사가 아닌 집을 담보로 이뤄지는 대출이다. LTV 규제만 적용돼 소득이 없어도 집값의 70%까지 대출이 가능하다. 때문에 지금은 잔금대출로 집값의 70%를 대출받아 기존 중도금 대출을 갚고 나머지 20%만 본인 돈으로 충당하면 집을 살 수 있다.\\n앞으로 잔금대출에 DTI가 적용되면 소득이 없는 사람은 집값의 70% 대출 받는 게 어려워진다. 입주 뒤 집값 상승을 노리는 투기수요를 확실히 걸러낼 초강력 대책이 될 수 있다. 하지만 부작용도 우려된다. 소득이 낮은 사회초년생 등은 청약통장을 갖고도 분양시장에 진입하는 게 어려워지기 때문이다. \\n이에 따라 잔금대출에 DTI를 적용하는 것 역시 지역 등에 따라 선별적으로 이뤄질 가능성이 높다. 현재 당국은 신규 분양 물량부터 규제를 적용할지 아니면 기존 분양 물량까지 규제 범위를 확대할지를 놓고 시뮬레이션을 하고 있다. \\n아울러 당국은 지난 2년간 완화됐던 LTV와 DTI를 다시 강화할 것으로 보인다. 현재 LTV(은행 기준)는 기존 50~60%에서 70%, DTI는 50~60%에서 60%로 완화돼 있는 상태다. 당국은 일괄적인 조이기보다 지역ㆍ집값 수준별로 기준을 다르게 적용하는 방식을 모색할 것으로 보인다.\\n김동욱 기자 kdw1280@hankookilbo.com\\n\\nⓒ한국일보 www.hankookilbo.com (무단복제 및 전재, 재배포를 금지합니다)\\n'"
      ]
     },
     "execution_count": 15,
     "metadata": {},
     "output_type": "execute_result"
    }
   ],
   "source": [
    "import requests\n",
    "from bs4 import BeautifulSoup\n",
    "\n",
    "# 1) reqeusts 라이브러리를\t활용한\tHTML 페이지\t요청\n",
    "# 1-1) res 객체에\tHTML 데이터가\t저장되고, res.content로\t데이터를\t추출할\t수\t있음\n",
    "res = requests.get('http://v.media.daum.net/v/20170615203441266')\n",
    "\n",
    "# print(res.content)\n",
    "# 2) HTML 페이지\t파싱\tBeautifulSoup(HTML데이터, 파싱방법)   # 2-1) BeautifulSoup 파싱방법\n",
    "soup = BeautifulSoup(res.content, 'html.parser')\n",
    "\n",
    "# 3) 필요한\t데이터\t검색\n",
    "data = soup.find('div', 'article_view') \n",
    "data.get_text()\n",
    "\n",
    "\n"
   ]
  },
  {
   "cell_type": "markdown",
   "id": "3a0c5674",
   "metadata": {},
   "source": [
    "# 간단한 사이트에서 실전 크롤링, 클롤링 기술 팁"
   ]
  },
  {
   "cell_type": "markdown",
   "id": "9734de27",
   "metadata": {},
   "source": [
    "## 'https://davelee-fun.github.io/blog/crawl_test_css.html' 사이트 접속해보기"
   ]
  },
  {
   "cell_type": "markdown",
   "id": "7c8253a2",
   "metadata": {},
   "source": [
    "## 1. 페이지 목차 다 출력해보기"
   ]
  },
  {
   "cell_type": "code",
   "execution_count": 20,
   "id": "deada64d",
   "metadata": {},
   "outputs": [
    {
     "name": "stdout",
     "output_type": "stream",
     "text": [
      "(왕초보) - 클래스 소개\n",
      "(왕초보) - 블로그 개발 필요한 준비물 준비하기\n",
      "(왕초보) - Github pages 설정해서 블로그 첫 페이지 만들어보기\n",
      "(왕초보) - 초간단 페이지 만들어보기\n",
      "(왕초보) - 이쁘게 테마 적용해보기\n",
      "(왕초보) - 마크다운 기초 이해하고, 실제 나만의 블로그 페이지 만들기\n",
      "(왕초보) - 다양한 마크다운 기법 익혀보며, 나만의 블로그 페이지 꾸며보기\n",
      "(초급) - 강사가 실제 사용하는 자동 프로그램 소개 [2]\n",
      "(초급) - 필요한 프로그램 설치 시연 [5]\n",
      "(초급) - 데이터를 엑셀 파일로 만들기 [9]\n",
      "(초급) -     엑셀 파일 이쁘게! 이쁘게! [8]\n",
      "(초급) -     나대신 주기적으로 파이썬 프로그램 실행하기 [7]\n",
      "(초급) - 파이썬으로 슬랙(slack) 메신저에 글쓰기 [40]\n",
      "(초급) - 웹사이트 변경사항 주기적으로 체크해서, 메신저로 알람주기 [12]\n",
      "(초급) - 네이버 API 사용해서, 블로그에 글쓰기 [42]\n",
      "(중급) - 자동으로 쿠팡파트너스 API 로 가져온 상품 정보, 네이버 블로그/트위터에 홍보하기 [412]\n"
     ]
    }
   ],
   "source": [
    "import requests\n",
    "from bs4 import BeautifulSoup\n",
    "res = requests.get('https://davelee-fun.github.io/blog/crawl_test_css.html')\n",
    "soup = BeautifulSoup(res.content,'html.parser')\n",
    "titles = soup.find_all('li','course')\n",
    "for title in titles:\n",
    "    print(title.get_text())"
   ]
  },
  {
   "cell_type": "markdown",
   "id": "9895b66e",
   "metadata": {},
   "source": [
    "## 2. 추출한것에서 또 추출하기를 이용해서 목차 앞부분만 출력해보기"
   ]
  },
  {
   "cell_type": "code",
   "execution_count": 18,
   "id": "31ab4498",
   "metadata": {},
   "outputs": [
    {
     "name": "stdout",
     "output_type": "stream",
     "text": [
      "<body>\n",
      "<h1 id=\"title\">[1]크롤링이란?</h1>\n",
      "<p class=\"cssstyle\">웹페이지에서 필요한 데이터를 추출하는 것</p>\n",
      "<p align=\"center\" id=\"body\">파이썬을 중심으로 다양한 웹크롤링 기술 발달</p>\n",
      "<b>안녕하세요</b>\n",
      "</body>\n",
      "[<p class=\"cssstyle\">웹페이지에서 필요한 데이터를 추출하는 것</p>, <p align=\"center\" id=\"body\">파이썬을 중심으로 다양한 웹크롤링 기술 발달</p>]\n"
     ]
    }
   ],
   "source": [
    "from bs4 import BeautifulSoup\n",
    "\n",
    "html = \"\"\"\n",
    "<html>\n",
    "    <head>\n",
    "        <meta charset=\"utf-8\">\n",
    "    </head>\n",
    "    <body>\n",
    "        <h1 id='title'>[1]크롤링이란?</h1>\n",
    "        <p class='cssstyle'>웹페이지에서 필요한 데이터를 추출하는 것</p>\n",
    "        <p id='body' align='center'>파이썬을 중심으로 다양한 웹크롤링 기술 발달</p>\n",
    "        <b>안녕하세요</b>\n",
    "    </body>\n",
    "</html>\n",
    "\"\"\"\n",
    "\n",
    "soup = BeautifulSoup(html, \"html.parser\")\n",
    "data = soup.find('body')\n",
    "data2 = data.find_all('p')\n",
    "print(data)\n",
    "print(data2)"
   ]
  },
  {
   "cell_type": "code",
   "execution_count": null,
   "id": "da481db4",
   "metadata": {},
   "outputs": [],
   "source": []
  },
  {
   "cell_type": "code",
   "execution_count": null,
   "id": "b785b985",
   "metadata": {},
   "outputs": [],
   "source": []
  },
  {
   "cell_type": "code",
   "execution_count": null,
   "id": "ce459585",
   "metadata": {},
   "outputs": [],
   "source": []
  },
  {
   "cell_type": "code",
   "execution_count": null,
   "id": "03b264be",
   "metadata": {},
   "outputs": [],
   "source": []
  },
  {
   "cell_type": "code",
   "execution_count": null,
   "id": "d8e0f2d9",
   "metadata": {},
   "outputs": [],
   "source": []
  },
  {
   "cell_type": "code",
   "execution_count": 21,
   "id": "899b14e4",
   "metadata": {},
   "outputs": [
    {
     "name": "stdout",
     "output_type": "stream",
     "text": [
      "(왕초보) - 클래스 소개\n",
      "(왕초보) - 블로그 개발 필요한 준비물 준비하기\n",
      "(왕초보) - Github pages 설정해서 블로그 첫 페이지 만들어보기\n",
      "(왕초보) - 초간단 페이지 만들어보기\n",
      "(왕초보) - 이쁘게 테마 적용해보기\n",
      "(왕초보) - 마크다운 기초 이해하고, 실제 나만의 블로그 페이지 만들기\n",
      "(왕초보) - 다양한 마크다운 기법 익혀보며, 나만의 블로그 페이지 꾸며보기\n"
     ]
    }
   ],
   "source": [
    "import requests\n",
    "from bs4 import BeautifulSoup\n",
    "res = requests.get('https://davelee-fun.github.io/blog/crawl_test_css.html')\n",
    "soup = BeautifulSoup(res.content,'html.parser')\n",
    "section = soup.find('ul', id='hobby_course_list')\n",
    "titles = section.find_all('li','course')\n",
    "for title in titles:\n",
    "    print(title.get_text())"
   ]
  },
  {
   "cell_type": "markdown",
   "id": "c0d446b0",
   "metadata": {},
   "source": [
    "## 3. 추출한것에서 또 추출하기를 이용해서 목차 밑의 부분만 출력해보기"
   ]
  },
  {
   "cell_type": "code",
   "execution_count": 22,
   "id": "f99cd498",
   "metadata": {},
   "outputs": [
    {
     "name": "stdout",
     "output_type": "stream",
     "text": [
      "(초급) - 강사가 실제 사용하는 자동 프로그램 소개 [2]\n",
      "(초급) - 필요한 프로그램 설치 시연 [5]\n",
      "(초급) - 데이터를 엑셀 파일로 만들기 [9]\n",
      "(초급) -     엑셀 파일 이쁘게! 이쁘게! [8]\n",
      "(초급) -     나대신 주기적으로 파이썬 프로그램 실행하기 [7]\n",
      "(초급) - 파이썬으로 슬랙(slack) 메신저에 글쓰기 [40]\n",
      "(초급) - 웹사이트 변경사항 주기적으로 체크해서, 메신저로 알람주기 [12]\n",
      "(초급) - 네이버 API 사용해서, 블로그에 글쓰기 [42]\n",
      "(중급) - 자동으로 쿠팡파트너스 API 로 가져온 상품 정보, 네이버 블로그/트위터에 홍보하기 [412]\n"
     ]
    }
   ],
   "source": [
    "import requests\n",
    "from bs4 import BeautifulSoup\n",
    "res = requests.get('https://davelee-fun.github.io/blog/crawl_test_css.html')\n",
    "soup = BeautifulSoup(res.content, 'html.parser')\n",
    "section = soup.find('ul', id='dev_course_list')\n",
    "titles = section.find_all('li','course')\n",
    "for title in titles:\n",
    "    print(title.get_text())"
   ]
  },
  {
   "cell_type": "markdown",
   "id": "bdb22afa",
   "metadata": {},
   "source": [
    "## 3-2. 파이썬 문자열 함수를 사용해서 깔끔하게 출력해보기\n",
    "+ 앞의 소괄호내용과 뒤의 대괄호 내용 빼고 출력 - split,strip 사용\n",
    "+ 숫자 1부터 매기기 - enumerate 사용  \n",
    "    + ex) 1. ~~"
   ]
  },
  {
   "cell_type": "code",
   "execution_count": 23,
   "id": "cec62651",
   "metadata": {},
   "outputs": [
    {
     "name": "stdout",
     "output_type": "stream",
     "text": [
      "0 cola\n",
      "1 pepsi\n",
      "2 coke\n"
     ]
    }
   ],
   "source": [
    "a = ['cola','pepsi','coke']\n",
    "\n",
    "for i,value in enumerate(a):\n",
    "    print(i,value)"
   ]
  },
  {
   "cell_type": "code",
   "execution_count": 39,
   "id": "aeabac77",
   "metadata": {},
   "outputs": [
    {
     "data": {
      "text/plain": [
       "'b'"
      ]
     },
     "execution_count": 39,
     "metadata": {},
     "output_type": "execute_result"
    }
   ],
   "source": [
    "a = ['a','b','c']\n",
    "a[1]"
   ]
  },
  {
   "cell_type": "code",
   "execution_count": 37,
   "id": "dc13ae02",
   "metadata": {},
   "outputs": [
    {
     "data": {
      "text/plain": [
       "['a', 'b', 'c', 'd', 'e']"
      ]
     },
     "execution_count": 37,
     "metadata": {},
     "output_type": "execute_result"
    }
   ],
   "source": [
    "b = 'a,b,c,d,e'\n",
    "b.split(',')"
   ]
  },
  {
   "cell_type": "code",
   "execution_count": 41,
   "id": "1c5915a4",
   "metadata": {},
   "outputs": [
    {
     "data": {
      "text/plain": [
       "['(초급) ', ' 네이버 API 사용해서, 블로그에 글쓰기 [42]']"
      ]
     },
     "execution_count": 41,
     "metadata": {},
     "output_type": "execute_result"
    }
   ],
   "source": [
    "a ='(초급) - 네이버 API 사용해서, 블로그에 글쓰기 [42]'\n",
    "a.split('-')"
   ]
  },
  {
   "cell_type": "code",
   "execution_count": 42,
   "id": "d93e2d3f",
   "metadata": {},
   "outputs": [
    {
     "data": {
      "text/plain": [
       "' 네이버 API 사용해서, 블로그에 글쓰기 [42]'"
      ]
     },
     "execution_count": 42,
     "metadata": {},
     "output_type": "execute_result"
    }
   ],
   "source": [
    "a.split('-')[1]"
   ]
  },
  {
   "cell_type": "code",
   "execution_count": 43,
   "id": "f5128cb9",
   "metadata": {},
   "outputs": [
    {
     "data": {
      "text/plain": [
       "'네이버 API 사용해서, 블로그에 글쓰기 [42]'"
      ]
     },
     "execution_count": 43,
     "metadata": {},
     "output_type": "execute_result"
    }
   ],
   "source": [
    "a.split('-')[1].strip()"
   ]
  },
  {
   "cell_type": "code",
   "execution_count": 31,
   "id": "bc506180",
   "metadata": {},
   "outputs": [
    {
     "data": {
      "text/plain": [
       "['네이버 API 사용해서, 블로그에 글쓰기 ', '42]']"
      ]
     },
     "execution_count": 31,
     "metadata": {},
     "output_type": "execute_result"
    }
   ],
   "source": [
    "a.split('-')[1].strip().split('[')"
   ]
  },
  {
   "cell_type": "code",
   "execution_count": 45,
   "id": "068bf550",
   "metadata": {},
   "outputs": [
    {
     "data": {
      "text/plain": [
       "'네이버 API 사용해서, 블로그에 글쓰기 '"
      ]
     },
     "execution_count": 45,
     "metadata": {},
     "output_type": "execute_result"
    }
   ],
   "source": [
    "a.split('-')[1].strip().split('[')[0]"
   ]
  },
  {
   "cell_type": "code",
   "execution_count": 33,
   "id": "7926a7fc",
   "metadata": {},
   "outputs": [
    {
     "data": {
      "text/plain": [
       "'네이버 API 사용해서, 블로그에 글쓰기'"
      ]
     },
     "execution_count": 33,
     "metadata": {},
     "output_type": "execute_result"
    }
   ],
   "source": [
    "a.split('-')[1].strip().split('[')[0].strip()"
   ]
  },
  {
   "cell_type": "code",
   "execution_count": null,
   "id": "a945db27",
   "metadata": {},
   "outputs": [],
   "source": []
  },
  {
   "cell_type": "code",
   "execution_count": null,
   "id": "26704328",
   "metadata": {},
   "outputs": [],
   "source": []
  },
  {
   "cell_type": "code",
   "execution_count": null,
   "id": "f06224b4",
   "metadata": {},
   "outputs": [],
   "source": []
  },
  {
   "cell_type": "code",
   "execution_count": 22,
   "id": "34524bd0",
   "metadata": {},
   "outputs": [
    {
     "name": "stdout",
     "output_type": "stream",
     "text": [
      "1. 강사가 실제 사용하는 자동 프로그램 소개\n",
      "2. 필요한 프로그램 설치 시연\n",
      "3. 데이터를 엑셀 파일로 만들기\n",
      "4. 엑셀 파일 이쁘게! 이쁘게!\n",
      "5. 나대신 주기적으로 파이썬 프로그램 실행하기\n",
      "6. 파이썬으로 슬랙(slack) 메신저에 글쓰기\n",
      "7. 웹사이트 변경사항 주기적으로 체크해서, 메신저로 알람주기\n",
      "8. 네이버 API 사용해서, 블로그에 글쓰기\n",
      "9. 자동으로 쿠팡파트너스 API 로 가져온 상품 정보, 네이버 블로그/트위터에 홍보하기\n"
     ]
    }
   ],
   "source": [
    "import requests\n",
    "from bs4 import BeautifulSoup\n",
    "res = requests.get('https://davelee-fun.github.io/blog/crawl_test_css.html')\n",
    "soup = BeautifulSoup(res.content,'html.parser')\n",
    "section = soup.find('ul', id='dev_course_list')\n",
    "titles = section.find_all('li','course')\n",
    "for index, title in enumerate(titles):\n",
    "    print(str(index + 1) + '.', title.get_text().split('-')[1].split('[')[0].strip())"
   ]
  },
  {
   "cell_type": "markdown",
   "id": "e1739d8a",
   "metadata": {},
   "source": [
    "## 4. CSS selector를 사용해서 전체 목차 출력해보기 - 태그 선택"
   ]
  },
  {
   "cell_type": "code",
   "execution_count": 25,
   "id": "7bfc0555",
   "metadata": {},
   "outputs": [
    {
     "name": "stdout",
     "output_type": "stream",
     "text": [
      "(왕초보) - 클래스 소개\n",
      "(왕초보) - 블로그 개발 필요한 준비물 준비하기\n",
      "(왕초보) - Github pages 설정해서 블로그 첫 페이지 만들어보기\n",
      "(왕초보) - 초간단 페이지 만들어보기\n",
      "(왕초보) - 이쁘게 테마 적용해보기\n",
      "(왕초보) - 마크다운 기초 이해하고, 실제 나만의 블로그 페이지 만들기\n",
      "(왕초보) - 다양한 마크다운 기법 익혀보며, 나만의 블로그 페이지 꾸며보기\n",
      "(초급) - 강사가 실제 사용하는 자동 프로그램 소개 [2]\n",
      "(초급) - 필요한 프로그램 설치 시연 [5]\n",
      "(초급) - 데이터를 엑셀 파일로 만들기 [9]\n",
      "(초급) -     엑셀 파일 이쁘게! 이쁘게! [8]\n",
      "(초급) -     나대신 주기적으로 파이썬 프로그램 실행하기 [7]\n",
      "(초급) - 파이썬으로 슬랙(slack) 메신저에 글쓰기 [40]\n",
      "(초급) - 웹사이트 변경사항 주기적으로 체크해서, 메신저로 알람주기 [12]\n",
      "(초급) - 네이버 API 사용해서, 블로그에 글쓰기 [42]\n",
      "(중급) - 자동으로 쿠팡파트너스 API 로 가져온 상품 정보, 네이버 블로그/트위터에 홍보하기 [412]\n"
     ]
    }
   ],
   "source": [
    "import requests\n",
    "from bs4 import BeautifulSoup\n",
    "res = requests.get('https://davelee-fun.github.io/blog/crawl_test_css.html')\n",
    "soup = BeautifulSoup(res.content,'html.parser')\n",
    "items = soup.select('li')\n",
    "for item in items:\n",
    "    print (item.get_text())\n",
    "    "
   ]
  },
  {
   "cell_type": "markdown",
   "id": "53851eda",
   "metadata": {},
   "source": [
    "## 5. CSS selector를 사용해서 맨 위의 줄만 출력해보기 - 하위 태그 선택"
   ]
  },
  {
   "cell_type": "markdown",
   "id": "6ca0e184",
   "metadata": {},
   "source": [
    "### 바로 하위가 아니어도 되게"
   ]
  },
  {
   "cell_type": "code",
   "execution_count": 47,
   "id": "570ca51b",
   "metadata": {},
   "outputs": [
    {
     "name": "stdout",
     "output_type": "stream",
     "text": [
      "잔재미코딩 크롤링 테스트 페이지 (커리큘럼)\n"
     ]
    }
   ],
   "source": [
    "import requests\n",
    "from bs4 import BeautifulSoup\n",
    "res = requests.get('https://davelee-fun.github.io/blog/crawl_test_css.html')\n",
    "soup = BeautifulSoup(res.content,'html.parser')\n",
    "items = soup.select('html h1')\n",
    "for item in items:\n",
    "    print (item.get_text())"
   ]
  },
  {
   "cell_type": "markdown",
   "id": "ae0a272d",
   "metadata": {},
   "source": [
    "### 바로 하위 태그만"
   ]
  },
  {
   "cell_type": "code",
   "execution_count": 50,
   "id": "db94a4e1",
   "metadata": {},
   "outputs": [
    {
     "name": "stdout",
     "output_type": "stream",
     "text": [
      "잔재미코딩 크롤링 테스트 페이지 (커리큘럼)\n"
     ]
    }
   ],
   "source": [
    "import requests\n",
    "from bs4 import BeautifulSoup\n",
    "res = requests.get('https://davelee-fun.github.io/blog/crawl_test_css.html')\n",
    "soup = BeautifulSoup(res.content,'html.parser')\n",
    "items = soup.select('html>body>h1')\n",
    "for item in items:\n",
    "    print (item.get_text())"
   ]
  },
  {
   "cell_type": "markdown",
   "id": "13b96c6e",
   "metadata": {},
   "source": [
    "## 6. CSS selector로 클래스만 입력해서 전체 목차 출력해보기 - 클래스 검색"
   ]
  },
  {
   "cell_type": "code",
   "execution_count": 53,
   "id": "fcc1e322",
   "metadata": {},
   "outputs": [
    {
     "name": "stdout",
     "output_type": "stream",
     "text": [
      "(왕초보) - 클래스 소개\n",
      "(왕초보) - 블로그 개발 필요한 준비물 준비하기\n",
      "(왕초보) - Github pages 설정해서 블로그 첫 페이지 만들어보기\n",
      "(왕초보) - 초간단 페이지 만들어보기\n",
      "(왕초보) - 이쁘게 테마 적용해보기\n",
      "(왕초보) - 마크다운 기초 이해하고, 실제 나만의 블로그 페이지 만들기\n",
      "(왕초보) - 다양한 마크다운 기법 익혀보며, 나만의 블로그 페이지 꾸며보기\n",
      "(초급) - 강사가 실제 사용하는 자동 프로그램 소개 [2]\n",
      "(초급) - 필요한 프로그램 설치 시연 [5]\n",
      "(초급) - 데이터를 엑셀 파일로 만들기 [9]\n",
      "(초급) -     엑셀 파일 이쁘게! 이쁘게! [8]\n",
      "(초급) -     나대신 주기적으로 파이썬 프로그램 실행하기 [7]\n",
      "(초급) - 파이썬으로 슬랙(slack) 메신저에 글쓰기 [40]\n",
      "(초급) - 웹사이트 변경사항 주기적으로 체크해서, 메신저로 알람주기 [12]\n",
      "(초급) - 네이버 API 사용해서, 블로그에 글쓰기 [42]\n",
      "(중급) - 자동으로 쿠팡파트너스 API 로 가져온 상품 정보, 네이버 블로그/트위터에 홍보하기 [412]\n"
     ]
    }
   ],
   "source": [
    "import requests\n",
    "from bs4 import BeautifulSoup\n",
    "res = requests.get('https://davelee-fun.github.io/blog/crawl_test_css.html')\n",
    "soup = BeautifulSoup(res.content,'html.parser')\n",
    "items = soup.select('li.course')\n",
    "for item in items:\n",
    "    print (item.get_text())"
   ]
  },
  {
   "cell_type": "markdown",
   "id": "48e066fb",
   "metadata": {},
   "source": [
    "## 7. CSS selector로 id를 검색해서 아랫부분 목차만 출력하기"
   ]
  },
  {
   "cell_type": "code",
   "execution_count": 59,
   "id": "b4f4b35e",
   "metadata": {},
   "outputs": [
    {
     "name": "stdout",
     "output_type": "stream",
     "text": [
      "\n",
      "(왕초보) - 클래스 소개\n",
      "(왕초보) - 블로그 개발 필요한 준비물 준비하기\n",
      "(왕초보) - Github pages 설정해서 블로그 첫 페이지 만들어보기\n",
      "(왕초보) - 초간단 페이지 만들어보기\n",
      "(왕초보) - 이쁘게 테마 적용해보기\n",
      "(왕초보) - 마크다운 기초 이해하고, 실제 나만의 블로그 페이지 만들기\n",
      "(왕초보) - 다양한 마크다운 기법 익혀보며, 나만의 블로그 페이지 꾸며보기\n",
      "\n"
     ]
    }
   ],
   "source": [
    "import requests\n",
    "from bs4 import BeautifulSoup\n",
    "res = requests.get('https://davelee-fun.github.io/blog/crawl_test_css.html')\n",
    "soup = BeautifulSoup(res.content,'html.parser')\n",
    "items = soup.select('body>ul#hobby_course_list')\n",
    "for item in items:\n",
    "    print (item.get_text())"
   ]
  },
  {
   "cell_type": "markdown",
   "id": "2328dfbd",
   "metadata": {},
   "source": [
    "## 8. CSS selector에서 여러가지 클래스 검색하기 - (중급) 부분만 출력"
   ]
  },
  {
   "cell_type": "code",
   "execution_count": 29,
   "id": "43b90cf8",
   "metadata": {},
   "outputs": [
    {
     "name": "stdout",
     "output_type": "stream",
     "text": [
      "(중급) - 자동으로 쿠팡파트너스 API 로 가져온 상품 정보, 네이버 블로그/트위터에 홍보하기 [412]\n"
     ]
    }
   ],
   "source": [
    "import requests\n",
    "from bs4 import BeautifulSoup\n",
    "res = requests.get('https://davelee-fun.github.io/blog/crawl_test_css.html')\n",
    "soup = BeautifulSoup(res.content,'html.parser')\n",
    "items = soup.select('li.course.paid')\n",
    "for item in items:\n",
    "    print (item.get_text())"
   ]
  },
  {
   "cell_type": "markdown",
   "id": "755a93ea",
   "metadata": {},
   "source": [
    "## 9. CSS selector에서 복합적으로 해보기 - 태그#id 태그.class의 형태로 왕초보 목차만 출력"
   ]
  },
  {
   "cell_type": "code",
   "execution_count": 61,
   "id": "13cbaa8e",
   "metadata": {},
   "outputs": [
    {
     "name": "stdout",
     "output_type": "stream",
     "text": [
      "(왕초보) - 클래스 소개\n",
      "(왕초보) - 블로그 개발 필요한 준비물 준비하기\n",
      "(왕초보) - Github pages 설정해서 블로그 첫 페이지 만들어보기\n",
      "(왕초보) - 초간단 페이지 만들어보기\n",
      "(왕초보) - 이쁘게 테마 적용해보기\n",
      "(왕초보) - 마크다운 기초 이해하고, 실제 나만의 블로그 페이지 만들기\n",
      "(왕초보) - 다양한 마크다운 기법 익혀보며, 나만의 블로그 페이지 꾸며보기\n"
     ]
    }
   ],
   "source": [
    "import requests\n",
    "from bs4 import BeautifulSoup\n",
    "res = requests.get('https://davelee-fun.github.io/blog/crawl_test_css.html')\n",
    "soup = BeautifulSoup(res.content,'html.parser')\n",
    "items = soup.select('html>body>ul#hobby_course_list>li.course#start')\n",
    "for item in items:\n",
    "    print (item.get_text())"
   ]
  },
  {
   "cell_type": "code",
   "execution_count": 63,
   "id": "7f93226a",
   "metadata": {},
   "outputs": [
    {
     "name": "stdout",
     "output_type": "stream",
     "text": [
      "(중급) - 자동으로 쿠팡파트너스 API 로 가져온 상품 정보, 네이버 블로그/트위터에 홍보하기 [412]\n"
     ]
    }
   ],
   "source": [
    "import requests\n",
    "from bs4 import BeautifulSoup\n",
    "res = requests.get('https://davelee-fun.github.io/blog/crawl_test_css.html')\n",
    "soup = BeautifulSoup(res.content,'html.parser')\n",
    "items = soup.select('ul#dev_course_list>li.course.paid#advance')\n",
    "for item in items:\n",
    "    print (item.get_text())"
   ]
  },
  {
   "cell_type": "code",
   "execution_count": null,
   "id": "3e1370e5",
   "metadata": {},
   "outputs": [],
   "source": [
    "#begin > a"
   ]
  },
  {
   "cell_type": "markdown",
   "id": "43e32975",
   "metadata": {},
   "source": [
    "## select_one 사용해보기 - (초급)-강사가 실제 사용하는 자동 프로그램 소개[2] 출력하기"
   ]
  },
  {
   "cell_type": "code",
   "execution_count": 64,
   "id": "8cdf605b",
   "metadata": {},
   "outputs": [
    {
     "name": "stdout",
     "output_type": "stream",
     "text": [
      "(초급) - 강사가 실제 사용하는 자동 프로그램 소개 [2]\n"
     ]
    }
   ],
   "source": [
    "import requests\n",
    "from bs4 import BeautifulSoup\n",
    "res = requests.get('https://davelee-fun.github.io/blog/crawl_test_css.html')\n",
    "soup = BeautifulSoup(res.content,'html.parser')\n",
    "item = soup.select_one('ul#dev_course_list>li.course#begin')\n",
    "print (item.get_text())"
   ]
  },
  {
   "cell_type": "markdown",
   "id": "c508c226",
   "metadata": {},
   "source": [
    "# 실전 크롤링"
   ]
  },
  {
   "cell_type": "markdown",
   "id": "91f4184c",
   "metadata": {},
   "source": [
    "## 1. 네이버 쇼핑 사이트 크롤링하기\n",
    "### 인기 검색어 출력해보기"
   ]
  },
  {
   "cell_type": "code",
   "execution_count": null,
   "id": "6e08654c",
   "metadata": {},
   "outputs": [],
   "source": [
    "#popular_srch_lst > li.on > span.txt > a\n",
    "#popular_srch_lst > li.on > span.txt > a"
   ]
  },
  {
   "cell_type": "code",
   "execution_count": 65,
   "id": "e9a8b396",
   "metadata": {
    "scrolled": true
   },
   "outputs": [
    {
     "name": "stdout",
     "output_type": "stream",
     "text": [
      "가히 멀티밤\n",
      "갤럭시워치4 스트랩\n",
      "갤럭시 Z플립3 케이스\n",
      "갤럭시 버즈2\n",
      "복숭아\n",
      "덴탈마스크\n",
      "에어팟 프로\n",
      "샤인머스켓\n",
      "루이비통 가방\n",
      "그릭요거트\n"
     ]
    }
   ],
   "source": [
    "import requests\n",
    "from bs4 import BeautifulSoup\n",
    "res = requests.get('https://search.shopping.naver.com/best100v2/main.nhn')\n",
    "soup = BeautifulSoup(res.content,'html.parser')\n",
    "items = soup.select('#popular_srch_lst > li > span.txt > a')\n",
    "for item in items:\n",
    "    print(item.get_text())"
   ]
  },
  {
   "cell_type": "markdown",
   "id": "57218682",
   "metadata": {},
   "source": [
    "### 패션의류 상품들 출력해보기"
   ]
  },
  {
   "cell_type": "code",
   "execution_count": null,
   "id": "e6ea8cf8",
   "metadata": {},
   "outputs": [],
   "source": [
    "#productListArea > ul > li:nth-child(1) > p > a"
   ]
  },
  {
   "cell_type": "code",
   "execution_count": 66,
   "id": "57d084a3",
   "metadata": {
    "scrolled": true
   },
   "outputs": [
    {
     "name": "stdout",
     "output_type": "stream",
     "text": [
      "강블리 GBL 남여공용 무지 반팔 7색\n",
      "안파 체크 커플 잠옷 파자마 디즈니 정품 솜...\n",
      "버버리 확보상품 프랭크비 퀼팅 자켓 40624...\n",
      "안파 고급 실크 커플잠옷 ANPA03\n",
      "라코스테 반팔 PK원피스 EF8470\n",
      "폴로랄프로렌 걸스 케이블 니트 가디건 헌터\n",
      "알렌스틴 심리스 쿨 남성드로즈 기능성 남자...\n",
      "안파 국민잠옷 바지 파자마 커플 홈웨어 체...\n",
      "안파 체크 파자마 커플잠옷\n",
      "이경희 아니버스 스킨 드로즈 남자팬티\n",
      "아디다스 오리지널 티셔츠 드레스 TEE DRES...\n",
      "안파 체크 커플 잠옷 파자마 디즈니 정품 푸...\n",
      "달콤한레드 스윗드림 신혼부부 파자마 수면...\n",
      "리스트 싱글스트랩 버튼 트렌치코트 TWWBYK...\n",
      "아디다스 남성 38차 드로즈 7MDOSJ71 79\n",
      "세일러 빅카라 여름 반팔 퍼프 베이비돌 셔...\n",
      "캘빈클라인언더웨어 남자 팬티 NB1656\n",
      "에고이스트 SAGA폭스퍼 롱 슬림 구스다운\n",
      "나이키 NSW 클럽 플리스 후드 집업 FZBB BV...\n",
      "안파 커플잠옷 면 고급 파자마 ANPA08\n",
      "하이서포트 브라탑 스포츠 브라\n",
      "나이키 스우시 스포츠브라 BV3637-010\n",
      "리스트 솔리드 클래식 트렌치코트 BE  TWWB...\n",
      "라코스테 여성 릴렉스핏 원피스 EF401E-51G\n",
      "지오다노 여 레인코트 371513\n",
      "푸마 여성 얼티밋핏 RE 브라팬티 컬렉션 10...\n",
      "멘솔리즘 4 1 남자 드로즈 팬티 남성 모달 ...\n",
      "메종키츠네 더블폭스헤드 맨투맨 21SSFM003...\n",
      "트리플에이 무지티 반팔티 무지 반팔티셔츠...\n",
      "스톤아일랜드 와펜 라운드 맨투맨 74156305...\n",
      "라코스테 벨티드 피케 원피스 EF5471\n",
      "아디다스 남성 블랙에디션 드로즈 9종\n",
      "강블리 블링 면 스판 속바지\n",
      "메종키츠네 21 S S 여성 헤드폭스 패치 반팔...\n",
      "버버리 아니스톤 패딩 롱패딩 8018554\n",
      "나이키 드라이핏 스우시 반팔티 2컬러 3229...\n",
      "라코스테 여성 릴랙스핏 원피스 EF2302-51G\n",
      "폴로랄프로렌 여성사이즈 옥스포드 코튼 긴...\n",
      "메종키츠네 G IN 폭스 헤드 여성 가디건 IN...\n",
      "이경희 여성 여름 잠옷\n",
      "멘솔리즘 초박형 1mm 드로즈 남성 무봉제 심...\n",
      "아디다스 남성 코튼 트렁크 7종\n",
      "폴로랄프로렌 여성 케이블 니트 가디건 2색\n",
      "유로컬렉션 밍크 풀스킨 코트\n",
      "안파 커플 잠옷 파자마 디즈니 미키 ANPA16\n",
      "메종키츠네 더블 폭스헤드 반팔 티셔츠 BU0...\n",
      "알렌스틴 심리스 쿨 남성드로즈 남자팬티\n",
      "ZOOC 울캐시미어 벨티드 코트 Z204MSG123\n",
      "라페어 프리미엄 인견팬티 15종 + 3종\n",
      "버버리 재고확보-관부가세포함 여성 앰버포...\n",
      "비비안 데일리 썸머패키지 브라팬티세트 15...\n",
      "세인트제임스 밍콰이어 스트라이프 티셔츠 ...\n",
      "어니우니 우비 레인코트 여성 남성 여자 남...\n",
      "1+1 면 브라렛 노와이어 브라탑 심리스 빅사...\n",
      "나이키 스포츠웨어 아이콘 클래쉬 여성 우븐...\n",
      "메종키츠네 여성 폭스헤드 울 네이비 가디건...\n",
      "써스데이아일랜드 스모킹 변형 절개 소매 원...\n",
      "트라이 쾌적한 순면 트렁크 남성팬티 5종세...\n",
      "강블리 블링 브라&팬티 세트\n",
      "남성 신형 스키니 드로즈 팬티 4컬러\n",
      "리스트 코튼 블렌드 심플 트렌치코트 TWWBY...\n",
      "나이키 클럽 트레이닝 조거팬츠 BV2671 063\n",
      "강블리 드로우즈 팬티\n",
      "루나코어스 21 역시즌 호주산 파스텔 양모1...\n",
      "ZOOC 폭스퍼 구스 숏패딩 Z204PSG183\n",
      "캘빈클라인언더웨어 속옷 남자 팬티 남성 모...\n",
      "버버리 여성 다이아몬드 퀼팅 재킷 8021468\n",
      "아디다스 Womens 스커트 오리지널 FL0039\n",
      "클래식 순면 잠옷세트 커플 파자마 신혼부부\n",
      "트라이 내맘대로 나노실버 코튼 남성 트렁크...\n",
      "나이키 남성용 NSW 클럽 조거팬츠 BV2679\n",
      "폴로랄프로렌 남성 클래식핏 옥스포드 코튼...\n",
      "폴로랄프로렌 여성 피마코튼 케이블 라운드...\n",
      "지오다노 포플린 셔츠 340501\n",
      "무봉제팬티 심리스 여성 노라인 팬티 속옷 ...\n",
      "써스데이아일랜드 프릴 반팔 소매 원피스 T...\n",
      "아디다스 블랙에디션 드로즈 9종\n",
      "지오다노 여 퓨어린넨 셔츠 341511\n",
      "지오다노 여 레인코트 모든컬러 379513\n",
      "아디다스 MH 1 4 반바지 여자 머스트해브 트...\n",
      "리스트 싱글 버튼 핸드메이드 롱 코트 TWHC...\n",
      "캘빈클라인언더웨어 남성 코튼 클래식 5팩 ...\n",
      "리스트 간절기 루즈핏 코튼 롱 트렌치코트 ...\n",
      "아디다스 오리지널 New Originals 락업 티 ...\n",
      "나이키 NSW 클럽 크루 프렌치테리 맨투맨 남...\n",
      "나이키 프렌치 테리 후드 DD4667-010\n",
      "써스데이아일랜드 V넥프린트원피스 T214MOP...\n",
      "나이키 드라이 핏 레전드 2.0 718834\n",
      "폴로랄프로렌 반팔 카라티셔츠 커스텀핏 커...\n",
      "지오다노 남 여름 스판 치노팬츠 펜슬핏 면...\n",
      "아디다스 클라이마쿨 56차 드로즈 1종 남성\n",
      "ZOOC 루즈핏더블핸드메이드롱코트 Z204MSG5...\n",
      "써스데이아일랜드 여성 레이스 미니 원피스...\n",
      "버버리 미리주문10 프랭크비 퀼팅 자켓\n",
      "나이키 스포츠브라 CN3719-010\n",
      "코데즈컴바인이너웨어 21 썸머쿨 RD 남성드...\n",
      "로엠 앵커 오버핏 클래식 자켓 RMJKB2301A\n",
      "지오다노 여 버뮤다 쇼츠 400501\n",
      "이경희 란제리 레이스 슬립 가운세트\n",
      "라코스테 여성 플레어 셔츠 원피스 EF302E-...\n"
     ]
    }
   ],
   "source": [
    "import requests\n",
    "from bs4 import BeautifulSoup\n",
    "res = requests.get('https://search.shopping.naver.com/best100v2/detail.nhn?catId=50000000')\n",
    "soup = BeautifulSoup(res.content,'html.parser')\n",
    "items = soup.select('#productListArea > ul > li > p > a')\n",
    "for item in items:\n",
    "    print(item.get_text())"
   ]
  },
  {
   "cell_type": "markdown",
   "id": "6c73a53f",
   "metadata": {},
   "source": [
    "### dictionary를 이용해서 두개의 사이트 분야와 내용 출력하기"
   ]
  },
  {
   "cell_type": "code",
   "execution_count": null,
   "id": "1c7b83f0",
   "metadata": {},
   "outputs": [],
   "source": [
    "#productListArea > ul > li > p > a\n",
    "#productListArea > ul > li > p > a"
   ]
  },
  {
   "cell_type": "code",
   "execution_count": 70,
   "id": "250e6509",
   "metadata": {
    "scrolled": true
   },
   "outputs": [
    {
     "name": "stdout",
     "output_type": "stream",
     "text": [
      "패션의류와 패션잡화 중 어느것의 상품들을 출력하겠습니까??패션잡화\n",
      "뉴발란스 327 레어택 씨 솔트 스니커즈 MS3...\n",
      "나이키 에어 테일윈드 79 흰검 487754-100\n",
      "나이키 데이브레이크 써밋화이트 CK2351-10...\n",
      "아디다스 알파바운스 BB슬라이드 BA8775\n",
      "생로랑 YSL 여성 금장 모노그램 카드지갑 B...\n",
      "뉴발란스 530 스틸그레이 MR530KA\n",
      "크록스 바야밴드 클로그 205089-126\n",
      "크록스 클래식 올 터레인 클로그 206340\n",
      "크록스 라이트라이드 클로그 204592-4CC\n",
      "아디다스 알파바운스 슬라이드 B41720\n",
      "아디다스 듀라모 슬라이드 슬리퍼 FY8786\n",
      "나이키 에어맥스 엑시스 AA2146-100\n",
      "디올 오블리크 새들 플랫 카드지갑\n",
      "캉골 컨버스 듀오 미니 크로스백 3143\n",
      "강블리 여성 캐주얼 런닝화\n",
      "나이키 우먼스 에어맥스 엑시스 러닝화 AA2...\n",
      "강블리 휴대용 3단 자동우산\n",
      "뉴발란스 X 토앤토 남녀공용 쪼리 슬리퍼 S...\n",
      "나이키 레볼루션5 런닝화 BQ3204-002\n",
      "컨버스 척테일러 1970S 하이 스니커즈화 16...\n",
      "나이키 헤리티지 힙색 BA5750-010\n",
      "샤넬 클래식 캐비어 똑딱이 카드지갑 금장 ...\n",
      "나이키 에어맥스97 트리플화이트 921826-10...\n",
      "나이키 레볼루션 5 BQ3204-001\n",
      "MLB 루키 볼캡 뉴욕양키스 32CP77011\n",
      "나이키 헤리티지 86 퓨추라 워시드 캡 9130...\n",
      "에글링 실버 925 체인 드롭 귀걸이\n",
      "아디다스 오즈위고 FX6029 521454\n",
      "강블리 남녀 페이크삭스\n",
      "나이키 와플 원 DA7995-100\n",
      "뉴발란스 327 화이트 문빔 우먼스 WS327SFD\n",
      "몽블랑 사토리얼 반지갑 6cc 113215\n",
      "캉골 워시드 버킷햇 K4224HT\n",
      "아디다스 알파바운스 슬라이드 슬리퍼\n",
      "나이키 에어 리프트 브리드 848386-100\n",
      "반스 올드스쿨 스니커즈 VN000D3HY28 블랙\n",
      "버버리 포이베 파우치 버킷백 아카이브 802...\n",
      "자라 락 플랩 숄더백\n",
      "나이키 써밋화이트 우먼 TC7900 DD9682-100\n",
      "토앤토 제로비티 플립플랍 Cream\n",
      "에글링 심플 큐빅 귀걸이\n",
      "크록스 크록밴드 클로그 슬리퍼 샌들 크림 ...\n",
      "알렉산더맥퀸 오버솔 스니커즈 WHGP5 9061 ...\n",
      "아디다스 알파바운스 슬라이드 FZ0388\n",
      "나이키 에어맥스 엑시스 러닝화 AA2168\n",
      "에글링 925 스퀘어 슬림 체인 레이어드 목걸...\n",
      "뉴발란스 운동화 SD SE SC MR530SG NBPDAS1...\n",
      "프라다 20FW 테수토 체인 스트랩 숄더백 1B...\n",
      "나이키 우먼스 데이브레이크 RTL CU5324-10...\n",
      "에글링 925 엔틱 하트 체인 오픈 반지\n",
      "크록스 바야밴드 클로그 205089\n",
      "나이키 스트리트슈즈 덩크로우SP 범고래 검...\n",
      "프라다 리에디션 테수토 나일론 미니 호보백...\n",
      "뉴발란스 X 토앤토 쪼리 슬리퍼 SD5601GBE\n",
      "에글링 925 심플 3줄 라인 오픈 반지 2개\n",
      "윤별 발편한 남자 사무실 슬리퍼 회사 학교...\n",
      "스케쳐스 남녀 슬립온 워킹화 고워크5 SP0W...\n",
      "에글링 925 미니멀 라운드 원터치 링 귀걸이\n",
      "뉴발란스 530 남녀공용 런닝화 MR530SH\n",
      "나이키 남여공용 라이즈 365 WMNS RYZ BQ41...\n",
      "강블리 남성 중목양말 10색\n",
      "골든구스 슈퍼스타 스니커즈 GWF00102 F000...\n",
      "크록스 아쿠아샌들 11016-410 네이비\n",
      "크록스 크록밴드 11016-001\n",
      "에글링 925 베이직 미니 은 볼 귀걸이 한쌍\n",
      "에글링 모던 미니멀 하프문 귀걸이 피어싱\n",
      "강블리라이프 GBL 여성벨트 9종\n",
      "몽블랑 사토리얼 5cc 포켓 114603\n",
      "크록스 공용 크록밴드 클로그\n",
      "강블리 블링 트래블 파우치 5종 SET\n",
      "라코스테 레이디 미니 크로스백 NF2609\n",
      "강블리 클래식 우드그립 장우산\n",
      "아디다스 UNISEX RUNNING 이큅먼트 10 U FW...\n",
      "컨버스 척 테일러 올스타 리프트 캔버스 56...\n",
      "로랜텍 경량 골프 UV 자외선 차단 양산 3단...\n",
      "윤별 푹신한 여성 사무실 슬리퍼 실내화 회...\n",
      "강블리 블링 멜란지 메이크업 파우치\n",
      "에글링 더블 스퀘어 크리스탈 이어링\n",
      "강블리 여성 베이직 스니커즈\n",
      "꼬랑내 밴딩 굿피트 양말 8켤레 세트\n",
      "크록스 바야밴드 슬리퍼 화이트 205089-126\n",
      "유광 무광 컬러 헤어핀 헤어 반묶음 컬렉션...\n",
      "크록스 크록밴드 클로그 샌들 화이트 11016...\n",
      "나이키 우먼스 에어 리프트 검흰 848386-00...\n",
      "나이키 에어 포스 1 로우 314192-117 화이트\n",
      "나이키 스포츠웨어 에센셜 힙팩 BA5904-011\n",
      "셀린느 미니 버티칼 카바스 백 04LU 194372...\n",
      "나이키 우먼스 레볼루션 5 BQ3207-002\n",
      "에글링 컷팅 바 큐빅 귀걸이\n",
      "컨버스 척테일러 올스타 클래식 블랙 M9166...\n",
      "3초 당고 머리 밴드 와이어 올림 똥머리 트...\n",
      "에글링 이니셜 피어싱 귀걸이\n",
      "꼬랑내 맨 고밀도 하이삭스 남성 정장 양말...\n",
      "강블리 샤이닝 리본 화장품 파우치\n",
      "나이키 팬텀 데이브레이크 써밋화이트 크림...\n",
      "에글링 컷팅 디테일 원터치 링 귀걸이\n",
      "에글링 925 플랫 써클 원터치 링 귀걸이\n",
      "나이키 테크 힙색 웨이스트백 BA5751-010\n",
      "에글링 하프문 레이어링 원터치 링 귀걸이\n",
      "입생로랑 여성 카드지갑 423291\n"
     ]
    }
   ],
   "source": [
    "import requests\n",
    "from bs4 import BeautifulSoup\n",
    "fashion_dict = {'패션의류' : ['https://search.shopping.naver.com/best100v2/detail.nhn?catId=50000000','#productListArea > ul > li > p > a'],\n",
    "                '패션잡화':['https://search.shopping.naver.com/best100v2/detail.nhn?catId=50000001','#productListArea > ul > li > p > a']}\n",
    "selection = input(\"패션의류와 패션잡화 중 어느것의 상품들을 출력하겠습니까??\")\n",
    "res = requests.get(fashion_dict[selection][0])\n",
    "soup = BeautifulSoup(res.content,'html.parser')\n",
    "items = soup.select(fashion_dict[selection][1])\n",
    "for item in items:\n",
    "    print(item.get_text())\n",
    "    \n"
   ]
  },
  {
   "cell_type": "markdown",
   "id": "86a91de4",
   "metadata": {},
   "source": [
    "## 2. 네이버 주식 사이트에서 크롤링하기\n",
    "### 국내증시 인기 검색종목 출력하기"
   ]
  },
  {
   "cell_type": "code",
   "execution_count": null,
   "id": "8cc6b04f",
   "metadata": {},
   "outputs": [],
   "source": [
    "#popularItemList > li > a"
   ]
  },
  {
   "cell_type": "code",
   "execution_count": null,
   "id": "93a2c5d9",
   "metadata": {},
   "outputs": [],
   "source": []
  },
  {
   "cell_type": "code",
   "execution_count": null,
   "id": "138b352e",
   "metadata": {},
   "outputs": [],
   "source": []
  },
  {
   "cell_type": "code",
   "execution_count": 70,
   "id": "5963dc05",
   "metadata": {
    "scrolled": true
   },
   "outputs": [
    {
     "name": "stdout",
     "output_type": "stream",
     "text": [
      "삼성전자\n",
      "SK하이닉스\n",
      "카카오\n",
      "카카오뱅크\n",
      "SK바이오사이언스\n",
      "두산중공업\n",
      "LG화학\n",
      "HMM\n",
      "원방테크\n",
      "한국조선해양\n"
     ]
    }
   ],
   "source": [
    "import requests\n",
    "from bs4 import BeautifulSoup\n",
    "res = requests.get('https://finance.naver.com/sise/')\n",
    "soup = BeautifulSoup(res.content,'html.parser')\n",
    "items = soup.select('#popularItemList > li > a')\n",
    "for item in items:\n",
    "    print(item.get_text())"
   ]
  },
  {
   "cell_type": "code",
   "execution_count": null,
   "id": "879a5008",
   "metadata": {},
   "outputs": [],
   "source": [
    "지수이름 : 나스닥, 현재지수 : 465768.54, 상승"
   ]
  },
  {
   "cell_type": "markdown",
   "id": "9493c857",
   "metadata": {},
   "source": [
    "### 해외지수 출력하기"
   ]
  },
  {
   "cell_type": "code",
   "execution_count": 75,
   "id": "05f5a359",
   "metadata": {},
   "outputs": [
    {
     "name": "stdout",
     "output_type": "stream",
     "text": [
      "지수이름 :  다우산업 , 현재지수 :  34,894.12 , 하락\n",
      "지수이름 :  나스닥 , 현재지수 :  14,541.79 , 상승\n",
      "지수이름 :  홍콩H , 현재지수 :  8,738.01 , 하락\n",
      "지수이름 :  상해종합 , 현재지수 :  3,427.33 , 하락\n",
      "지수이름 :  니케이225 , 현재지수 :  27,013.25 , 하락\n"
     ]
    }
   ],
   "source": [
    "import requests\n",
    "from bs4 import BeautifulSoup\n",
    "res = requests.get('https://finance.naver.com/sise/')\n",
    "soup = BeautifulSoup(res.content,'html.parser')\n",
    "items = soup.select('#contentarea > div.box_top_submain2 > div.rgt > ul.lst_major > li')\n",
    "for item in items:\n",
    "#     print(items)\n",
    "    print(\"지수이름 : \",item.find('a').get_text().strip(),\", 현재지수 : \", item.find('span').get_text(),\",\", item.find('em').get_text())"
   ]
  },
  {
   "cell_type": "code",
   "execution_count": null,
   "id": "5b3c4c84",
   "metadata": {},
   "outputs": [],
   "source": [
    "#contentarea > div.box_top_submain2 > div.rgt > ul.lst_major > li"
   ]
  }
 ],
 "metadata": {
  "kernelspec": {
   "display_name": "Python 3",
   "language": "python",
   "name": "python3"
  },
  "language_info": {
   "codemirror_mode": {
    "name": "ipython",
    "version": 3
   },
   "file_extension": ".py",
   "mimetype": "text/x-python",
   "name": "python",
   "nbconvert_exporter": "python",
   "pygments_lexer": "ipython3",
   "version": "3.8.8"
  }
 },
 "nbformat": 4,
 "nbformat_minor": 5
}

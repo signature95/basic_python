{
 "cells": [
  {
   "cell_type": "markdown",
   "id": "c5bdbd2c",
   "metadata": {},
   "source": [
    "# 1. 똑같은 문장 3번 출력해보기 ( ex. 안녕하세요? for 문을 공부 중입니다. ^^)"
   ]
  },
  {
   "cell_type": "code",
   "execution_count": 10,
   "id": "b9d85788",
   "metadata": {},
   "outputs": [
    {
     "name": "stdout",
     "output_type": "stream",
     "text": [
      "안녕하세요\n",
      "안녕하세요\n",
      "안녕하세요\n"
     ]
    }
   ],
   "source": [
    "print(\"안녕하세요\")\n",
    "print(\"안녕하세요\")\n",
    "print(\"안녕하세요\")"
   ]
  },
  {
   "cell_type": "markdown",
   "id": "aedd6db7",
   "metadata": {},
   "source": [
    "# 2. for문을 이용해서 똑같은 문장 3번 출력해보기"
   ]
  },
  {
   "cell_type": "code",
   "execution_count": 15,
   "id": "7d4bf5e4",
   "metadata": {
    "scrolled": true
   },
   "outputs": [
    {
     "name": "stdout",
     "output_type": "stream",
     "text": [
      "0\n",
      "1\n",
      "2\n"
     ]
    }
   ],
   "source": [
    "for i in range(0,3,1):\n",
    "    print(i)"
   ]
  },
  {
   "cell_type": "code",
   "execution_count": 21,
   "id": "4242cf01",
   "metadata": {},
   "outputs": [
    {
     "name": "stdout",
     "output_type": "stream",
     "text": [
      "hello\n",
      "hello\n",
      "hello\n",
      "hello\n",
      "hello\n",
      "hello\n",
      "hello\n",
      "hello\n",
      "7\n"
     ]
    }
   ],
   "source": [
    "for i in range(8):\n",
    "    print(\"hello\")\n"
   ]
  },
  {
   "cell_type": "markdown",
   "id": "ccc1f260",
   "metadata": {},
   "source": [
    "# 3. for문을 사용하여 1~10까지 숫자 더하기"
   ]
  },
  {
   "cell_type": "code",
   "execution_count": 17,
   "id": "a5aba6f0",
   "metadata": {},
   "outputs": [
    {
     "name": "stdout",
     "output_type": "stream",
     "text": [
      "55\n"
     ]
    }
   ],
   "source": [
    "\n",
    "for i in range(11):\n",
    "    if i == 0:\n",
    "        sum1 = 0\n",
    "    sum1=sum1+i\n",
    "print(sum1)"
   ]
  },
  {
   "cell_type": "markdown",
   "id": "c68da22c",
   "metadata": {},
   "source": [
    "# 4. for문을 사용하여 1~20까지 홀수만 더하기"
   ]
  },
  {
   "cell_type": "code",
   "execution_count": 18,
   "id": "a2fe620a",
   "metadata": {},
   "outputs": [
    {
     "name": "stdout",
     "output_type": "stream",
     "text": [
      "100\n"
     ]
    }
   ],
   "source": [
    "sum_odd = 0\n",
    "for i in range(21):\n",
    "    if i % 2 == 1:\n",
    "        sum_odd += i\n",
    "#       sum_odd = sum_odd + i\n",
    "print(sum_odd)"
   ]
  },
  {
   "cell_type": "code",
   "execution_count": 19,
   "id": "a54a0238",
   "metadata": {},
   "outputs": [
    {
     "name": "stdout",
     "output_type": "stream",
     "text": [
      "100\n"
     ]
    }
   ],
   "source": [
    "sum_odd = 0\n",
    "for i in range(1,21,2):\n",
    "    sum_odd = sum_odd + i\n",
    "print(sum_odd)"
   ]
  },
  {
   "cell_type": "code",
   "execution_count": 20,
   "id": "e85f8b5f",
   "metadata": {},
   "outputs": [
    {
     "name": "stdout",
     "output_type": "stream",
     "text": [
      "100\n"
     ]
    }
   ],
   "source": [
    "sum_odd = 0\n",
    "for i in range(10):\n",
    "    sum_odd += i*2+1\n",
    "print(sum_odd)"
   ]
  },
  {
   "cell_type": "markdown",
   "id": "407c5f4a",
   "metadata": {},
   "source": [
    "# 5. for문을 사용하여 1~100까지 3의 배수 더하기 6의 배수 x"
   ]
  },
  {
   "cell_type": "code",
   "execution_count": 22,
   "id": "2c70940f",
   "metadata": {},
   "outputs": [
    {
     "name": "stdout",
     "output_type": "stream",
     "text": [
      "867\n"
     ]
    }
   ],
   "source": [
    "sum3 = 0\n",
    "for i in range(101):\n",
    "    if i % 3 == 0 and i % 6 != 0:\n",
    "        sum3 += i\n",
    "print(sum3)"
   ]
  },
  {
   "cell_type": "code",
   "execution_count": 23,
   "id": "f7a25f6f",
   "metadata": {},
   "outputs": [
    {
     "name": "stdout",
     "output_type": "stream",
     "text": [
      "867\n"
     ]
    }
   ],
   "source": [
    "sum3 = 0\n",
    "sum6 = 0\n",
    "for i in range(101):\n",
    "    if i % 3 == 0:\n",
    "        sum3 += i\n",
    "    if i % 6 == 0:\n",
    "        sum6 += i\n",
    "print(sum3-sum6)"
   ]
  },
  {
   "cell_type": "markdown",
   "id": "04627ab1",
   "metadata": {},
   "source": [
    "# 6. for문을 사용하여 500과 1000사이 홀수 더하기"
   ]
  },
  {
   "cell_type": "code",
   "execution_count": 24,
   "id": "1d09c21b",
   "metadata": {},
   "outputs": [
    {
     "name": "stdout",
     "output_type": "stream",
     "text": [
      "187500\n"
     ]
    }
   ],
   "source": [
    "sum_odd = 0\n",
    "for i in range(500, 1001, 1):\n",
    "    if i % 2 == 1:\n",
    "        sum_odd += i\n",
    "print(sum_odd)"
   ]
  },
  {
   "cell_type": "code",
   "execution_count": 25,
   "id": "688e8d10",
   "metadata": {},
   "outputs": [
    {
     "name": "stdout",
     "output_type": "stream",
     "text": [
      "187500\n"
     ]
    }
   ],
   "source": [
    "sum_odd = 0\n",
    "for i in range(1001):\n",
    "    if i == 500:\n",
    "        sum_odd = 0\n",
    "    if i % 2 == 1:\n",
    "        sum_odd += i\n",
    "print(sum_odd)"
   ]
  },
  {
   "cell_type": "markdown",
   "id": "c336d5a1",
   "metadata": {},
   "source": [
    "# 7. 입력값을 통해 1부터 입력 값 까지의 숫자 더하기"
   ]
  },
  {
   "cell_type": "code",
   "execution_count": 27,
   "id": "03419f6b",
   "metadata": {},
   "outputs": [
    {
     "name": "stdout",
     "output_type": "stream",
     "text": [
      "어디서부터 숫자를 더할까요? : 15\n",
      "어디까지 더할까요? : 300\n",
      "몇 배수만을 더할까요? : 7\n",
      "6300\n"
     ]
    }
   ],
   "source": [
    "x = int(input(\"어디서부터 숫자를 더할까요? : \"))\n",
    "y = int(input(\"어디까지 더할까요? : \"))\n",
    "z = int(input(\"몇 배수만을 더할까요? : \"))\n",
    "sum_all = 0\n",
    "for i in range(x, y+1, 1):\n",
    "    if i % z == 0:\n",
    "        sum_all += i\n",
    "print(sum_all)"
   ]
  },
  {
   "cell_type": "markdown",
   "id": "a7c1286a",
   "metadata": {},
   "source": [
    "# 8. 시작값, 끝값, 증가값을 입력받아 모든 값의 합계 구하기"
   ]
  },
  {
   "cell_type": "code",
   "execution_count": 28,
   "id": "93f7616a",
   "metadata": {},
   "outputs": [
    {
     "name": "stdout",
     "output_type": "stream",
     "text": [
      "어디서부터 숫자를 더할까요? : 1\n",
      "어디까지 더할까요? : 90\n",
      "얼마의 간격으로 더할까요?2\n",
      "2025\n"
     ]
    }
   ],
   "source": [
    "x = int(input(\"어디서부터 숫자를 더할까요? : \"))\n",
    "y = int(input(\"어디까지 더할까요? : \"))\n",
    "z = int(input(\"얼마의 간격으로 더할까요?\"))\n",
    "\n",
    "sum_all = 0\n",
    "for i in range(x, y+1, z):\n",
    "    sum_all += i\n",
    "print(sum_all)"
   ]
  },
  {
   "cell_type": "code",
   "execution_count": 37,
   "id": "8d3ad527",
   "metadata": {
    "scrolled": false
   },
   "outputs": [
    {
     "name": "stdout",
     "output_type": "stream",
     "text": [
      "a\n",
      "b\n",
      "c\n",
      "d\n",
      "e\n",
      "f\n"
     ]
    }
   ],
   "source": [
    "for i in 'abcdef':\n",
    "    print(i)"
   ]
  },
  {
   "cell_type": "code",
   "execution_count": 34,
   "id": "9c742fcc",
   "metadata": {},
   "outputs": [
    {
     "name": "stdout",
     "output_type": "stream",
     "text": [
      "0\n",
      "3\n",
      "7\n",
      "9\n"
     ]
    }
   ],
   "source": [
    "for i in [0,3,7,9]:\n",
    "    print(i)"
   ]
  },
  {
   "cell_type": "markdown",
   "id": "44f9af23",
   "metadata": {},
   "source": [
    "# 9. 구구단 9단 출력하기"
   ]
  },
  {
   "cell_type": "code",
   "execution_count": 38,
   "id": "168d2ec4",
   "metadata": {},
   "outputs": [
    {
     "name": "stdout",
     "output_type": "stream",
     "text": [
      "9 x 1 = 9\n",
      "9 x 2 = 18\n",
      "9 x 3 = 27\n",
      "9 x 4 = 36\n",
      "9 x 5 = 45\n",
      "9 x 6 = 54\n",
      "9 x 7 = 63\n",
      "9 x 8 = 72\n",
      "9 x 9 = 81\n"
     ]
    }
   ],
   "source": [
    "for i in range(1,10,1):\n",
    "    print(\"9 x %d = %d\" %(i, 9*i))"
   ]
  },
  {
   "cell_type": "markdown",
   "id": "10c170e8",
   "metadata": {},
   "source": [
    "# 10. 원하는 구구단 입력받아 출력하기"
   ]
  },
  {
   "cell_type": "code",
   "execution_count": 39,
   "id": "d1f4ed01",
   "metadata": {},
   "outputs": [
    {
     "name": "stdout",
     "output_type": "stream",
     "text": [
      "원하는 구구단을 입력하세요. : 7\n",
      "7 x 1 = 7\n",
      "7 x 2 = 14\n",
      "7 x 3 = 21\n",
      "7 x 4 = 28\n",
      "7 x 5 = 35\n",
      "7 x 6 = 42\n",
      "7 x 7 = 49\n",
      "7 x 8 = 56\n",
      "7 x 9 = 63\n"
     ]
    }
   ],
   "source": [
    "gugu = int(input(\"원하는 구구단을 입력하세요. : \"))\n",
    "for i in range(1,10,1):\n",
    "    print(\"%d x %d = %d\" %(gugu, i, gugu*i))"
   ]
  },
  {
   "cell_type": "markdown",
   "id": "a1471459",
   "metadata": {},
   "source": [
    "# 11. for문 속의 for문을 실행시키면 변수가 어떻게 증가하는지 보기"
   ]
  },
  {
   "cell_type": "code",
   "execution_count": 19,
   "id": "17fb2cfd",
   "metadata": {},
   "outputs": [
    {
     "name": "stdout",
     "output_type": "stream",
     "text": [
      "i : 0, k : 0\n",
      "i : 0, k : 1\n",
      "i : 1, k : 0\n",
      "i : 1, k : 1\n",
      "i : 2, k : 0\n",
      "i : 2, k : 1\n"
     ]
    }
   ],
   "source": [
    "for i in range(3):\n",
    "    for k in range(2):\n",
    "        print(\"i : %d, k : %d\" %(i,k))"
   ]
  },
  {
   "cell_type": "markdown",
   "id": "52116c70",
   "metadata": {},
   "source": [
    "# 12. 전체 구구단 출력하기"
   ]
  },
  {
   "cell_type": "code",
   "execution_count": 29,
   "id": "7e55c8f1",
   "metadata": {},
   "outputs": [
    {
     "name": "stdout",
     "output_type": "stream",
     "text": [
      "1 x 1 =  1   2 x 1 =  2   3 x 1 =  3   4 x 1 =  4   5 x 1 =  5   6 x 1 =  6   7 x 1 =  7   8 x 1 =  8   9 x 1 =  9   \n",
      "1 x 2 =  2   2 x 2 =  4   3 x 2 =  6   4 x 2 =  8   5 x 2 = 10   6 x 2 = 12   7 x 2 = 14   8 x 2 = 16   9 x 2 = 18   \n",
      "1 x 3 =  3   2 x 3 =  6   3 x 3 =  9   4 x 3 = 12   5 x 3 = 15   6 x 3 = 18   7 x 3 = 21   8 x 3 = 24   9 x 3 = 27   \n",
      "1 x 4 =  4   2 x 4 =  8   3 x 4 = 12   4 x 4 = 16   5 x 4 = 20   6 x 4 = 24   7 x 4 = 28   8 x 4 = 32   9 x 4 = 36   \n",
      "1 x 5 =  5   2 x 5 = 10   3 x 5 = 15   4 x 5 = 20   5 x 5 = 25   6 x 5 = 30   7 x 5 = 35   8 x 5 = 40   9 x 5 = 45   \n",
      "1 x 6 =  6   2 x 6 = 12   3 x 6 = 18   4 x 6 = 24   5 x 6 = 30   6 x 6 = 36   7 x 6 = 42   8 x 6 = 48   9 x 6 = 54   \n",
      "1 x 7 =  7   2 x 7 = 14   3 x 7 = 21   4 x 7 = 28   5 x 7 = 35   6 x 7 = 42   7 x 7 = 49   8 x 7 = 56   9 x 7 = 63   \n",
      "1 x 8 =  8   2 x 8 = 16   3 x 8 = 24   4 x 8 = 32   5 x 8 = 40   6 x 8 = 48   7 x 8 = 56   8 x 8 = 64   9 x 8 = 72   \n",
      "1 x 9 =  9   2 x 9 = 18   3 x 9 = 27   4 x 9 = 36   5 x 9 = 45   6 x 9 = 54   7 x 9 = 63   8 x 9 = 72   9 x 9 = 81   \n"
     ]
    }
   ],
   "source": [
    "for i in range(1,10,1):\n",
    "    for j in range(1,10,1):\n",
    "        print(\"%d x %d = %2d  \" %(j, i, i*j), end=' ')\n",
    "    print('')"
   ]
  },
  {
   "cell_type": "markdown",
   "id": "eaca5764",
   "metadata": {},
   "source": [
    "# 13. 전체 구구단 거꾸로 출력하기 "
   ]
  },
  {
   "cell_type": "code",
   "execution_count": 30,
   "id": "340310b3",
   "metadata": {},
   "outputs": [
    {
     "name": "stdout",
     "output_type": "stream",
     "text": [
      "9 x 1 =  9 8 x 1 =  8 7 x 1 =  7 6 x 1 =  6 5 x 1 =  5 4 x 1 =  4 3 x 1 =  3 2 x 1 =  2 1 x 1 =  1 \n",
      "9 x 2 = 18 8 x 2 = 16 7 x 2 = 14 6 x 2 = 12 5 x 2 = 10 4 x 2 =  8 3 x 2 =  6 2 x 2 =  4 1 x 2 =  2 \n",
      "9 x 3 = 27 8 x 3 = 24 7 x 3 = 21 6 x 3 = 18 5 x 3 = 15 4 x 3 = 12 3 x 3 =  9 2 x 3 =  6 1 x 3 =  3 \n",
      "9 x 4 = 36 8 x 4 = 32 7 x 4 = 28 6 x 4 = 24 5 x 4 = 20 4 x 4 = 16 3 x 4 = 12 2 x 4 =  8 1 x 4 =  4 \n",
      "9 x 5 = 45 8 x 5 = 40 7 x 5 = 35 6 x 5 = 30 5 x 5 = 25 4 x 5 = 20 3 x 5 = 15 2 x 5 = 10 1 x 5 =  5 \n",
      "9 x 6 = 54 8 x 6 = 48 7 x 6 = 42 6 x 6 = 36 5 x 6 = 30 4 x 6 = 24 3 x 6 = 18 2 x 6 = 12 1 x 6 =  6 \n",
      "9 x 7 = 63 8 x 7 = 56 7 x 7 = 49 6 x 7 = 42 5 x 7 = 35 4 x 7 = 28 3 x 7 = 21 2 x 7 = 14 1 x 7 =  7 \n",
      "9 x 8 = 72 8 x 8 = 64 7 x 8 = 56 6 x 8 = 48 5 x 8 = 40 4 x 8 = 32 3 x 8 = 24 2 x 8 = 16 1 x 8 =  8 \n",
      "9 x 9 = 81 8 x 9 = 72 7 x 9 = 63 6 x 9 = 54 5 x 9 = 45 4 x 9 = 36 3 x 9 = 27 2 x 9 = 18 1 x 9 =  9 \n"
     ]
    }
   ],
   "source": [
    "for i in range(1,10,1):\n",
    "    for j in range(9,0,-1):\n",
    "        print(\"%d x %d = %2d \" %(j,i,i*j), end='')\n",
    "    print('')"
   ]
  },
  {
   "cell_type": "markdown",
   "id": "20f70b62",
   "metadata": {},
   "source": [
    "# 14. while문으로 문장 3번 출력하기"
   ]
  },
  {
   "cell_type": "code",
   "execution_count": 34,
   "id": "9ff90177",
   "metadata": {},
   "outputs": [
    {
     "name": "stdout",
     "output_type": "stream",
     "text": [
      "Hello\n",
      "Hello\n",
      "Hello\n"
     ]
    }
   ],
   "source": [
    "i = 0\n",
    "while i<3:\n",
    "    i = i+1\n",
    "    print(\"Hello\")"
   ]
  },
  {
   "cell_type": "markdown",
   "id": "ccd81102",
   "metadata": {},
   "source": [
    "# 15. while문으로 1~10까지 합 구하기"
   ]
  },
  {
   "cell_type": "code",
   "execution_count": 38,
   "id": "c5637087",
   "metadata": {},
   "outputs": [
    {
     "name": "stdout",
     "output_type": "stream",
     "text": [
      "더하기전 0 더한후 1\n",
      "더하기전 1 더한후 2\n",
      "더하기전 2 더한후 3\n",
      "더하기전 3 더한후 4\n",
      "더하기전 4 더한후 5\n",
      "더하기전 5 더한후 6\n",
      "더하기전 6 더한후 7\n",
      "더하기전 7 더한후 8\n",
      "더하기전 8 더한후 9\n",
      "더하기전 9 더한후 10\n",
      "55\n"
     ]
    }
   ],
   "source": [
    "i = 0\n",
    "sum_all = 0\n",
    "while i<10:\n",
    "    print(\"더하기전\",i,end=' ')\n",
    "    \n",
    "    i = i+1\n",
    "    sum_all = i+sum_all\n",
    "    print(\"더한후\",i)\n",
    "    \n",
    "print(sum_all)"
   ]
  },
  {
   "cell_type": "markdown",
   "id": "000b44be",
   "metadata": {},
   "source": [
    "# 16. 3-6-9 게임"
   ]
  },
  {
   "cell_type": "code",
   "execution_count": 43,
   "id": "36e5bcfc",
   "metadata": {},
   "outputs": [
    {
     "name": "stdout",
     "output_type": "stream",
     "text": [
      "  1   2  짝    4   5  짝    7   8  짝   10 \n",
      " 11  12  짝   14  15  짝   17  18  짝   20 \n",
      " 21  22  짝   24  25  짝   27  28  짝   30 \n",
      " 31  32  짝   34  35  짝   37  38  짝   40 \n",
      " 41  42  짝   44  45  짝   47  48  짝   50 \n",
      " 51  52  짝   54  55  짝   57  58  짝   60 \n",
      " 61  62  짝   64  65  짝   67  68  짝   70 \n",
      " 71  72  짝   74  75  짝   77  78  짝   80 \n",
      " 81  82  짝   84  85  짝   87  88  짝   90 \n",
      " 91  92  짝   94  95  짝   97  98  짝   100 \n"
     ]
    }
   ],
   "source": [
    "i = 0\n",
    "while i<100:\n",
    "    i += 1\n",
    "    if (i%10) % 3 == 0 and i%10 != 0:\n",
    "        print(\" 짝 \", end = ' ')\n",
    "    else: print(\" %2d\" %(i), end = ' ')\n",
    "    if i % 10 == 0:\n",
    "        print('')"
   ]
  },
  {
   "cell_type": "markdown",
   "id": "5fcbe6c1",
   "metadata": {},
   "source": [
    "# 17. 무한루프로 숫자 더하기"
   ]
  },
  {
   "cell_type": "code",
   "execution_count": 46,
   "id": "781c9be7",
   "metadata": {},
   "outputs": [
    {
     "name": "stdout",
     "output_type": "stream",
     "text": [
      "1\n"
     ]
    }
   ],
   "source": [
    "i = 0\n",
    "sum_all = 0 \n",
    "while True:\n",
    "    i = i+1\n",
    "    if ghvhgjv:\n",
    "        break\n",
    "print(i)\n",
    "    "
   ]
  },
  {
   "cell_type": "markdown",
   "id": "1f08e992",
   "metadata": {},
   "source": [
    "# 18. 무한루프로 연산하기"
   ]
  },
  {
   "cell_type": "code",
   "execution_count": null,
   "id": "c84da48e",
   "metadata": {},
   "outputs": [],
   "source": []
  },
  {
   "cell_type": "markdown",
   "id": "16c497fd",
   "metadata": {},
   "source": [
    "# 19. break로 무한루프 빠져나오기"
   ]
  },
  {
   "cell_type": "code",
   "execution_count": null,
   "id": "6bdb9575",
   "metadata": {},
   "outputs": [],
   "source": [
    "i = 0\n",
    "while True:\n",
    "    if i == 10:\n",
    "        break\n",
    "    i += 1"
   ]
  },
  {
   "cell_type": "markdown",
   "id": "bd49e5ad",
   "metadata": {},
   "source": [
    "# 20. 1부터 숫자를 더할때 최초로 총합이 1000이 넘는 숫자 알기"
   ]
  },
  {
   "cell_type": "code",
   "execution_count": 47,
   "id": "11dee4ba",
   "metadata": {},
   "outputs": [
    {
     "name": "stdout",
     "output_type": "stream",
     "text": [
      "45까지 더하면 총합이 1035입니다.\n"
     ]
    }
   ],
   "source": [
    "i = 0\n",
    "sum_all = 0\n",
    "while True:\n",
    "    i = i+1\n",
    "    sum_all += i\n",
    "    if sum_all > 1000:\n",
    "        break\n",
    "print(\"%d까지 더하면 총합이 %d입니다.\" %(i, sum_all))\n",
    "    "
   ]
  },
  {
   "cell_type": "markdown",
   "id": "85f38bca",
   "metadata": {},
   "source": [
    "# 성적 산출하기"
   ]
  },
  {
   "cell_type": "code",
   "execution_count": 54,
   "id": "4c2b660a",
   "metadata": {},
   "outputs": [
    {
     "name": "stdout",
     "output_type": "stream",
     "text": [
      "30.833333333333332\n"
     ]
    }
   ],
   "source": [
    "sum_all = 0\n",
    "num = 0\n",
    "for i in [20,30,40,70,110,20,130,5]:\n",
    "    if i>100 or i<0:\n",
    "        continue\n",
    "    sum_all = sum_all+i\n",
    "    num += 1\n",
    "print(sum_all/num)"
   ]
  },
  {
   "cell_type": "code",
   "execution_count": null,
   "id": "c2947eec",
   "metadata": {},
   "outputs": [],
   "source": []
  },
  {
   "cell_type": "markdown",
   "id": "9fadfeb0",
   "metadata": {},
   "source": [
    "# 21. continue문을 사용하여 1~100에서 3의 배수가 아닌 숫자들의 합 구하기"
   ]
  },
  {
   "cell_type": "code",
   "execution_count": 55,
   "id": "70967c14",
   "metadata": {},
   "outputs": [
    {
     "name": "stdout",
     "output_type": "stream",
     "text": [
      "3367\n"
     ]
    }
   ],
   "source": [
    "sum_all = 0\n",
    "for i in range(101):\n",
    "    if i % 3 != 0:\n",
    "        continue\n",
    "    sum_all += i\n",
    "print(sum_all)"
   ]
  },
  {
   "cell_type": "markdown",
   "id": "a8913d48",
   "metadata": {},
   "source": [
    "# 22. 온도변환 표 출력하기"
   ]
  },
  {
   "cell_type": "code",
   "execution_count": 60,
   "id": "b41e93ac",
   "metadata": {},
   "outputs": [
    {
     "name": "stdout",
     "output_type": "stream",
     "text": [
      "  0 --> -17.78\n",
      " 10 --> -12.22\n",
      " 20 -->  -6.67\n",
      " 30 -->  -1.11\n",
      " 40 -->   4.44\n",
      " 50 -->  10.00\n",
      " 60 -->  15.56\n",
      " 70 -->  21.11\n",
      " 80 -->  26.67\n",
      " 90 -->  32.22\n",
      "100 -->  37.78\n"
     ]
    }
   ],
   "source": [
    "for i in range(0,101,10):\n",
    "    print(\"%3d --> %6.2f\" %(i, (i-32)*5/9))"
   ]
  },
  {
   "cell_type": "code",
   "execution_count": 61,
   "id": "9b32da97",
   "metadata": {},
   "outputs": [
    {
     "name": "stdout",
     "output_type": "stream",
     "text": [
      "  0 --> -17.78\n",
      " 10 --> -12.22\n",
      " 20 -->  -6.67\n",
      " 30 -->  -1.11\n",
      " 40 -->   4.44\n",
      " 50 -->  10.00\n",
      " 60 -->  15.56\n",
      " 70 -->  21.11\n",
      " 80 -->  26.67\n",
      " 90 -->  32.22\n",
      "100 -->  37.78\n"
     ]
    }
   ],
   "source": [
    "i = 0\n",
    "while True:\n",
    "    print(\"%3d --> %6.2f\" %(i, (i-32)*5/9))\n",
    "    i += 10\n",
    "    if i == 110:\n",
    "        break"
   ]
  },
  {
   "cell_type": "markdown",
   "id": "e792d857",
   "metadata": {},
   "source": [
    "# 23. 별표(*)로 여러가지 모양 만들기"
   ]
  },
  {
   "cell_type": "code",
   "execution_count": 65,
   "id": "76756b5f",
   "metadata": {},
   "outputs": [
    {
     "name": "stdout",
     "output_type": "stream",
     "text": [
      "\n",
      "012\n",
      "012345\n",
      "012345678\n"
     ]
    }
   ],
   "source": [
    "for i in range(4):\n",
    "    for j in range(i*3):\n",
    "        print(j, end='')\n",
    "    print('')"
   ]
  },
  {
   "cell_type": "code",
   "execution_count": 72,
   "id": "f8229453",
   "metadata": {},
   "outputs": [
    {
     "name": "stdout",
     "output_type": "stream",
     "text": [
      "    *\n",
      "   ---\n",
      "  *****\n",
      " -------\n",
      "*********\n",
      " -------\n",
      "  *****\n",
      "   ---\n",
      "    *\n"
     ]
    }
   ],
   "source": [
    "print(\"    *\")\n",
    "print(\"   ---\")\n",
    "print(\"  *****\")\n",
    "print(\" -------\")\n",
    "print(\"*********\")\n",
    "print(\" -------\")\n",
    "print(\"  *****\")\n",
    "print(\"   ---\")\n",
    "print(\"    *\")\n"
   ]
  },
  {
   "cell_type": "code",
   "execution_count": 75,
   "id": "128f46b2",
   "metadata": {},
   "outputs": [
    {
     "name": "stdout",
     "output_type": "stream",
     "text": [
      "     *\n",
      "    ---\n",
      "   *****\n",
      "  -------\n",
      " *********\n",
      "  -------\n",
      "   *****\n",
      "    ---\n",
      "     *\n"
     ]
    }
   ],
   "source": [
    "for i in range(4):\n",
    "    if i % 2 == 0:\n",
    "        print(' '*(4-i),\"*\"*(2*i+1))\n",
    "    else:\n",
    "        print(' '*(4-i),\"-\"*(2*i+1))\n",
    "for i in range(5):\n",
    "    if i % 2 == 0:\n",
    "        print(' '*i,\"*\"*(9-2*i))\n",
    "    else: print(' '*i,\"-\"*(9-2*i))"
   ]
  },
  {
   "cell_type": "code",
   "execution_count": 77,
   "id": "581f30bb",
   "metadata": {},
   "outputs": [
    {
     "name": "stdout",
     "output_type": "stream",
     "text": [
      "     *\n",
      "    ---\n",
      "   *****\n",
      "  -------\n",
      " *********\n",
      "  -------\n",
      "   *****\n",
      "    ---\n",
      "     *\n"
     ]
    }
   ],
   "source": [
    "for i in range(-4,5,1):\n",
    "    if i<0:\n",
    "        if i % 2 == 0:\n",
    "            print(\" \"*-i,\"*\"*((4+i)*2+1))\n",
    "        else:print(\" \"*-i,\"-\"*((4+i)*2+1))\n",
    "    else:\n",
    "        if i % 2 == 0:\n",
    "            print(\" \"*i,\"*\"*(9-2*i))\n",
    "        else:print(\" \"*i,\"-\"*(9-2*i))"
   ]
  },
  {
   "cell_type": "code",
   "execution_count": null,
   "id": "3370f371",
   "metadata": {},
   "outputs": [],
   "source": []
  }
 ],
 "metadata": {
  "kernelspec": {
   "display_name": "Python 3",
   "language": "python",
   "name": "python3"
  },
  "language_info": {
   "codemirror_mode": {
    "name": "ipython",
    "version": 3
   },
   "file_extension": ".py",
   "mimetype": "text/x-python",
   "name": "python",
   "nbconvert_exporter": "python",
   "pygments_lexer": "ipython3",
   "version": "3.8.8"
  }
 },
 "nbformat": 4,
 "nbformat_minor": 5
}

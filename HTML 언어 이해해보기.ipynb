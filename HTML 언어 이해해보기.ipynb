{
 "cells": [
  {
   "cell_type": "markdown",
   "id": "af7372e3",
   "metadata": {},
   "source": [
    "<b>Hello HTML!</b>"
   ]
  },
  {
   "cell_type": "markdown",
   "id": "09e96f2d",
   "metadata": {},
   "source": [
    "<!DOCTYPE html>\n",
    "<html>\n",
    "    <head>\n",
    "    </head>\n",
    "    <body>\n",
    "        <b>Hello HTML!</b>\n",
    "    </body>\n",
    "</html>\n",
    "    "
   ]
  },
  {
   "cell_type": "markdown",
   "id": "d26f560a",
   "metadata": {},
   "source": [
    "<!DOCTYPE html>\n",
    "<html>\n",
    "    <head>\n",
    "        <title>HTML test</title>\n",
    "    </head>\n",
    "    <body>\n",
    "        <b>Hello HTML!</b>\n",
    "    </body>\n",
    "</html>"
   ]
  },
  {
   "cell_type": "markdown",
   "id": "f34574ae",
   "metadata": {},
   "source": [
    "<!DOCTYPE html>\n",
    "<html>\n",
    "    <head>\n",
    "        <title>HTML test</title>\n",
    "        <meta charset=\"utf-8\">\n",
    "    </head>\n",
    "    <body>\n",
    "        <b>안녕하세요</b>\n",
    "        <img src=\"python-logo.png\">\n",
    "    </body>\n",
    "</html>"
   ]
  },
  {
   "cell_type": "markdown",
   "id": "06dc18fc",
   "metadata": {},
   "source": [
    "<!DOCTYPE html>\n",
    "<html>\n",
    "    <head>\n",
    "        <title>HTML test</title>\n",
    "        <meta charset=\"utf-8\">\n",
    "    </head>\n",
    "    <body>\n",
    "        <b>안녕하세요</b><br>\n",
    "        <img src=\"python-logo.png\">\n",
    "    </body>\n",
    "</html>"
   ]
  },
  {
   "cell_type": "markdown",
   "id": "32e70fa1",
   "metadata": {},
   "source": [
    "<!DOCTYPE html>\n",
    "<html>\n",
    "    <head>\n",
    "        <title>HTML test</title>\n",
    "        <meta charset=\"utf-8\">\n",
    "    </head>\n",
    "    <body>\n",
    "        <b>안녕하세요</b><br>\n",
    "        <img src=\"python-logo.png\" id=\"python\">\n",
    "        <img src=\"python-logo.png\">\n",
    "        <img src=\"python-logo.png\">\n",
    "        \n",
    "    </body>\n",
    "</html>"
   ]
  },
  {
   "cell_type": "markdown",
   "id": "cdb838a2",
   "metadata": {},
   "source": [
    "<!DOCTYPE html>\n",
    "<html>\n",
    "    <head>\n",
    "        <title>HTML test</title>\n",
    "        <meta charset=\"utf-8\">\n",
    "    </head>\n",
    "    <body>\n",
    "        <b>안녕하세요</b><br>\n",
    "        <img src=\"python-logo.png\" id=\"python\">\n",
    "        \n",
    "        <table>\n",
    "            <thead>\n",
    "                <tr>\n",
    "                    <th>title</th>\n",
    "                </tr>\n",
    "            <thead>\n",
    "            <tbody>\n",
    "                <tr>\n",
    "                    <td>안녕</td>\n",
    "                </tr>\n",
    "            </tbody>\n",
    "        </table>\n",
    "        \n",
    "    </body>\n",
    "</html>"
   ]
  },
  {
   "cell_type": "markdown",
   "id": "02c4610f",
   "metadata": {},
   "source": [
    "<!DOCTYPE html>\n",
    "<html>\n",
    "    <head>\n",
    "        <title>HTML test</title>\n",
    "        <meta charset=\"utf-8\">\n",
    "    </head>\n",
    "    <body>\n",
    "        <b>안녕하세요</b><br>\n",
    "        <img src=\"python-logo.png\" id=\"python\">\n",
    "        \n",
    "        <table border=\"1\">\n",
    "            <thead>\n",
    "                <tr>\n",
    "                    <th>title</th>\n",
    "                </tr>\n",
    "            <thead>\n",
    "            <tbody>\n",
    "                <tr>\n",
    "                    <td>안녕</td>\n",
    "                </tr>\n",
    "            </tbody>\n",
    "        </table>\n",
    "        \n",
    "    </body>\n",
    "</html>"
   ]
  },
  {
   "cell_type": "markdown",
   "id": "836bb2c5",
   "metadata": {},
   "source": [
    "<!DOCTYPE html>\n",
    "<html>\n",
    "    <head>\n",
    "        <title>HTML test</title>\n",
    "        <meta charset=\"utf-8\">\n",
    "    </head>\n",
    "    <body>\n",
    "        <b>안녕하세요</b><br>\n",
    "        <img src=\"python-logo.png\" id=\"python\">\n",
    "        \n",
    "        <table border=\"1\">\n",
    "            <thead>\n",
    "                <tr>\n",
    "                    <th>title1</th>\n",
    "                    <th>title2</th>\n",
    "                </tr>\n",
    "            <thead>\n",
    "            <tbody>\n",
    "                <tr>\n",
    "                    <td>안녕</td>\n",
    "                    <td>hello</td>\n",
    "                </tr>\n",
    "            </tbody>\n",
    "        </table>\n",
    "        \n",
    "    </body>\n",
    "</html>"
   ]
  },
  {
   "cell_type": "markdown",
   "id": "0305854d",
   "metadata": {},
   "source": [
    "# CSS"
   ]
  },
  {
   "cell_type": "markdown",
   "id": "de70594e",
   "metadata": {},
   "source": [
    "## Style 속성으로 태그에 넣기"
   ]
  },
  {
   "cell_type": "markdown",
   "id": "f2ae1ba4",
   "metadata": {},
   "source": [
    "<!DOCTYPE html>\n",
    "<html>\n",
    "    <head>\n",
    "        <title>HTML test</title>\n",
    "        <meta charset=\"utf-8\">\n",
    "    </head>\n",
    "    <body>\n",
    "        <b>안녕하세요</b><br>\n",
    "        <img src=\"python-logo.png\" id=\"python\">\n",
    "        \n",
    "        <table border=\"1\">\n",
    "            <thead>\n",
    "                <tr>\n",
    "                    <th>title1</th>\n",
    "                    <th>title2</th>\n",
    "                </tr>\n",
    "            <thead>\n",
    "            <tbody>\n",
    "                <tr>\n",
    "                    <td style=\"text-align:center;color:blue\">안녕</td>\n",
    "                    <td>hello</td>\n",
    "                </tr>\n",
    "            </tbody>\n",
    "        </table>\n",
    "        \n",
    "    </body>\n",
    "</html>"
   ]
  },
  {
   "cell_type": "markdown",
   "id": "03875f7e",
   "metadata": {},
   "source": [
    "## 표 길이 넓히기"
   ]
  },
  {
   "cell_type": "markdown",
   "id": "5a2a34a0",
   "metadata": {},
   "source": [
    "<!DOCTYPE html>\n",
    "<html>\n",
    "    <head>\n",
    "        <title>HTML test</title>\n",
    "        <meta charset=\"utf-8\">\n",
    "    </head>\n",
    "    <body>\n",
    "        <b>안녕하세요</b><br>\n",
    "        <img src=\"python-logo.png\" id=\"python\">\n",
    "        \n",
    "        <table border=\"1\" width=\"200\">\n",
    "            <thead>\n",
    "                <tr>\n",
    "                    <th>title1</th>\n",
    "                    <th>title2</th>\n",
    "                </tr>\n",
    "            <thead>\n",
    "            <tbody>\n",
    "                <tr>\n",
    "                    <td style=\"text-align:center;color:blue\">안녕</td>\n",
    "                    <td>hello</td>\n",
    "                </tr>\n",
    "            </tbody>\n",
    "        </table>\n",
    "        \n",
    "    </body>\n",
    "</html>"
   ]
  },
  {
   "cell_type": "markdown",
   "id": "b0773a3e",
   "metadata": {},
   "source": [
    "## head 안에 style태그로 넣기"
   ]
  },
  {
   "cell_type": "markdown",
   "id": "1165de74",
   "metadata": {},
   "source": [
    "<!DOCTYPE html>\n",
    "<html>\n",
    "    <head>\n",
    "        <title>HTML test</title>\n",
    "        <meta charset=\"utf-8\">\n",
    "        <style type=\"text/css\">\n",
    "            td {\n",
    "                font-size: 2em;\n",
    "                font-family: Gulim;\n",
    "                text-align: center;\n",
    "            }\n",
    "        </style>\n",
    "    </head>\n",
    "    <body>\n",
    "        <b>안녕하세요</b><br>\n",
    "        <img src=\"python-logo.png\" id=\"python\">\n",
    "        \n",
    "        <table border=\"1\" width=\"200\">\n",
    "            <thead>\n",
    "                <tr>\n",
    "                    <th>title1</th>\n",
    "                    <th>title2</th>\n",
    "                </tr>\n",
    "            <thead>\n",
    "            <tbody>\n",
    "                <tr>\n",
    "                    <td style=\"text-align:center;color:blue\">안녕</td>\n",
    "                    <td>hello</td>\n",
    "                </tr>\n",
    "            </tbody>\n",
    "        </table>\n",
    "    </body>\n",
    "</html>"
   ]
  },
  {
   "cell_type": "markdown",
   "id": "f0f667c5",
   "metadata": {},
   "source": [
    "## 별도의 CSS파일 저장해서 불러오기"
   ]
  },
  {
   "cell_type": "markdown",
   "id": "8f3161cd",
   "metadata": {},
   "source": [
    "<!DOCTYPE html>\n",
    "<html>\n",
    "    <head>\n",
    "        <title>HTML test</title>\n",
    "        <meta charset=\"utf-8\">\n",
    "        <link rel=\"stylesheet\" type=\"text/css\" href=\"style.css\">\n",
    "    </head>\n",
    "    <body>\n",
    "        <b>안녕하세요</b><br>\n",
    "        <img src=\"python-logo.png\" id=\"python\">\n",
    "        \n",
    "        <table border=\"1\" width=\"200\">\n",
    "            <thead>\n",
    "                <tr>\n",
    "                    <th>title1</th>\n",
    "                    <th>title2</th>\n",
    "                </tr>\n",
    "            <thead>\n",
    "            <tbody>\n",
    "                <tr>\n",
    "                    <td style=\"text-align:center;color:blue\">안녕</td>\n",
    "                    <td>hello</td>\n",
    "                </tr>\n",
    "            </tbody>\n",
    "        </table>\n",
    "        \n",
    "    </body>\n",
    "</html>"
   ]
  },
  {
   "cell_type": "markdown",
   "id": "9befd4c7",
   "metadata": {},
   "source": [
    "<!DOCTYPE html>\n",
    "<html>\n",
    "    <head>\n",
    "        <title>HTML test</title>\n",
    "        <meta charset=\"utf-8\">\n",
    "        <link rel=\"stylesheet\" type=\"text/css\" href=\"style.css\">\n",
    "    </head>\n",
    "    <body>\n",
    "        <b>안녕하세요</b><br>\n",
    "        <img src=\"python-logo.png\" id=\"python\">\n",
    "        \n",
    "        <table border=\"1\" width=\"200\">\n",
    "            <thead>\n",
    "                <tr>\n",
    "                    <th>title1</th>\n",
    "                    <th>title2</th>\n",
    "                </tr>\n",
    "            <thead>\n",
    "            <tbody>\n",
    "                <tr>\n",
    "                    <td class=\"highlight\">안녕</td>\n",
    "                    <td>hello</td>\n",
    "                </tr>\n",
    "            </tbody>\n",
    "        </table>\n",
    "        \n",
    "    </body>\n",
    "</html>"
   ]
  },
  {
   "cell_type": "code",
   "execution_count": null,
   "id": "905cb62e",
   "metadata": {},
   "outputs": [],
   "source": [
    "\n",
    ".highlight{\n",
    "\tfont-size: 3em;\n",
    "\ttext-align: right;\n",
    "\tcolor: blueviolet;\n",
    "}"
   ]
  }
 ],
 "metadata": {
  "kernelspec": {
   "display_name": "Python 3",
   "language": "python",
   "name": "python3"
  },
  "language_info": {
   "codemirror_mode": {
    "name": "ipython",
    "version": 3
   },
   "file_extension": ".py",
   "mimetype": "text/x-python",
   "name": "python",
   "nbconvert_exporter": "python",
   "pygments_lexer": "ipython3",
   "version": "3.8.8"
  }
 },
 "nbformat": 4,
 "nbformat_minor": 5
}

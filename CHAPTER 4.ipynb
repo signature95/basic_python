{
 "cells": [
  {
   "cell_type": "markdown",
   "id": "98338f9c",
   "metadata": {},
   "source": [
    "# 1. 잔돈 교환"
   ]
  },
  {
   "cell_type": "code",
   "execution_count": 7,
   "id": "07371f11",
   "metadata": {},
   "outputs": [
    {
     "name": "stdout",
     "output_type": "stream",
     "text": [
      "True\n",
      "100\n"
     ]
    }
   ],
   "source": [
    "a = 100\n",
    "b = 100\n",
    "c = (a==b)\n",
    "print(c)\n",
    "print(c*a)"
   ]
  },
  {
   "cell_type": "code",
   "execution_count": 10,
   "id": "62934960",
   "metadata": {},
   "outputs": [
    {
     "name": "stdout",
     "output_type": "stream",
     "text": [
      "13\n"
     ]
    }
   ],
   "source": [
    "a = 10\n",
    "b = 7\n",
    "print(a ^ b)"
   ]
  },
  {
   "cell_type": "code",
   "execution_count": 13,
   "id": "bd4b12da",
   "metadata": {},
   "outputs": [
    {
     "name": "stdout",
     "output_type": "stream",
     "text": [
      "A\n",
      "65\n"
     ]
    }
   ],
   "source": [
    "num = chr(65)\n",
    "print(num)\n",
    "num = ord(num)\n",
    "print(num)"
   ]
  },
  {
   "cell_type": "code",
   "execution_count": 5,
   "id": "11a7326d",
   "metadata": {},
   "outputs": [
    {
     "name": "stdout",
     "output_type": "stream",
     "text": [
      "교환할 돈은 얼마 ? 787699\n",
      "\n",
      " 50000원짜리 ==> 15장\n",
      " 10000원짜리   ==> 3장 \n",
      " 5000원짜리 ==> 1장 \n",
      " 1000원짜리   ==> 2장 \n",
      " 바꾸지 못한 잔돈 ==> 699원\n"
     ]
    }
   ],
   "source": [
    "## 변수 선언 부분 ##\n",
    "money, c50000, c10000, c5000, c1000 = 0, 0, 0, 0, 0\n",
    "\n",
    "## 메인 코드 부분 ##\n",
    "money=int(input(\"교환할 돈은 얼마 ? \"))\n",
    "\n",
    "c500 = money // 50000\n",
    "money %= 50000\n",
    "\n",
    "c100 = money // 10000\n",
    "money %= 10000\n",
    "\n",
    "c50 = money // 5000\n",
    "money %= 5000\n",
    "\n",
    "c10 = money // 1000\n",
    "money %= 1000\n",
    "\n",
    "print(\"\\n 50000원짜리 ==> %d장\" % c500)\n",
    "print(\" 10000원짜리   ==> %d장 \" % c100)\n",
    "print(\" 5000원짜리 ==> %d장 \" % c50)\n",
    "print(\" 1000원짜리   ==> %d장 \" % c10)\n",
    "print(\" 바꾸지 못한 잔돈 ==> %d원\" % money)\n",
    "\n"
   ]
  },
  {
   "cell_type": "markdown",
   "id": "1e93ecf6",
   "metadata": {},
   "source": [
    "# 2. 마음대로 돌아다니는 거북이"
   ]
  },
  {
   "cell_type": "code",
   "execution_count": 2,
   "id": "82817ad6",
   "metadata": {},
   "outputs": [
    {
     "ename": "Terminator",
     "evalue": "",
     "output_type": "error",
     "traceback": [
      "\u001b[0;31m---------------------------------------------------------------------------\u001b[0m",
      "\u001b[0;31mTerminator\u001b[0m                                Traceback (most recent call last)",
      "\u001b[0;32m<ipython-input-2-79c56f6a9e70>\u001b[0m in \u001b[0;36m<module>\u001b[0;34m\u001b[0m\n\u001b[1;32m     21\u001b[0m     \u001b[0mangle\u001b[0m \u001b[0;34m=\u001b[0m  \u001b[0mrandom\u001b[0m\u001b[0;34m.\u001b[0m\u001b[0mrandrange\u001b[0m\u001b[0;34m(\u001b[0m\u001b[0;36m0\u001b[0m\u001b[0;34m,\u001b[0m\u001b[0;36m360\u001b[0m\u001b[0;34m)\u001b[0m\u001b[0;34m\u001b[0m\u001b[0;34m\u001b[0m\u001b[0m\n\u001b[1;32m     22\u001b[0m     \u001b[0mdist\u001b[0m \u001b[0;34m=\u001b[0m \u001b[0mrandom\u001b[0m\u001b[0;34m.\u001b[0m\u001b[0mrandrange\u001b[0m\u001b[0;34m(\u001b[0m\u001b[0;36m1\u001b[0m\u001b[0;34m,\u001b[0m\u001b[0;36m100\u001b[0m\u001b[0;34m)\u001b[0m\u001b[0;34m\u001b[0m\u001b[0;34m\u001b[0m\u001b[0m\n\u001b[0;32m---> 23\u001b[0;31m     \u001b[0mturtle\u001b[0m\u001b[0;34m.\u001b[0m\u001b[0mleft\u001b[0m\u001b[0;34m(\u001b[0m\u001b[0mangle\u001b[0m\u001b[0;34m)\u001b[0m\u001b[0;34m\u001b[0m\u001b[0;34m\u001b[0m\u001b[0m\n\u001b[0m\u001b[1;32m     24\u001b[0m     \u001b[0mturtle\u001b[0m\u001b[0;34m.\u001b[0m\u001b[0mforward\u001b[0m\u001b[0;34m(\u001b[0m\u001b[0mdist\u001b[0m\u001b[0;34m)\u001b[0m\u001b[0;34m\u001b[0m\u001b[0;34m\u001b[0m\u001b[0m\n\u001b[1;32m     25\u001b[0m     \u001b[0mcurX\u001b[0m \u001b[0;34m=\u001b[0m \u001b[0mturtle\u001b[0m\u001b[0;34m.\u001b[0m\u001b[0mxcor\u001b[0m\u001b[0;34m(\u001b[0m\u001b[0;34m)\u001b[0m\u001b[0;34m\u001b[0m\u001b[0;34m\u001b[0m\u001b[0m\n",
      "\u001b[0;32m/opt/anaconda3/lib/python3.8/turtle.py\u001b[0m in \u001b[0;36mleft\u001b[0;34m(angle)\u001b[0m\n",
      "\u001b[0;32m/opt/anaconda3/lib/python3.8/turtle.py\u001b[0m in \u001b[0;36mleft\u001b[0;34m(self, angle)\u001b[0m\n\u001b[1;32m   1698\u001b[0m         \u001b[0;36m67.0\u001b[0m\u001b[0;34m\u001b[0m\u001b[0;34m\u001b[0m\u001b[0m\n\u001b[1;32m   1699\u001b[0m         \"\"\"\n\u001b[0;32m-> 1700\u001b[0;31m         \u001b[0mself\u001b[0m\u001b[0;34m.\u001b[0m\u001b[0m_rotate\u001b[0m\u001b[0;34m(\u001b[0m\u001b[0mangle\u001b[0m\u001b[0;34m)\u001b[0m\u001b[0;34m\u001b[0m\u001b[0;34m\u001b[0m\u001b[0m\n\u001b[0m\u001b[1;32m   1701\u001b[0m \u001b[0;34m\u001b[0m\u001b[0m\n\u001b[1;32m   1702\u001b[0m     \u001b[0;32mdef\u001b[0m \u001b[0mpos\u001b[0m\u001b[0;34m(\u001b[0m\u001b[0mself\u001b[0m\u001b[0;34m)\u001b[0m\u001b[0;34m:\u001b[0m\u001b[0;34m\u001b[0m\u001b[0;34m\u001b[0m\u001b[0m\n",
      "\u001b[0;32m/opt/anaconda3/lib/python3.8/turtle.py\u001b[0m in \u001b[0;36m_rotate\u001b[0;34m(self, angle)\u001b[0m\n\u001b[1;32m   3275\u001b[0m             \u001b[0;32mfor\u001b[0m \u001b[0m_\u001b[0m \u001b[0;32min\u001b[0m \u001b[0mrange\u001b[0m\u001b[0;34m(\u001b[0m\u001b[0msteps\u001b[0m\u001b[0;34m)\u001b[0m\u001b[0;34m:\u001b[0m\u001b[0;34m\u001b[0m\u001b[0;34m\u001b[0m\u001b[0m\n\u001b[1;32m   3276\u001b[0m                 \u001b[0mself\u001b[0m\u001b[0;34m.\u001b[0m\u001b[0m_orient\u001b[0m \u001b[0;34m=\u001b[0m \u001b[0mself\u001b[0m\u001b[0;34m.\u001b[0m\u001b[0m_orient\u001b[0m\u001b[0;34m.\u001b[0m\u001b[0mrotate\u001b[0m\u001b[0;34m(\u001b[0m\u001b[0mdelta\u001b[0m\u001b[0;34m)\u001b[0m\u001b[0;34m\u001b[0m\u001b[0;34m\u001b[0m\u001b[0m\n\u001b[0;32m-> 3277\u001b[0;31m                 \u001b[0mself\u001b[0m\u001b[0;34m.\u001b[0m\u001b[0m_update\u001b[0m\u001b[0;34m(\u001b[0m\u001b[0;34m)\u001b[0m\u001b[0;34m\u001b[0m\u001b[0;34m\u001b[0m\u001b[0m\n\u001b[0m\u001b[1;32m   3278\u001b[0m         \u001b[0mself\u001b[0m\u001b[0;34m.\u001b[0m\u001b[0m_orient\u001b[0m \u001b[0;34m=\u001b[0m \u001b[0mneworient\u001b[0m\u001b[0;34m\u001b[0m\u001b[0;34m\u001b[0m\u001b[0m\n\u001b[1;32m   3279\u001b[0m         \u001b[0mself\u001b[0m\u001b[0;34m.\u001b[0m\u001b[0m_update\u001b[0m\u001b[0;34m(\u001b[0m\u001b[0;34m)\u001b[0m\u001b[0;34m\u001b[0m\u001b[0;34m\u001b[0m\u001b[0m\n",
      "\u001b[0;32m/opt/anaconda3/lib/python3.8/turtle.py\u001b[0m in \u001b[0;36m_update\u001b[0;34m(self)\u001b[0m\n\u001b[1;32m   2659\u001b[0m             \u001b[0;32mreturn\u001b[0m\u001b[0;34m\u001b[0m\u001b[0;34m\u001b[0m\u001b[0m\n\u001b[1;32m   2660\u001b[0m         \u001b[0;32melif\u001b[0m \u001b[0mscreen\u001b[0m\u001b[0;34m.\u001b[0m\u001b[0m_tracing\u001b[0m \u001b[0;34m==\u001b[0m \u001b[0;36m1\u001b[0m\u001b[0;34m:\u001b[0m\u001b[0;34m\u001b[0m\u001b[0;34m\u001b[0m\u001b[0m\n\u001b[0;32m-> 2661\u001b[0;31m             \u001b[0mself\u001b[0m\u001b[0;34m.\u001b[0m\u001b[0m_update_data\u001b[0m\u001b[0;34m(\u001b[0m\u001b[0;34m)\u001b[0m\u001b[0;34m\u001b[0m\u001b[0;34m\u001b[0m\u001b[0m\n\u001b[0m\u001b[1;32m   2662\u001b[0m             \u001b[0mself\u001b[0m\u001b[0;34m.\u001b[0m\u001b[0m_drawturtle\u001b[0m\u001b[0;34m(\u001b[0m\u001b[0;34m)\u001b[0m\u001b[0;34m\u001b[0m\u001b[0;34m\u001b[0m\u001b[0m\n\u001b[1;32m   2663\u001b[0m             \u001b[0mscreen\u001b[0m\u001b[0;34m.\u001b[0m\u001b[0m_update\u001b[0m\u001b[0;34m(\u001b[0m\u001b[0;34m)\u001b[0m                  \u001b[0;31m# TurtleScreenBase\u001b[0m\u001b[0;34m\u001b[0m\u001b[0;34m\u001b[0m\u001b[0m\n",
      "\u001b[0;32m/opt/anaconda3/lib/python3.8/turtle.py\u001b[0m in \u001b[0;36m_update_data\u001b[0;34m(self)\u001b[0m\n\u001b[1;32m   2645\u001b[0m \u001b[0;34m\u001b[0m\u001b[0m\n\u001b[1;32m   2646\u001b[0m     \u001b[0;32mdef\u001b[0m \u001b[0m_update_data\u001b[0m\u001b[0;34m(\u001b[0m\u001b[0mself\u001b[0m\u001b[0;34m)\u001b[0m\u001b[0;34m:\u001b[0m\u001b[0;34m\u001b[0m\u001b[0;34m\u001b[0m\u001b[0m\n\u001b[0;32m-> 2647\u001b[0;31m         \u001b[0mself\u001b[0m\u001b[0;34m.\u001b[0m\u001b[0mscreen\u001b[0m\u001b[0;34m.\u001b[0m\u001b[0m_incrementudc\u001b[0m\u001b[0;34m(\u001b[0m\u001b[0;34m)\u001b[0m\u001b[0;34m\u001b[0m\u001b[0;34m\u001b[0m\u001b[0m\n\u001b[0m\u001b[1;32m   2648\u001b[0m         \u001b[0;32mif\u001b[0m \u001b[0mself\u001b[0m\u001b[0;34m.\u001b[0m\u001b[0mscreen\u001b[0m\u001b[0;34m.\u001b[0m\u001b[0m_updatecounter\u001b[0m \u001b[0;34m!=\u001b[0m \u001b[0;36m0\u001b[0m\u001b[0;34m:\u001b[0m\u001b[0;34m\u001b[0m\u001b[0;34m\u001b[0m\u001b[0m\n\u001b[1;32m   2649\u001b[0m             \u001b[0;32mreturn\u001b[0m\u001b[0;34m\u001b[0m\u001b[0;34m\u001b[0m\u001b[0m\n",
      "\u001b[0;32m/opt/anaconda3/lib/python3.8/turtle.py\u001b[0m in \u001b[0;36m_incrementudc\u001b[0;34m(self)\u001b[0m\n\u001b[1;32m   1291\u001b[0m         \u001b[0;32mif\u001b[0m \u001b[0;32mnot\u001b[0m \u001b[0mTurtleScreen\u001b[0m\u001b[0;34m.\u001b[0m\u001b[0m_RUNNING\u001b[0m\u001b[0;34m:\u001b[0m\u001b[0;34m\u001b[0m\u001b[0;34m\u001b[0m\u001b[0m\n\u001b[1;32m   1292\u001b[0m             \u001b[0mTurtleScreen\u001b[0m\u001b[0;34m.\u001b[0m\u001b[0m_RUNNING\u001b[0m \u001b[0;34m=\u001b[0m \u001b[0;32mTrue\u001b[0m\u001b[0;34m\u001b[0m\u001b[0;34m\u001b[0m\u001b[0m\n\u001b[0;32m-> 1293\u001b[0;31m             \u001b[0;32mraise\u001b[0m \u001b[0mTerminator\u001b[0m\u001b[0;34m\u001b[0m\u001b[0;34m\u001b[0m\u001b[0m\n\u001b[0m\u001b[1;32m   1294\u001b[0m         \u001b[0;32mif\u001b[0m \u001b[0mself\u001b[0m\u001b[0;34m.\u001b[0m\u001b[0m_tracing\u001b[0m \u001b[0;34m>\u001b[0m \u001b[0;36m0\u001b[0m\u001b[0;34m:\u001b[0m\u001b[0;34m\u001b[0m\u001b[0;34m\u001b[0m\u001b[0m\n\u001b[1;32m   1295\u001b[0m             \u001b[0mself\u001b[0m\u001b[0;34m.\u001b[0m\u001b[0m_updatecounter\u001b[0m \u001b[0;34m+=\u001b[0m \u001b[0;36m1\u001b[0m\u001b[0;34m\u001b[0m\u001b[0;34m\u001b[0m\u001b[0m\n",
      "\u001b[0;31mTerminator\u001b[0m: "
     ]
    }
   ],
   "source": [
    "import turtle\n",
    "import random\n",
    "\n",
    "## 전역 변수 선언 부분 ##\n",
    "swidth, sheight, pSize, exitCount = 300, 300, 3, 0\n",
    "r, g, b, angle, dist, curX, curY = [0] * 7\n",
    "\n",
    "## 메인 코드 부분 ##\n",
    "turtle.title('거북이가 맘대로 다니기')\n",
    "turtle.shape('turtle')\n",
    "turtle.pensize(pSize)\n",
    "turtle.setup(width=swidth+30, height=sheight+30)\n",
    "turtle.screensize(swidth, sheight)\n",
    "\n",
    "while True :\n",
    "    r = random.random()\n",
    "    g = random.random()\n",
    "    b = random.random()\n",
    "    turtle.pencolor((r, g, b))\n",
    "    \n",
    "    angle =  random.randrange(0,360)\n",
    "    dist = random.randrange(1,100)\n",
    "    turtle.left(angle)\n",
    "    turtle.forward(dist)\n",
    "    curX = turtle.xcor()\n",
    "    curY = turtle.ycor()\n",
    "\n",
    "    if (-swidth / 2 <= curX and curX <= swidth / 2) and (-sheight / 2<= curY and curY <= sheight / 2) :\n",
    "        pass\n",
    "    else :\n",
    "        turtle.penup()\n",
    "        turtle.goto( 0, 0 )\n",
    "        turtle.pendown()\n",
    "        \n",
    "        exitCount += 1\n",
    "        if exitCount >= 5 :\n",
    "            break\n",
    "\n",
    "turtle.done()\n",
    "\n"
   ]
  },
  {
   "cell_type": "markdown",
   "id": "6fb25368",
   "metadata": {},
   "source": [
    "# 3. 아스키코드 변환"
   ]
  },
  {
   "cell_type": "code",
   "execution_count": 16,
   "id": "f379c697",
   "metadata": {},
   "outputs": [
    {
     "name": "stdout",
     "output_type": "stream",
     "text": [
      "41 & f = 1\n",
      "41 | F = 4F\n",
      "A ^ 32 = a\n",
      "a ^ 32 = A\n"
     ]
    }
   ],
   "source": [
    "a = ord('A') # 65 = 0b1000001\n",
    "mask = 0x0F  # 15 = 0b0001111\n",
    " \n",
    "print(\"%x & %x = %x\" % (a, mask, a & mask)) #0b0000001\n",
    "print(\"%X | %X = %X\" % (a, mask, a | mask)) #0b1001111\n",
    "\n",
    "mask = ord('a') - ord('A') #97-65=32 = 0b0100000\n",
    "#   a = 0b1000001\n",
    "#mask = 0b0100000\n",
    "b = a ^ mask #0b1100001 = 97\n",
    "print(\"%c ^ %d = %c\" % (a, mask, b))\n",
    "a = b ^ mask #0b1000001 = 65\n",
    "print(\"%c ^ %d = %c\" % (b, mask, a))\n",
    "\n",
    "\n"
   ]
  },
  {
   "cell_type": "markdown",
   "id": "57054382",
   "metadata": {},
   "source": [
    "# 4. 비트 수 만큼 이동"
   ]
  },
  {
   "cell_type": "code",
   "execution_count": 4,
   "id": "65474e81",
   "metadata": {},
   "outputs": [
    {
     "name": "stdout",
     "output_type": "stream",
     "text": [
      "100 << 1 = 200\n",
      "100 << 2 = 400\n",
      "100 << 3 = 800\n",
      "100 << 4 = 1600\n",
      "100 >> 1 = 50\n",
      "100 >> 2 = 25\n",
      "100 >> 3 = 12\n",
      "100 >> 4 = 6\n"
     ]
    }
   ],
   "source": [
    "a = 100 # 0b1100100\n",
    "result = 0\n",
    "i = 0\n",
    "\n",
    "for i in range(1, 5) :\n",
    "    result = a << i\n",
    "    print(\"%d << %d = %d\" % (a, i, result))\n",
    "\n",
    "for i in range(1, 5) :\n",
    "    result = a >> i\n",
    "    print(\"%d >> %d = %d\" % (a, i, result))\n",
    "\n"
   ]
  },
  {
   "cell_type": "markdown",
   "id": "e2284b6e",
   "metadata": {},
   "source": [
    "# 5. 윤년 판별"
   ]
  },
  {
   "cell_type": "code",
   "execution_count": 5,
   "id": "d0a52f62",
   "metadata": {},
   "outputs": [
    {
     "name": "stdout",
     "output_type": "stream",
     "text": [
      "연도를 입력하세요1092\n",
      "1092 년은 윤년입니다.\n"
     ]
    }
   ],
   "source": [
    "year =0;\n",
    "\n",
    "year = int (input('연도를 입력하세요'))\n",
    "\n",
    "\n",
    "if (((year %4 ==0) and (year  %100 !=0)) or (year %400==0))  :\n",
    "               print(\"%d 년은 윤년입니다.\" %year)\n",
    "\n",
    "else :\n",
    "                print(\"%d 년은 윤년이 아닙니다.\" %year)\n",
    "            \n",
    "\n"
   ]
  },
  {
   "cell_type": "markdown",
   "id": "a5c484bd",
   "metadata": {},
   "source": [
    "# 6. 비트별 출력 계산기"
   ]
  },
  {
   "cell_type": "code",
   "execution_count": 21,
   "id": "5f8c43e7",
   "metadata": {},
   "outputs": [
    {
     "name": "stdout",
     "output_type": "stream",
     "text": [
      "첫번 째 숫자를 입력해 주세요 : 2\n",
      "두번 째 숫자를 입력해 주세요 : 1\n",
      "16진법 더하기 : 0x3 빼기 : 0x1 곱하기 : 0x2\n",
      "8진법 더하기 : 0o3 빼기 : 0o1 곱하기 : 0o2\n",
      "2진법 더하기 : 0b11 빼기 : 0b1 곱하기 : 0b10\n"
     ]
    }
   ],
   "source": [
    "num1 = int(input(\"첫번 째 숫자를 입력해 주세요 : \"))\n",
    "num2 = int(input(\"두번 째 숫자를 입력해 주세요 : \"))\n",
    "\n",
    "add = num1+num2\n",
    "minus = num1-num2\n",
    "multiply = num1*num2\n",
    "print(\"16진법 더하기 : %s 빼기 : %s 곱하기 : %s\" %(hex(add), hex(minus), hex(multiply)))\n",
    "print(\"8진법 더하기 : %s 빼기 : %s 곱하기 : %s\" %(oct(add), oct(minus), oct(multiply)))\n",
    "print(\"2진법 더하기 : %s 빼기 : %s 곱하기 : %s\" %(bin(add), bin(minus), bin(multiply)))"
   ]
  },
  {
   "cell_type": "code",
   "execution_count": null,
   "id": "a5c6005d",
   "metadata": {},
   "outputs": [],
   "source": []
  }
 ],
 "metadata": {
  "kernelspec": {
   "display_name": "Python 3",
   "language": "python",
   "name": "python3"
  },
  "language_info": {
   "codemirror_mode": {
    "name": "ipython",
    "version": 3
   },
   "file_extension": ".py",
   "mimetype": "text/x-python",
   "name": "python",
   "nbconvert_exporter": "python",
   "pygments_lexer": "ipython3",
   "version": "3.8.8"
  }
 },
 "nbformat": 4,
 "nbformat_minor": 5
}
